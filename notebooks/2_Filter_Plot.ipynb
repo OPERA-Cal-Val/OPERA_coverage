{
 "cells": [
  {
   "cell_type": "code",
   "execution_count": 1,
   "id": "eda70a41",
   "metadata": {},
   "outputs": [
    {
     "data": {
      "text/html": [
       "<style>.container { width:98% !important; }</style>"
      ],
      "text/plain": [
       "<IPython.core.display.HTML object>"
      ]
     },
     "execution_count": 1,
     "metadata": {},
     "output_type": "execute_result"
    }
   ],
   "source": [
    "from IPython.core.display import HTML\n",
    "HTML(\"<style>.container { width:98% !important; }</style>\")"
   ]
  },
  {
   "cell_type": "code",
   "execution_count": 2,
   "id": "af4476c1",
   "metadata": {},
   "outputs": [],
   "source": [
    "%load_ext autoreload\n",
    "%autoreload 2"
   ]
  },
  {
   "cell_type": "code",
   "execution_count": 16,
   "id": "60f08bf5",
   "metadata": {},
   "outputs": [],
   "source": [
    "import matplotlib.pyplot as plt\n",
    "import contextily as cx\n",
    "from rasterio.crs import CRS\n",
    "from pathlib import Path\n",
    "import pickle\n",
    "from shapely.geometry import Polygon\n",
    "from geopandas import gpd\n",
    "import numpy as np"
   ]
  },
  {
   "cell_type": "code",
   "execution_count": 4,
   "id": "15ef2630",
   "metadata": {},
   "outputs": [],
   "source": [
    "def calculate_averages(results, df_points):\n",
    "    \n",
    "    df_temp = df_points.copy()\n",
    "    av_cad_hours = []\n",
    "#     avail_sensors = []\n",
    "    n_avail_sensors = []\n",
    "    av_cad_hours += [i.cadence.mean().seconds/3600 if type(i) is not str else np.nan for i in results]\n",
    "#     avail_sensors += [i.sensor.unique() if type(i) is not str else '' for i in results]\n",
    "    n_avail_sensors += [len(i.sensor.unique()) if type(i) is not str else np.nan for i in results]\n",
    "    \n",
    "            \n",
    "    df_temp['av_cad_hours'] = results.groupby(['cx','cy']).mean().reset_index(drop=True).cadence.seconds / 3600\n",
    "#     df_temp['av_cad_hours'] = av_cad_hours\n",
    "#     df_temp['avail_sensors'] = avail_sensors\n",
    "    df_temp['n_avail_sensors'] = n_avail_sensors\n",
    "    \n",
    "    return df_temp"
   ]
  },
  {
   "cell_type": "code",
   "execution_count": 5,
   "id": "5c712be8",
   "metadata": {},
   "outputs": [],
   "source": [
    "# Re-grid results to 1x1 degree cells\n",
    "def regrid(df_temp: gpd.GeoDataFrame) -> gpd.GeoDataFrame:\n",
    "    \n",
    "    df_temp['lon'] = df_temp.geometry.map(get_lon)\n",
    "    df_temp['lat'] = df_temp.geometry.map(get_lat)\n",
    "    \n",
    "    return df_temp\n",
    "\n",
    "# Use geodataframe groupby function to aggregate rows to 1 by 1 degree box\n",
    "def aggregator(df_temp: gpd.GeoDataFrame) -> gpd.GeoDataFrame:\n",
    "    df_ag = df_temp.groupby(['lon', 'lat']).mean().reset_index()\n",
    "    geom = df_ag.apply(make_box, axis=1)\n",
    "    df_ag = gpd.GeoDataFrame(df_ag,\n",
    "                             geometry=geom,\n",
    "                             crs = CRS.from_epsg(4326))\n",
    "    return df_ag"
   ]
  },
  {
   "cell_type": "code",
   "execution_count": 20,
   "id": "b338c720",
   "metadata": {},
   "outputs": [
    {
     "name": "stdout",
     "output_type": "stream",
     "text": [
      "[PosixPath('../output_dfs/Africa_points_results.pkl'), PosixPath('../output_dfs/Africa_results.pkl'), PosixPath('../output_dfs/Asia_points_results.pkl'), PosixPath('../output_dfs/Asia_results.pkl'), PosixPath('../output_dfs/Europe_points_results.pkl'), PosixPath('../output_dfs/Europe_results.pkl'), PosixPath('../output_dfs/North America_points_results.pkl'), PosixPath('../output_dfs/North_America_results.pkl'), PosixPath('../output_dfs/Oceania_points_results.pkl'), PosixPath('../output_dfs/Oceania_results.pkl'), PosixPath('../output_dfs/South America_points_results.pkl'), PosixPath('../output_dfs/South_America_results.pkl')]\n"
     ]
    }
   ],
   "source": [
    "output_path = Path('../output_dfs')\n",
    "dfs = sorted(list(output_path.glob('*.pkl')))\n",
    "print(dfs)"
   ]
  },
  {
   "cell_type": "code",
   "execution_count": 52,
   "id": "ead3f760",
   "metadata": {},
   "outputs": [
    {
     "name": "stdout",
     "output_type": "stream",
     "text": [
      "../output_dfs/Africa_points_results.pkl ../output_dfs/Africa_results.pkl\n",
      "../output_dfs/Asia_points_results.pkl ../output_dfs/Asia_results.pkl\n",
      "../output_dfs/Europe_points_results.pkl ../output_dfs/Europe_results.pkl\n",
      "../output_dfs/North America_points_results.pkl ../output_dfs/North_America_results.pkl\n",
      "../output_dfs/Oceania_points_results.pkl ../output_dfs/Oceania_results.pkl\n",
      "../output_dfs/South America_points_results.pkl ../output_dfs/South_America_results.pkl\n"
     ]
    }
   ],
   "source": [
    "continent_list = ['Africa','Asia','Europe','N_America','Oceania','S_America']\n",
    "continents = {}\n",
    "cont_points = {}\n",
    "for i in range(len(continent_list)):\n",
    "#     with open(dfs[i * 2], 'rb') as f:\n",
    "#         cont_points[continent_list[i]] = pickle.load(f)\n",
    "#     with open(dfs[i * 2 + 1], 'rb') as f:\n",
    "#         continents[continent_list[i]] = pickle.load(f)\n",
    "    print(dfs[i * 2],dfs[i * 2 + 1])"
   ]
  },
  {
   "cell_type": "code",
   "execution_count": 38,
   "id": "ae02aa76",
   "metadata": {},
   "outputs": [],
   "source": [
    "df = list(output_path.glob('results.pkl'))"
   ]
  },
  {
   "cell_type": "code",
   "execution_count": 29,
   "id": "e07442d5",
   "metadata": {},
   "outputs": [],
   "source": [
    "with open(dfs[3], 'rb') as f:\n",
    "#     cont_points['Asia'] = pickle.load(f)\n",
    "    continents['Asia'] = pickle.load(f)"
   ]
  },
  {
   "cell_type": "code",
   "execution_count": 39,
   "id": "0b575cbf",
   "metadata": {},
   "outputs": [],
   "source": [
    "with open(df[0],'rb') as f:\n",
    "    results = pickle.load(f)"
   ]
  },
  {
   "cell_type": "code",
   "execution_count": 47,
   "id": "14f95c18",
   "metadata": {},
   "outputs": [
    {
     "data": {
      "text/plain": [
       "<geopandas.base._CoordinateIndexer at 0x13fe434c0>"
      ]
     },
     "execution_count": 47,
     "metadata": {},
     "output_type": "execute_result"
    }
   ],
   "source": [
    "results.cx"
   ]
  },
  {
   "cell_type": "code",
   "execution_count": 28,
   "id": "fa01eac1",
   "metadata": {},
   "outputs": [
    {
     "data": {
      "text/plain": [
       "PosixPath('../output_dfs/Asia_results.pkl')"
      ]
     },
     "execution_count": 28,
     "metadata": {},
     "output_type": "execute_result"
    }
   ],
   "source": [
    "dfs[3]"
   ]
  },
  {
   "cell_type": "code",
   "execution_count": 31,
   "id": "7592e463",
   "metadata": {
    "scrolled": true
   },
   "outputs": [
    {
     "ename": "ValueError",
     "evalue": "Length of values (7) does not match length of index (34878)",
     "output_type": "error",
     "traceback": [
      "\u001b[0;31m---------------------------------------------------------------------------\u001b[0m",
      "\u001b[0;31mValueError\u001b[0m                                Traceback (most recent call last)",
      "Input \u001b[0;32mIn [31]\u001b[0m, in \u001b[0;36m<cell line: 1>\u001b[0;34m()\u001b[0m\n\u001b[0;32m----> 1\u001b[0m df_temp \u001b[38;5;241m=\u001b[39m \u001b[43mcalculate_averages\u001b[49m\u001b[43m(\u001b[49m\u001b[43mcontinents\u001b[49m\u001b[43m[\u001b[49m\u001b[38;5;124;43m'\u001b[39;49m\u001b[38;5;124;43mAfrica\u001b[39;49m\u001b[38;5;124;43m'\u001b[39;49m\u001b[43m]\u001b[49m\u001b[43m,\u001b[49m\u001b[43m \u001b[49m\u001b[43mcont_points\u001b[49m\u001b[43m[\u001b[49m\u001b[38;5;124;43m'\u001b[39;49m\u001b[38;5;124;43mAfrica\u001b[39;49m\u001b[38;5;124;43m'\u001b[39;49m\u001b[43m]\u001b[49m\u001b[43m)\u001b[49m\n",
      "Input \u001b[0;32mIn [4]\u001b[0m, in \u001b[0;36mcalculate_averages\u001b[0;34m(results, df_points)\u001b[0m\n\u001b[1;32m      9\u001b[0m     n_avail_sensors \u001b[38;5;241m+\u001b[39m\u001b[38;5;241m=\u001b[39m [\u001b[38;5;28mlen\u001b[39m(i\u001b[38;5;241m.\u001b[39msensor\u001b[38;5;241m.\u001b[39munique()) \u001b[38;5;28;01mif\u001b[39;00m \u001b[38;5;28mtype\u001b[39m(i) \u001b[38;5;129;01mis\u001b[39;00m \u001b[38;5;129;01mnot\u001b[39;00m \u001b[38;5;28mstr\u001b[39m \u001b[38;5;28;01melse\u001b[39;00m np\u001b[38;5;241m.\u001b[39mnan \u001b[38;5;28;01mfor\u001b[39;00m i \u001b[38;5;129;01min\u001b[39;00m results]\n\u001b[1;32m     12\u001b[0m \u001b[38;5;66;03m#     df_temp['av_cad_hours'] = results.groupby(['cx','cy']).mean().reset_index(drop=True).cadence.seconds / 3600\u001b[39;00m\n\u001b[0;32m---> 13\u001b[0m     \u001b[43mdf_temp\u001b[49m\u001b[43m[\u001b[49m\u001b[38;5;124;43m'\u001b[39;49m\u001b[38;5;124;43mav_cad_hours\u001b[39;49m\u001b[38;5;124;43m'\u001b[39;49m\u001b[43m]\u001b[49m \u001b[38;5;241m=\u001b[39m av_cad_hours\n\u001b[1;32m     14\u001b[0m \u001b[38;5;66;03m#     df_temp['avail_sensors'] = avail_sensors\u001b[39;00m\n\u001b[1;32m     15\u001b[0m     df_temp[\u001b[38;5;124m'\u001b[39m\u001b[38;5;124mn_avail_sensors\u001b[39m\u001b[38;5;124m'\u001b[39m] \u001b[38;5;241m=\u001b[39m n_avail_sensors\n",
      "File \u001b[0;32m~/miniconda3/envs/opera_coverage/lib/python3.10/site-packages/geopandas/geodataframe.py:1472\u001b[0m, in \u001b[0;36mGeoDataFrame.__setitem__\u001b[0;34m(self, key, value)\u001b[0m\n\u001b[1;32m   1470\u001b[0m     \u001b[38;5;28;01mexcept\u001b[39;00m \u001b[38;5;167;01mTypeError\u001b[39;00m:\n\u001b[1;32m   1471\u001b[0m         warnings\u001b[38;5;241m.\u001b[39mwarn(\u001b[38;5;124m\"\u001b[39m\u001b[38;5;124mGeometry column does not contain geometry.\u001b[39m\u001b[38;5;124m\"\u001b[39m)\n\u001b[0;32m-> 1472\u001b[0m \u001b[38;5;28;43msuper\u001b[39;49m\u001b[43m(\u001b[49m\u001b[43m)\u001b[49m\u001b[38;5;241;43m.\u001b[39;49m\u001b[38;5;21;43m__setitem__\u001b[39;49m\u001b[43m(\u001b[49m\u001b[43mkey\u001b[49m\u001b[43m,\u001b[49m\u001b[43m \u001b[49m\u001b[43mvalue\u001b[49m\u001b[43m)\u001b[49m\n",
      "File \u001b[0;32m~/miniconda3/envs/opera_coverage/lib/python3.10/site-packages/pandas/core/frame.py:3655\u001b[0m, in \u001b[0;36mDataFrame.__setitem__\u001b[0;34m(self, key, value)\u001b[0m\n\u001b[1;32m   3652\u001b[0m     \u001b[38;5;28mself\u001b[39m\u001b[38;5;241m.\u001b[39m_setitem_array([key], value)\n\u001b[1;32m   3653\u001b[0m \u001b[38;5;28;01melse\u001b[39;00m:\n\u001b[1;32m   3654\u001b[0m     \u001b[38;5;66;03m# set column\u001b[39;00m\n\u001b[0;32m-> 3655\u001b[0m     \u001b[38;5;28;43mself\u001b[39;49m\u001b[38;5;241;43m.\u001b[39;49m\u001b[43m_set_item\u001b[49m\u001b[43m(\u001b[49m\u001b[43mkey\u001b[49m\u001b[43m,\u001b[49m\u001b[43m \u001b[49m\u001b[43mvalue\u001b[49m\u001b[43m)\u001b[49m\n",
      "File \u001b[0;32m~/miniconda3/envs/opera_coverage/lib/python3.10/site-packages/pandas/core/frame.py:3832\u001b[0m, in \u001b[0;36mDataFrame._set_item\u001b[0;34m(self, key, value)\u001b[0m\n\u001b[1;32m   3822\u001b[0m \u001b[38;5;28;01mdef\u001b[39;00m \u001b[38;5;21m_set_item\u001b[39m(\u001b[38;5;28mself\u001b[39m, key, value) \u001b[38;5;241m-\u001b[39m\u001b[38;5;241m>\u001b[39m \u001b[38;5;28;01mNone\u001b[39;00m:\n\u001b[1;32m   3823\u001b[0m     \u001b[38;5;124;03m\"\"\"\u001b[39;00m\n\u001b[1;32m   3824\u001b[0m \u001b[38;5;124;03m    Add series to DataFrame in specified column.\u001b[39;00m\n\u001b[1;32m   3825\u001b[0m \n\u001b[0;32m   (...)\u001b[0m\n\u001b[1;32m   3830\u001b[0m \u001b[38;5;124;03m    ensure homogeneity.\u001b[39;00m\n\u001b[1;32m   3831\u001b[0m \u001b[38;5;124;03m    \"\"\"\u001b[39;00m\n\u001b[0;32m-> 3832\u001b[0m     value \u001b[38;5;241m=\u001b[39m \u001b[38;5;28;43mself\u001b[39;49m\u001b[38;5;241;43m.\u001b[39;49m\u001b[43m_sanitize_column\u001b[49m\u001b[43m(\u001b[49m\u001b[43mvalue\u001b[49m\u001b[43m)\u001b[49m\n\u001b[1;32m   3834\u001b[0m     \u001b[38;5;28;01mif\u001b[39;00m (\n\u001b[1;32m   3835\u001b[0m         key \u001b[38;5;129;01min\u001b[39;00m \u001b[38;5;28mself\u001b[39m\u001b[38;5;241m.\u001b[39mcolumns\n\u001b[1;32m   3836\u001b[0m         \u001b[38;5;129;01mand\u001b[39;00m value\u001b[38;5;241m.\u001b[39mndim \u001b[38;5;241m==\u001b[39m \u001b[38;5;241m1\u001b[39m\n\u001b[1;32m   3837\u001b[0m         \u001b[38;5;129;01mand\u001b[39;00m \u001b[38;5;129;01mnot\u001b[39;00m is_extension_array_dtype(value)\n\u001b[1;32m   3838\u001b[0m     ):\n\u001b[1;32m   3839\u001b[0m         \u001b[38;5;66;03m# broadcast across multiple columns if necessary\u001b[39;00m\n\u001b[1;32m   3840\u001b[0m         \u001b[38;5;28;01mif\u001b[39;00m \u001b[38;5;129;01mnot\u001b[39;00m \u001b[38;5;28mself\u001b[39m\u001b[38;5;241m.\u001b[39mcolumns\u001b[38;5;241m.\u001b[39mis_unique \u001b[38;5;129;01mor\u001b[39;00m \u001b[38;5;28misinstance\u001b[39m(\u001b[38;5;28mself\u001b[39m\u001b[38;5;241m.\u001b[39mcolumns, MultiIndex):\n",
      "File \u001b[0;32m~/miniconda3/envs/opera_coverage/lib/python3.10/site-packages/pandas/core/frame.py:4535\u001b[0m, in \u001b[0;36mDataFrame._sanitize_column\u001b[0;34m(self, value)\u001b[0m\n\u001b[1;32m   4532\u001b[0m     \u001b[38;5;28;01mreturn\u001b[39;00m _reindex_for_setitem(value, \u001b[38;5;28mself\u001b[39m\u001b[38;5;241m.\u001b[39mindex)\n\u001b[1;32m   4534\u001b[0m \u001b[38;5;28;01mif\u001b[39;00m is_list_like(value):\n\u001b[0;32m-> 4535\u001b[0m     \u001b[43mcom\u001b[49m\u001b[38;5;241;43m.\u001b[39;49m\u001b[43mrequire_length_match\u001b[49m\u001b[43m(\u001b[49m\u001b[43mvalue\u001b[49m\u001b[43m,\u001b[49m\u001b[43m \u001b[49m\u001b[38;5;28;43mself\u001b[39;49m\u001b[38;5;241;43m.\u001b[39;49m\u001b[43mindex\u001b[49m\u001b[43m)\u001b[49m\n\u001b[1;32m   4536\u001b[0m \u001b[38;5;28;01mreturn\u001b[39;00m sanitize_array(value, \u001b[38;5;28mself\u001b[39m\u001b[38;5;241m.\u001b[39mindex, copy\u001b[38;5;241m=\u001b[39m\u001b[38;5;28;01mTrue\u001b[39;00m, allow_2d\u001b[38;5;241m=\u001b[39m\u001b[38;5;28;01mTrue\u001b[39;00m)\n",
      "File \u001b[0;32m~/miniconda3/envs/opera_coverage/lib/python3.10/site-packages/pandas/core/common.py:557\u001b[0m, in \u001b[0;36mrequire_length_match\u001b[0;34m(data, index)\u001b[0m\n\u001b[1;32m    553\u001b[0m \u001b[38;5;124;03m\"\"\"\u001b[39;00m\n\u001b[1;32m    554\u001b[0m \u001b[38;5;124;03mCheck the length of data matches the length of the index.\u001b[39;00m\n\u001b[1;32m    555\u001b[0m \u001b[38;5;124;03m\"\"\"\u001b[39;00m\n\u001b[1;32m    556\u001b[0m \u001b[38;5;28;01mif\u001b[39;00m \u001b[38;5;28mlen\u001b[39m(data) \u001b[38;5;241m!=\u001b[39m \u001b[38;5;28mlen\u001b[39m(index):\n\u001b[0;32m--> 557\u001b[0m     \u001b[38;5;28;01mraise\u001b[39;00m \u001b[38;5;167;01mValueError\u001b[39;00m(\n\u001b[1;32m    558\u001b[0m         \u001b[38;5;124m\"\u001b[39m\u001b[38;5;124mLength of values \u001b[39m\u001b[38;5;124m\"\u001b[39m\n\u001b[1;32m    559\u001b[0m         \u001b[38;5;124mf\u001b[39m\u001b[38;5;124m\"\u001b[39m\u001b[38;5;124m(\u001b[39m\u001b[38;5;132;01m{\u001b[39;00m\u001b[38;5;28mlen\u001b[39m(data)\u001b[38;5;132;01m}\u001b[39;00m\u001b[38;5;124m) \u001b[39m\u001b[38;5;124m\"\u001b[39m\n\u001b[1;32m    560\u001b[0m         \u001b[38;5;124m\"\u001b[39m\u001b[38;5;124mdoes not match length of index \u001b[39m\u001b[38;5;124m\"\u001b[39m\n\u001b[1;32m    561\u001b[0m         \u001b[38;5;124mf\u001b[39m\u001b[38;5;124m\"\u001b[39m\u001b[38;5;124m(\u001b[39m\u001b[38;5;132;01m{\u001b[39;00m\u001b[38;5;28mlen\u001b[39m(index)\u001b[38;5;132;01m}\u001b[39;00m\u001b[38;5;124m)\u001b[39m\u001b[38;5;124m\"\u001b[39m\n\u001b[1;32m    562\u001b[0m     )\n",
      "\u001b[0;31mValueError\u001b[0m: Length of values (7) does not match length of index (34878)"
     ]
    }
   ],
   "source": [
    "df_temp = calculate_averages(continents['Africa'], cont_points['Africa'])"
   ]
  },
  {
   "cell_type": "code",
   "execution_count": null,
   "id": "be10b6e1",
   "metadata": {
    "scrolled": true
   },
   "outputs": [],
   "source": [
    "continents['N_America'].groupby(['cx','cy']).mean()"
   ]
  },
  {
   "cell_type": "code",
   "execution_count": 32,
   "id": "18c4a202",
   "metadata": {
    "scrolled": true
   },
   "outputs": [
    {
     "data": {
      "text/plain": [
       "40253"
      ]
     },
     "execution_count": 32,
     "metadata": {},
     "output_type": "execute_result"
    }
   ],
   "source": [
    "len(continents['Asia'])"
   ]
  },
  {
   "cell_type": "code",
   "execution_count": 33,
   "id": "855045d9",
   "metadata": {},
   "outputs": [
    {
     "data": {
      "text/plain": [
       "28448"
      ]
     },
     "execution_count": 33,
     "metadata": {},
     "output_type": "execute_result"
    }
   ],
   "source": [
    "len(continents['Africa'])"
   ]
  },
  {
   "cell_type": "code",
   "execution_count": null,
   "id": "525252f6",
   "metadata": {},
   "outputs": [],
   "source": [
    "testing = continents['Asia'].copy()"
   ]
  },
  {
   "cell_type": "code",
   "execution_count": null,
   "id": "78816803",
   "metadata": {
    "scrolled": true
   },
   "outputs": [],
   "source": [
    "testing.dissolve(by='cx')"
   ]
  },
  {
   "cell_type": "code",
   "execution_count": 48,
   "id": "70f49c6e",
   "metadata": {
    "scrolled": false
   },
   "outputs": [
    {
     "data": {
      "text/plain": [
       "array([38.69894074, 39.71058508, 40.72222942, 41.73387376, 36.67565207,\n",
       "       37.6872964 , 34.65236339])"
      ]
     },
     "execution_count": 48,
     "metadata": {},
     "output_type": "execute_result"
    }
   ],
   "source": [
    "continents['Asia']['cy'].unique()"
   ]
  },
  {
   "cell_type": "code",
   "execution_count": 51,
   "id": "070c0b6e",
   "metadata": {},
   "outputs": [
    {
     "data": {
      "text/html": [
       "<div>\n",
       "<style scoped>\n",
       "    .dataframe tbody tr th:only-of-type {\n",
       "        vertical-align: middle;\n",
       "    }\n",
       "\n",
       "    .dataframe tbody tr th {\n",
       "        vertical-align: top;\n",
       "    }\n",
       "\n",
       "    .dataframe thead th {\n",
       "        text-align: right;\n",
       "    }\n",
       "</style>\n",
       "<table border=\"1\" class=\"dataframe\">\n",
       "  <thead>\n",
       "    <tr style=\"text-align: right;\">\n",
       "      <th></th>\n",
       "      <th>startTime</th>\n",
       "      <th>geometry</th>\n",
       "      <th>fileID</th>\n",
       "      <th>sensor</th>\n",
       "      <th>cadence</th>\n",
       "      <th>cx</th>\n",
       "      <th>cy</th>\n",
       "    </tr>\n",
       "  </thead>\n",
       "  <tbody>\n",
       "    <tr>\n",
       "      <th>0</th>\n",
       "      <td>2022-01-02 09:09:27.784000+00:00</td>\n",
       "      <td>POLYGON ((27.11095 37.85939, 25.86283 37.85395...</td>\n",
       "      <td>HLS.S30.T35SMD.2022002T090259.v2.0</td>\n",
       "      <td>sentinel2</td>\n",
       "      <td>NaT</td>\n",
       "      <td>26.543351</td>\n",
       "      <td>38.698941</td>\n",
       "    </tr>\n",
       "    <tr>\n",
       "      <th>1</th>\n",
       "      <td>2022-01-03 08:52:13.378000+00:00</td>\n",
       "      <td>POLYGON ((27.11095 37.85939, 25.86283 37.85395...</td>\n",
       "      <td>HLS.L30.T35SMD.2022003T085213.v2.0</td>\n",
       "      <td>landsat8</td>\n",
       "      <td>0 days 23:42:45.594000</td>\n",
       "      <td>26.543351</td>\n",
       "      <td>39.710585</td>\n",
       "    </tr>\n",
       "    <tr>\n",
       "      <th>2</th>\n",
       "      <td>2022-01-04 04:23:20+00:00</td>\n",
       "      <td>POLYGON ((26.63933 38.44150, 27.04625 40.06287...</td>\n",
       "      <td>S1A_IW_SLC__1SDV_20220104T042320_20220104T0423...</td>\n",
       "      <td>sentinel1</td>\n",
       "      <td>0 days 19:31:06.622000</td>\n",
       "      <td>26.543351</td>\n",
       "      <td>40.722229</td>\n",
       "    </tr>\n",
       "    <tr>\n",
       "      <th>3</th>\n",
       "      <td>2022-01-05 16:07:37+00:00</td>\n",
       "      <td>POLYGON ((25.77838 39.86797, 26.18389 38.24693...</td>\n",
       "      <td>S1A_IW_SLC__1SDV_20220105T160737_20220105T1608...</td>\n",
       "      <td>sentinel1</td>\n",
       "      <td>1 days 11:44:17</td>\n",
       "      <td>26.543351</td>\n",
       "      <td>41.733874</td>\n",
       "    </tr>\n",
       "    <tr>\n",
       "      <th>4</th>\n",
       "      <td>2022-01-07 09:09:47.978000+00:00</td>\n",
       "      <td>POLYGON ((25.86283 37.85395, 27.11095 37.85939...</td>\n",
       "      <td>HLS.S30.T35SMC.2022007T090351.v2.0</td>\n",
       "      <td>sentinel2</td>\n",
       "      <td>1 days 17:02:10.978000</td>\n",
       "      <td>27.547587</td>\n",
       "      <td>36.675652</td>\n",
       "    </tr>\n",
       "    <tr>\n",
       "      <th>5</th>\n",
       "      <td>2022-01-10 16:15:46+00:00</td>\n",
       "      <td>POLYGON ((23.78506 39.58527, 24.18896 37.96430...</td>\n",
       "      <td>S1A_IW_SLC__1SDV_20220110T161546_20220110T1616...</td>\n",
       "      <td>sentinel1</td>\n",
       "      <td>3 days 07:05:58.022000</td>\n",
       "      <td>27.547587</td>\n",
       "      <td>37.687296</td>\n",
       "    </tr>\n",
       "    <tr>\n",
       "      <th>6</th>\n",
       "      <td>2022-01-11 04:15:11+00:00</td>\n",
       "      <td>POLYGON ((28.62529 38.15443, 29.03035 39.77561...</td>\n",
       "      <td>S1A_IW_SLC__1SDV_20220111T041511_20220111T0415...</td>\n",
       "      <td>sentinel1</td>\n",
       "      <td>0 days 11:59:25</td>\n",
       "      <td>27.547587</td>\n",
       "      <td>38.698941</td>\n",
       "    </tr>\n",
       "    <tr>\n",
       "      <th>7</th>\n",
       "      <td>2022-01-12 09:09:27.708000+00:00</td>\n",
       "      <td>POLYGON ((27.11095 37.85939, 25.86283 37.85395...</td>\n",
       "      <td>HLS.S30.T35SMD.2022012T090229.v2.0</td>\n",
       "      <td>sentinel2</td>\n",
       "      <td>1 days 04:54:16.708000</td>\n",
       "      <td>27.547587</td>\n",
       "      <td>39.710585</td>\n",
       "    </tr>\n",
       "    <tr>\n",
       "      <th>8</th>\n",
       "      <td>2022-01-16 04:23:19+00:00</td>\n",
       "      <td>POLYGON ((26.63951 38.44187, 27.04635 40.06288...</td>\n",
       "      <td>S1A_IW_SLC__1SDV_20220116T042319_20220116T0423...</td>\n",
       "      <td>sentinel1</td>\n",
       "      <td>3 days 19:13:51.292000</td>\n",
       "      <td>27.547587</td>\n",
       "      <td>41.733874</td>\n",
       "    </tr>\n",
       "    <tr>\n",
       "      <th>9</th>\n",
       "      <td>2022-01-17 09:09:32.294000+00:00</td>\n",
       "      <td>POLYGON ((27.11095 37.85939, 25.86283 37.85395...</td>\n",
       "      <td>HLS.S30.T35SMD.2022017T090321.v2.0</td>\n",
       "      <td>sentinel2</td>\n",
       "      <td>1 days 04:46:13.294000</td>\n",
       "      <td>28.551822</td>\n",
       "      <td>36.675652</td>\n",
       "    </tr>\n",
       "    <tr>\n",
       "      <th>10</th>\n",
       "      <td>2022-01-17 16:07:36+00:00</td>\n",
       "      <td>POLYGON ((25.77907 39.86771, 26.18455 38.24667...</td>\n",
       "      <td>S1A_IW_SLC__1SDV_20220117T160736_20220117T1608...</td>\n",
       "      <td>sentinel1</td>\n",
       "      <td>0 days 06:58:03.706000</td>\n",
       "      <td>28.551822</td>\n",
       "      <td>37.687296</td>\n",
       "    </tr>\n",
       "    <tr>\n",
       "      <th>11</th>\n",
       "      <td>2022-01-19 08:52:10.615000+00:00</td>\n",
       "      <td>POLYGON ((27.11095 37.85939, 25.86283 37.85395...</td>\n",
       "      <td>HLS.L30.T35SMD.2022019T085210.v2.0</td>\n",
       "      <td>landsat8</td>\n",
       "      <td>1 days 16:44:34.615000</td>\n",
       "      <td>28.551822</td>\n",
       "      <td>38.698941</td>\n",
       "    </tr>\n",
       "    <tr>\n",
       "      <th>12</th>\n",
       "      <td>2022-01-22 16:15:45+00:00</td>\n",
       "      <td>POLYGON ((23.78647 39.58345, 24.19023 37.96286...</td>\n",
       "      <td>S1A_IW_SLC__1SDV_20220122T161545_20220122T1616...</td>\n",
       "      <td>sentinel1</td>\n",
       "      <td>3 days 07:23:34.385000</td>\n",
       "      <td>28.551822</td>\n",
       "      <td>39.710585</td>\n",
       "    </tr>\n",
       "    <tr>\n",
       "      <th>13</th>\n",
       "      <td>2022-01-23 04:15:10+00:00</td>\n",
       "      <td>POLYGON ((28.62517 38.15448, 29.03020 39.77566...</td>\n",
       "      <td>S1A_IW_SLC__1SDV_20220123T041510_20220123T0415...</td>\n",
       "      <td>sentinel1</td>\n",
       "      <td>0 days 11:59:25</td>\n",
       "      <td>29.556058</td>\n",
       "      <td>36.675652</td>\n",
       "    </tr>\n",
       "    <tr>\n",
       "      <th>14</th>\n",
       "      <td>2022-01-27 09:09:31.939000+00:00</td>\n",
       "      <td>POLYGON ((27.11095 37.85939, 25.86283 37.85395...</td>\n",
       "      <td>HLS.S30.T35SMD.2022027T090231.v2.0</td>\n",
       "      <td>sentinel2</td>\n",
       "      <td>4 days 04:54:21.939000</td>\n",
       "      <td>29.556058</td>\n",
       "      <td>37.687296</td>\n",
       "    </tr>\n",
       "    <tr>\n",
       "      <th>15</th>\n",
       "      <td>2022-01-28 04:23:19+00:00</td>\n",
       "      <td>POLYGON ((26.64017 38.44126, 27.04703 40.06227...</td>\n",
       "      <td>S1A_IW_SLC__1SDV_20220128T042319_20220128T0423...</td>\n",
       "      <td>sentinel1</td>\n",
       "      <td>0 days 19:13:47.061000</td>\n",
       "      <td>29.556058</td>\n",
       "      <td>38.698941</td>\n",
       "    </tr>\n",
       "    <tr>\n",
       "      <th>16</th>\n",
       "      <td>2022-01-29 16:07:36+00:00</td>\n",
       "      <td>POLYGON ((25.77917 39.86781, 26.18469 38.24664...</td>\n",
       "      <td>S1A_IW_SLC__1SDV_20220129T160736_20220129T1608...</td>\n",
       "      <td>sentinel1</td>\n",
       "      <td>1 days 11:44:17</td>\n",
       "      <td>29.556058</td>\n",
       "      <td>39.710585</td>\n",
       "    </tr>\n",
       "    <tr>\n",
       "      <th>0</th>\n",
       "      <td>2022-01-02 09:09:13.361000+00:00</td>\n",
       "      <td>POLYGON ((27.11234 38.76081, 25.84867 38.75519...</td>\n",
       "      <td>HLS.S30.T35TME.2022002T090259.v2.0</td>\n",
       "      <td>sentinel2</td>\n",
       "      <td>NaT</td>\n",
       "      <td>26.543351</td>\n",
       "      <td>38.698941</td>\n",
       "    </tr>\n",
       "    <tr>\n",
       "      <th>1</th>\n",
       "      <td>2022-01-03 08:52:13.378000+00:00</td>\n",
       "      <td>POLYGON ((27.11234 38.76081, 25.84867 38.75519...</td>\n",
       "      <td>HLS.L30.T35SMD.2022003T085213.v2.0</td>\n",
       "      <td>landsat8</td>\n",
       "      <td>0 days 23:43:00.017000</td>\n",
       "      <td>26.543351</td>\n",
       "      <td>39.710585</td>\n",
       "    </tr>\n",
       "    <tr>\n",
       "      <th>2</th>\n",
       "      <td>2022-01-04 04:23:20+00:00</td>\n",
       "      <td>POLYGON ((26.63933 38.44150, 27.04625 40.06287...</td>\n",
       "      <td>S1A_IW_SLC__1SDV_20220104T042320_20220104T0423...</td>\n",
       "      <td>sentinel1</td>\n",
       "      <td>0 days 19:31:06.622000</td>\n",
       "      <td>26.543351</td>\n",
       "      <td>40.722229</td>\n",
       "    </tr>\n",
       "  </tbody>\n",
       "</table>\n",
       "</div>"
      ],
      "text/plain": [
       "                          startTime  \\\n",
       "0  2022-01-02 09:09:27.784000+00:00   \n",
       "1  2022-01-03 08:52:13.378000+00:00   \n",
       "2         2022-01-04 04:23:20+00:00   \n",
       "3         2022-01-05 16:07:37+00:00   \n",
       "4  2022-01-07 09:09:47.978000+00:00   \n",
       "5         2022-01-10 16:15:46+00:00   \n",
       "6         2022-01-11 04:15:11+00:00   \n",
       "7  2022-01-12 09:09:27.708000+00:00   \n",
       "8         2022-01-16 04:23:19+00:00   \n",
       "9  2022-01-17 09:09:32.294000+00:00   \n",
       "10        2022-01-17 16:07:36+00:00   \n",
       "11 2022-01-19 08:52:10.615000+00:00   \n",
       "12        2022-01-22 16:15:45+00:00   \n",
       "13        2022-01-23 04:15:10+00:00   \n",
       "14 2022-01-27 09:09:31.939000+00:00   \n",
       "15        2022-01-28 04:23:19+00:00   \n",
       "16        2022-01-29 16:07:36+00:00   \n",
       "0  2022-01-02 09:09:13.361000+00:00   \n",
       "1  2022-01-03 08:52:13.378000+00:00   \n",
       "2         2022-01-04 04:23:20+00:00   \n",
       "\n",
       "                                             geometry  \\\n",
       "0   POLYGON ((27.11095 37.85939, 25.86283 37.85395...   \n",
       "1   POLYGON ((27.11095 37.85939, 25.86283 37.85395...   \n",
       "2   POLYGON ((26.63933 38.44150, 27.04625 40.06287...   \n",
       "3   POLYGON ((25.77838 39.86797, 26.18389 38.24693...   \n",
       "4   POLYGON ((25.86283 37.85395, 27.11095 37.85939...   \n",
       "5   POLYGON ((23.78506 39.58527, 24.18896 37.96430...   \n",
       "6   POLYGON ((28.62529 38.15443, 29.03035 39.77561...   \n",
       "7   POLYGON ((27.11095 37.85939, 25.86283 37.85395...   \n",
       "8   POLYGON ((26.63951 38.44187, 27.04635 40.06288...   \n",
       "9   POLYGON ((27.11095 37.85939, 25.86283 37.85395...   \n",
       "10  POLYGON ((25.77907 39.86771, 26.18455 38.24667...   \n",
       "11  POLYGON ((27.11095 37.85939, 25.86283 37.85395...   \n",
       "12  POLYGON ((23.78647 39.58345, 24.19023 37.96286...   \n",
       "13  POLYGON ((28.62517 38.15448, 29.03020 39.77566...   \n",
       "14  POLYGON ((27.11095 37.85939, 25.86283 37.85395...   \n",
       "15  POLYGON ((26.64017 38.44126, 27.04703 40.06227...   \n",
       "16  POLYGON ((25.77917 39.86781, 26.18469 38.24664...   \n",
       "0   POLYGON ((27.11234 38.76081, 25.84867 38.75519...   \n",
       "1   POLYGON ((27.11234 38.76081, 25.84867 38.75519...   \n",
       "2   POLYGON ((26.63933 38.44150, 27.04625 40.06287...   \n",
       "\n",
       "                                               fileID     sensor  \\\n",
       "0                  HLS.S30.T35SMD.2022002T090259.v2.0  sentinel2   \n",
       "1                  HLS.L30.T35SMD.2022003T085213.v2.0   landsat8   \n",
       "2   S1A_IW_SLC__1SDV_20220104T042320_20220104T0423...  sentinel1   \n",
       "3   S1A_IW_SLC__1SDV_20220105T160737_20220105T1608...  sentinel1   \n",
       "4                  HLS.S30.T35SMC.2022007T090351.v2.0  sentinel2   \n",
       "5   S1A_IW_SLC__1SDV_20220110T161546_20220110T1616...  sentinel1   \n",
       "6   S1A_IW_SLC__1SDV_20220111T041511_20220111T0415...  sentinel1   \n",
       "7                  HLS.S30.T35SMD.2022012T090229.v2.0  sentinel2   \n",
       "8   S1A_IW_SLC__1SDV_20220116T042319_20220116T0423...  sentinel1   \n",
       "9                  HLS.S30.T35SMD.2022017T090321.v2.0  sentinel2   \n",
       "10  S1A_IW_SLC__1SDV_20220117T160736_20220117T1608...  sentinel1   \n",
       "11                 HLS.L30.T35SMD.2022019T085210.v2.0   landsat8   \n",
       "12  S1A_IW_SLC__1SDV_20220122T161545_20220122T1616...  sentinel1   \n",
       "13  S1A_IW_SLC__1SDV_20220123T041510_20220123T0415...  sentinel1   \n",
       "14                 HLS.S30.T35SMD.2022027T090231.v2.0  sentinel2   \n",
       "15  S1A_IW_SLC__1SDV_20220128T042319_20220128T0423...  sentinel1   \n",
       "16  S1A_IW_SLC__1SDV_20220129T160736_20220129T1608...  sentinel1   \n",
       "0                  HLS.S30.T35TME.2022002T090259.v2.0  sentinel2   \n",
       "1                  HLS.L30.T35SMD.2022003T085213.v2.0   landsat8   \n",
       "2   S1A_IW_SLC__1SDV_20220104T042320_20220104T0423...  sentinel1   \n",
       "\n",
       "                  cadence         cx         cy  \n",
       "0                     NaT  26.543351  38.698941  \n",
       "1  0 days 23:42:45.594000  26.543351  39.710585  \n",
       "2  0 days 19:31:06.622000  26.543351  40.722229  \n",
       "3         1 days 11:44:17  26.543351  41.733874  \n",
       "4  1 days 17:02:10.978000  27.547587  36.675652  \n",
       "5  3 days 07:05:58.022000  27.547587  37.687296  \n",
       "6         0 days 11:59:25  27.547587  38.698941  \n",
       "7  1 days 04:54:16.708000  27.547587  39.710585  \n",
       "8  3 days 19:13:51.292000  27.547587  41.733874  \n",
       "9  1 days 04:46:13.294000  28.551822  36.675652  \n",
       "10 0 days 06:58:03.706000  28.551822  37.687296  \n",
       "11 1 days 16:44:34.615000  28.551822  38.698941  \n",
       "12 3 days 07:23:34.385000  28.551822  39.710585  \n",
       "13        0 days 11:59:25  29.556058  36.675652  \n",
       "14 4 days 04:54:21.939000  29.556058  37.687296  \n",
       "15 0 days 19:13:47.061000  29.556058  38.698941  \n",
       "16        1 days 11:44:17  29.556058  39.710585  \n",
       "0                     NaT  26.543351  38.698941  \n",
       "1  0 days 23:43:00.017000  26.543351  39.710585  \n",
       "2  0 days 19:31:06.622000  26.543351  40.722229  "
      ]
     },
     "execution_count": 51,
     "metadata": {},
     "output_type": "execute_result"
    }
   ],
   "source": [
    "continents['Asia'].head(20)"
   ]
  },
  {
   "cell_type": "code",
   "execution_count": 18,
   "id": "8a2ea26c",
   "metadata": {},
   "outputs": [
    {
     "data": {
      "text/html": [
       "<div>\n",
       "<style scoped>\n",
       "    .dataframe tbody tr th:only-of-type {\n",
       "        vertical-align: middle;\n",
       "    }\n",
       "\n",
       "    .dataframe tbody tr th {\n",
       "        vertical-align: top;\n",
       "    }\n",
       "\n",
       "    .dataframe thead th {\n",
       "        text-align: right;\n",
       "    }\n",
       "</style>\n",
       "<table border=\"1\" class=\"dataframe\">\n",
       "  <thead>\n",
       "    <tr style=\"text-align: right;\">\n",
       "      <th></th>\n",
       "      <th>startTime</th>\n",
       "      <th>geometry</th>\n",
       "      <th>fileID</th>\n",
       "      <th>sensor</th>\n",
       "      <th>cadence</th>\n",
       "      <th>cx</th>\n",
       "      <th>cy</th>\n",
       "    </tr>\n",
       "  </thead>\n",
       "  <tbody>\n",
       "    <tr>\n",
       "      <th>0</th>\n",
       "      <td>2022-01-08 18:31:57+00:00</td>\n",
       "      <td>POLYGON ((-178.57089 63.88048, -177.54237 65.6...</td>\n",
       "      <td>S1A_IW_SLC__1SDV_20220108T183157_20220108T1832...</td>\n",
       "      <td>sentinel1</td>\n",
       "      <td>NaT</td>\n",
       "      <td>-179.5</td>\n",
       "      <td>66.715039</td>\n",
       "    </tr>\n",
       "    <tr>\n",
       "      <th>1</th>\n",
       "      <td>2022-01-20 18:31:56+00:00</td>\n",
       "      <td>POLYGON ((-178.57288 63.88073, -177.54451 65.6...</td>\n",
       "      <td>S1A_IW_SLC__1SDV_20220120T183156_20220120T1832...</td>\n",
       "      <td>sentinel1</td>\n",
       "      <td>11 days 23:59:59</td>\n",
       "      <td>-179.5</td>\n",
       "      <td>67.717565</td>\n",
       "    </tr>\n",
       "    <tr>\n",
       "      <th>0</th>\n",
       "      <td>2022-01-08 18:31:57+00:00</td>\n",
       "      <td>POLYGON ((-178.57089 63.88048, -177.54237 65.6...</td>\n",
       "      <td>S1A_IW_SLC__1SDV_20220108T183157_20220108T1832...</td>\n",
       "      <td>sentinel1</td>\n",
       "      <td>NaT</td>\n",
       "      <td>-179.5</td>\n",
       "      <td>66.715039</td>\n",
       "    </tr>\n",
       "    <tr>\n",
       "      <th>1</th>\n",
       "      <td>2022-01-20 18:31:56+00:00</td>\n",
       "      <td>POLYGON ((-178.57288 63.88073, -177.54451 65.6...</td>\n",
       "      <td>S1A_IW_SLC__1SDV_20220120T183156_20220120T1832...</td>\n",
       "      <td>sentinel1</td>\n",
       "      <td>11 days 23:59:59</td>\n",
       "      <td>-179.5</td>\n",
       "      <td>67.717565</td>\n",
       "    </tr>\n",
       "    <tr>\n",
       "      <th>0</th>\n",
       "      <td>2022-01-07 17:50:54+00:00</td>\n",
       "      <td>POLYGON ((-168.35263 63.74250, -167.43529 65.3...</td>\n",
       "      <td>S1A_IW_SLC__1SDV_20220107T175054_20220107T1751...</td>\n",
       "      <td>sentinel1</td>\n",
       "      <td>NaT</td>\n",
       "      <td>-179.5</td>\n",
       "      <td>66.715039</td>\n",
       "    </tr>\n",
       "    <tr>\n",
       "      <th>...</th>\n",
       "      <td>...</td>\n",
       "      <td>...</td>\n",
       "      <td>...</td>\n",
       "      <td>...</td>\n",
       "      <td>...</td>\n",
       "      <td>...</td>\n",
       "      <td>...</td>\n",
       "    </tr>\n",
       "    <tr>\n",
       "      <th>1</th>\n",
       "      <td>2022-01-20 18:31:56+00:00</td>\n",
       "      <td>POLYGON ((-178.57288 63.88073, -177.54451 65.6...</td>\n",
       "      <td>S1A_IW_SLC__1SDV_20220120T183156_20220120T1832...</td>\n",
       "      <td>sentinel1</td>\n",
       "      <td>11 days 23:59:59</td>\n",
       "      <td>-179.5</td>\n",
       "      <td>67.717565</td>\n",
       "    </tr>\n",
       "    <tr>\n",
       "      <th>0</th>\n",
       "      <td>2022-01-08 18:31:57+00:00</td>\n",
       "      <td>POLYGON ((-178.57089 63.88048, -177.54237 65.6...</td>\n",
       "      <td>S1A_IW_SLC__1SDV_20220108T183157_20220108T1832...</td>\n",
       "      <td>sentinel1</td>\n",
       "      <td>NaT</td>\n",
       "      <td>-179.5</td>\n",
       "      <td>66.715039</td>\n",
       "    </tr>\n",
       "    <tr>\n",
       "      <th>0</th>\n",
       "      <td>2022-01-01 05:18:14+00:00</td>\n",
       "      <td>POLYGON ((176.19861 71.76492, 177.80919 70.033...</td>\n",
       "      <td>S1A_IW_SLC__1SDH_20220101T051814_20220101T0518...</td>\n",
       "      <td>sentinel1</td>\n",
       "      <td>NaT</td>\n",
       "      <td>-179.5</td>\n",
       "      <td>66.715039</td>\n",
       "    </tr>\n",
       "    <tr>\n",
       "      <th>1</th>\n",
       "      <td>2022-01-13 05:18:13+00:00</td>\n",
       "      <td>POLYGON ((176.19510 71.76494, 177.80624 70.033...</td>\n",
       "      <td>S1A_IW_SLC__1SDH_20220113T051813_20220113T0518...</td>\n",
       "      <td>sentinel1</td>\n",
       "      <td>11 days 23:59:59</td>\n",
       "      <td>-179.5</td>\n",
       "      <td>67.717565</td>\n",
       "    </tr>\n",
       "    <tr>\n",
       "      <th>2</th>\n",
       "      <td>2022-01-25 05:18:13+00:00</td>\n",
       "      <td>POLYGON ((176.19411 71.76507, 177.80548 70.033...</td>\n",
       "      <td>S1A_IW_SLC__1SDH_20220125T051813_20220125T0518...</td>\n",
       "      <td>sentinel1</td>\n",
       "      <td>12 days 00:00:00</td>\n",
       "      <td>-179.5</td>\n",
       "      <td>68.720091</td>\n",
       "    </tr>\n",
       "  </tbody>\n",
       "</table>\n",
       "<p>20362 rows × 7 columns</p>\n",
       "</div>"
      ],
      "text/plain": [
       "                   startTime  \\\n",
       "0  2022-01-08 18:31:57+00:00   \n",
       "1  2022-01-20 18:31:56+00:00   \n",
       "0  2022-01-08 18:31:57+00:00   \n",
       "1  2022-01-20 18:31:56+00:00   \n",
       "0  2022-01-07 17:50:54+00:00   \n",
       "..                       ...   \n",
       "1  2022-01-20 18:31:56+00:00   \n",
       "0  2022-01-08 18:31:57+00:00   \n",
       "0  2022-01-01 05:18:14+00:00   \n",
       "1  2022-01-13 05:18:13+00:00   \n",
       "2  2022-01-25 05:18:13+00:00   \n",
       "\n",
       "                                             geometry  \\\n",
       "0   POLYGON ((-178.57089 63.88048, -177.54237 65.6...   \n",
       "1   POLYGON ((-178.57288 63.88073, -177.54451 65.6...   \n",
       "0   POLYGON ((-178.57089 63.88048, -177.54237 65.6...   \n",
       "1   POLYGON ((-178.57288 63.88073, -177.54451 65.6...   \n",
       "0   POLYGON ((-168.35263 63.74250, -167.43529 65.3...   \n",
       "..                                                ...   \n",
       "1   POLYGON ((-178.57288 63.88073, -177.54451 65.6...   \n",
       "0   POLYGON ((-178.57089 63.88048, -177.54237 65.6...   \n",
       "0   POLYGON ((176.19861 71.76492, 177.80919 70.033...   \n",
       "1   POLYGON ((176.19510 71.76494, 177.80624 70.033...   \n",
       "2   POLYGON ((176.19411 71.76507, 177.80548 70.033...   \n",
       "\n",
       "                                               fileID     sensor  \\\n",
       "0   S1A_IW_SLC__1SDV_20220108T183157_20220108T1832...  sentinel1   \n",
       "1   S1A_IW_SLC__1SDV_20220120T183156_20220120T1832...  sentinel1   \n",
       "0   S1A_IW_SLC__1SDV_20220108T183157_20220108T1832...  sentinel1   \n",
       "1   S1A_IW_SLC__1SDV_20220120T183156_20220120T1832...  sentinel1   \n",
       "0   S1A_IW_SLC__1SDV_20220107T175054_20220107T1751...  sentinel1   \n",
       "..                                                ...        ...   \n",
       "1   S1A_IW_SLC__1SDV_20220120T183156_20220120T1832...  sentinel1   \n",
       "0   S1A_IW_SLC__1SDV_20220108T183157_20220108T1832...  sentinel1   \n",
       "0   S1A_IW_SLC__1SDH_20220101T051814_20220101T0518...  sentinel1   \n",
       "1   S1A_IW_SLC__1SDH_20220113T051813_20220113T0518...  sentinel1   \n",
       "2   S1A_IW_SLC__1SDH_20220125T051813_20220125T0518...  sentinel1   \n",
       "\n",
       "            cadence     cx         cy  \n",
       "0               NaT -179.5  66.715039  \n",
       "1  11 days 23:59:59 -179.5  67.717565  \n",
       "0               NaT -179.5  66.715039  \n",
       "1  11 days 23:59:59 -179.5  67.717565  \n",
       "0               NaT -179.5  66.715039  \n",
       "..              ...    ...        ...  \n",
       "1  11 days 23:59:59 -179.5  67.717565  \n",
       "0               NaT -179.5  66.715039  \n",
       "0               NaT -179.5  66.715039  \n",
       "1  11 days 23:59:59 -179.5  67.717565  \n",
       "2  12 days 00:00:00 -179.5  68.720091  \n",
       "\n",
       "[20362 rows x 7 columns]"
      ]
     },
     "execution_count": 18,
     "metadata": {},
     "output_type": "execute_result"
    }
   ],
   "source": [
    "cont_points['Europe']"
   ]
  },
  {
   "cell_type": "code",
   "execution_count": 19,
   "id": "683ce50f",
   "metadata": {},
   "outputs": [
    {
     "data": {
      "text/html": [
       "<div>\n",
       "<style scoped>\n",
       "    .dataframe tbody tr th:only-of-type {\n",
       "        vertical-align: middle;\n",
       "    }\n",
       "\n",
       "    .dataframe tbody tr th {\n",
       "        vertical-align: top;\n",
       "    }\n",
       "\n",
       "    .dataframe thead th {\n",
       "        text-align: right;\n",
       "    }\n",
       "</style>\n",
       "<table border=\"1\" class=\"dataframe\">\n",
       "  <thead>\n",
       "    <tr style=\"text-align: right;\">\n",
       "      <th></th>\n",
       "      <th>startTime</th>\n",
       "      <th>geometry</th>\n",
       "      <th>sensor</th>\n",
       "      <th>fileID</th>\n",
       "      <th>cadence</th>\n",
       "      <th>cx</th>\n",
       "      <th>cy</th>\n",
       "    </tr>\n",
       "  </thead>\n",
       "  <tbody>\n",
       "    <tr>\n",
       "      <th>0</th>\n",
       "      <td>2022-01-02 11:47:28.291000+00:00</td>\n",
       "      <td>POLYGON ((-17.20199 14.35393, -18.21865 14.368...</td>\n",
       "      <td>sentinel2</td>\n",
       "      <td>HLS.S30.T28PBB.2022002T113501.v2.0,HLS.S30.T27...</td>\n",
       "      <td>NaT</td>\n",
       "      <td>-17.125043</td>\n",
       "      <td>14.797578</td>\n",
       "    </tr>\n",
       "    <tr>\n",
       "      <th>1</th>\n",
       "      <td>2022-01-03 11:27:20.964000+00:00</td>\n",
       "      <td>POLYGON ((-17.20199 14.35393, -17.56130 14.359...</td>\n",
       "      <td>landsat8</td>\n",
       "      <td>HLS.L30.T27PZS.2022003T112720.v2.0,HLS.L30.T28...</td>\n",
       "      <td>0 days 23:39:52.673000</td>\n",
       "      <td>-16.113716</td>\n",
       "      <td>11.790431</td>\n",
       "    </tr>\n",
       "    <tr>\n",
       "      <th>2</th>\n",
       "      <td>2022-01-05 19:18:09+00:00</td>\n",
       "      <td>POLYGON ((-15.41438 13.52119, -17.69294 13.081...</td>\n",
       "      <td>sentinel1</td>\n",
       "      <td>S1A_IW_SLC__1SDV_20220105T191809_20220105T1918...</td>\n",
       "      <td>2 days 07:50:48.036000</td>\n",
       "      <td>-16.113716</td>\n",
       "      <td>12.792813</td>\n",
       "    </tr>\n",
       "    <tr>\n",
       "      <th>3</th>\n",
       "      <td>2022-01-07 11:47:22.657000+00:00</td>\n",
       "      <td>POLYGON ((-17.20199 14.35393, -18.05469 14.366...</td>\n",
       "      <td>sentinel2</td>\n",
       "      <td>HLS.S30.T28PBB.2022007T113349.v2.0,HLS.S30.T27...</td>\n",
       "      <td>1 days 16:29:13.657000</td>\n",
       "      <td>-16.113716</td>\n",
       "      <td>13.795196</td>\n",
       "    </tr>\n",
       "    <tr>\n",
       "      <th>4</th>\n",
       "      <td>2022-01-11 11:27:18.329000+00:00</td>\n",
       "      <td>POLYGON ((-17.20199 14.35393, -17.55269 14.359...</td>\n",
       "      <td>landsat8</td>\n",
       "      <td>HLS.L30.T27PZS.2022011T112718.v2.0,HLS.L30.T28...</td>\n",
       "      <td>3 days 23:39:55.672000</td>\n",
       "      <td>-16.113716</td>\n",
       "      <td>14.797578</td>\n",
       "    </tr>\n",
       "    <tr>\n",
       "      <th>...</th>\n",
       "      <td>...</td>\n",
       "      <td>...</td>\n",
       "      <td>...</td>\n",
       "      <td>...</td>\n",
       "      <td>...</td>\n",
       "      <td>...</td>\n",
       "      <td>...</td>\n",
       "    </tr>\n",
       "    <tr>\n",
       "      <th>13</th>\n",
       "      <td>2022-01-25 02:27:31+00:00</td>\n",
       "      <td>POLYGON ((51.44460 10.62546, 51.81510 12.42926...</td>\n",
       "      <td>sentinel1</td>\n",
       "      <td>S1A_IW_SLC__1SDV_20220125T022731_20220125T0228...</td>\n",
       "      <td>1 days 19:31:00.407000</td>\n",
       "      <td>-15.102389</td>\n",
       "      <td>11.790431</td>\n",
       "    </tr>\n",
       "    <tr>\n",
       "      <th>14</th>\n",
       "      <td>2022-01-25 14:54:09+00:00</td>\n",
       "      <td>POLYGON ((48.26905 12.42670, 48.63976 10.62221...</td>\n",
       "      <td>sentinel1</td>\n",
       "      <td>S1A_IW_SLC__1SDV_20220125T145409_20220125T1454...</td>\n",
       "      <td>0 days 12:26:38</td>\n",
       "      <td>-15.102389</td>\n",
       "      <td>12.792813</td>\n",
       "    </tr>\n",
       "    <tr>\n",
       "      <th>15</th>\n",
       "      <td>2022-01-26 07:16:11.200000+00:00</td>\n",
       "      <td>POLYGON ((51.08927 10.76702, 50.08500 10.76568...</td>\n",
       "      <td>sentinel2</td>\n",
       "      <td>HLS.S30.T39PVP.2022026T070139.v2.0,HLS.S30.T39...</td>\n",
       "      <td>0 days 16:22:02.200000</td>\n",
       "      <td>-15.102389</td>\n",
       "      <td>13.795196</td>\n",
       "    </tr>\n",
       "    <tr>\n",
       "      <th>16</th>\n",
       "      <td>2022-01-31 06:56:36.641000+00:00</td>\n",
       "      <td>POLYGON ((51.08927 10.76702, 50.08500 10.76568...</td>\n",
       "      <td>landsat8</td>\n",
       "      <td>HLS.L30.T39PVN.2022031T065636.v2.0,HLS.L30.T39...</td>\n",
       "      <td>4 days 23:40:25.441000</td>\n",
       "      <td>-15.102389</td>\n",
       "      <td>14.797578</td>\n",
       "    </tr>\n",
       "    <tr>\n",
       "      <th>17</th>\n",
       "      <td>2022-01-31 07:16:17.177000+00:00</td>\n",
       "      <td>POLYGON ((51.08927 10.76702, 50.08500 10.76568...</td>\n",
       "      <td>sentinel2</td>\n",
       "      <td>HLS.S30.T39PVP.2022031T070121.v2.0,HLS.S30.T39...</td>\n",
       "      <td>0 days 00:19:40.536000</td>\n",
       "      <td>-15.102389</td>\n",
       "      <td>15.799961</td>\n",
       "    </tr>\n",
       "  </tbody>\n",
       "</table>\n",
       "<p>34878 rows × 7 columns</p>\n",
       "</div>"
      ],
      "text/plain": [
       "                          startTime  \\\n",
       "0  2022-01-02 11:47:28.291000+00:00   \n",
       "1  2022-01-03 11:27:20.964000+00:00   \n",
       "2         2022-01-05 19:18:09+00:00   \n",
       "3  2022-01-07 11:47:22.657000+00:00   \n",
       "4  2022-01-11 11:27:18.329000+00:00   \n",
       "..                              ...   \n",
       "13        2022-01-25 02:27:31+00:00   \n",
       "14        2022-01-25 14:54:09+00:00   \n",
       "15 2022-01-26 07:16:11.200000+00:00   \n",
       "16 2022-01-31 06:56:36.641000+00:00   \n",
       "17 2022-01-31 07:16:17.177000+00:00   \n",
       "\n",
       "                                             geometry     sensor  \\\n",
       "0   POLYGON ((-17.20199 14.35393, -18.21865 14.368...  sentinel2   \n",
       "1   POLYGON ((-17.20199 14.35393, -17.56130 14.359...   landsat8   \n",
       "2   POLYGON ((-15.41438 13.52119, -17.69294 13.081...  sentinel1   \n",
       "3   POLYGON ((-17.20199 14.35393, -18.05469 14.366...  sentinel2   \n",
       "4   POLYGON ((-17.20199 14.35393, -17.55269 14.359...   landsat8   \n",
       "..                                                ...        ...   \n",
       "13  POLYGON ((51.44460 10.62546, 51.81510 12.42926...  sentinel1   \n",
       "14  POLYGON ((48.26905 12.42670, 48.63976 10.62221...  sentinel1   \n",
       "15  POLYGON ((51.08927 10.76702, 50.08500 10.76568...  sentinel2   \n",
       "16  POLYGON ((51.08927 10.76702, 50.08500 10.76568...   landsat8   \n",
       "17  POLYGON ((51.08927 10.76702, 50.08500 10.76568...  sentinel2   \n",
       "\n",
       "                                               fileID                cadence  \\\n",
       "0   HLS.S30.T28PBB.2022002T113501.v2.0,HLS.S30.T27...                    NaT   \n",
       "1   HLS.L30.T27PZS.2022003T112720.v2.0,HLS.L30.T28... 0 days 23:39:52.673000   \n",
       "2   S1A_IW_SLC__1SDV_20220105T191809_20220105T1918... 2 days 07:50:48.036000   \n",
       "3   HLS.S30.T28PBB.2022007T113349.v2.0,HLS.S30.T27... 1 days 16:29:13.657000   \n",
       "4   HLS.L30.T27PZS.2022011T112718.v2.0,HLS.L30.T28... 3 days 23:39:55.672000   \n",
       "..                                                ...                    ...   \n",
       "13  S1A_IW_SLC__1SDV_20220125T022731_20220125T0228... 1 days 19:31:00.407000   \n",
       "14  S1A_IW_SLC__1SDV_20220125T145409_20220125T1454...        0 days 12:26:38   \n",
       "15  HLS.S30.T39PVP.2022026T070139.v2.0,HLS.S30.T39... 0 days 16:22:02.200000   \n",
       "16  HLS.L30.T39PVN.2022031T065636.v2.0,HLS.L30.T39... 4 days 23:40:25.441000   \n",
       "17  HLS.S30.T39PVP.2022031T070121.v2.0,HLS.S30.T39... 0 days 00:19:40.536000   \n",
       "\n",
       "           cx         cy  \n",
       "0  -17.125043  14.797578  \n",
       "1  -16.113716  11.790431  \n",
       "2  -16.113716  12.792813  \n",
       "3  -16.113716  13.795196  \n",
       "4  -16.113716  14.797578  \n",
       "..        ...        ...  \n",
       "13 -15.102389  11.790431  \n",
       "14 -15.102389  12.792813  \n",
       "15 -15.102389  13.795196  \n",
       "16 -15.102389  14.797578  \n",
       "17 -15.102389  15.799961  \n",
       "\n",
       "[34878 rows x 7 columns]"
      ]
     },
     "execution_count": 19,
     "metadata": {},
     "output_type": "execute_result"
    }
   ],
   "source": [
    "continents['Europe']"
   ]
  },
  {
   "cell_type": "code",
   "execution_count": 9,
   "id": "438def54",
   "metadata": {},
   "outputs": [
    {
     "data": {
      "text/plain": [
       "array([66.71503908, 67.71756486, 68.72009064, 65.71251331, 64.70998753,\n",
       "        4.55844075,  2.55338919,  3.55591497])"
      ]
     },
     "execution_count": 9,
     "metadata": {},
     "output_type": "execute_result"
    }
   ],
   "source": [
    "continents['Europe'].cy.unique()"
   ]
  },
  {
   "cell_type": "code",
   "execution_count": null,
   "id": "eb868e45",
   "metadata": {
    "scrolled": true
   },
   "outputs": [],
   "source": [
    "len(cont_points['Asia'])"
   ]
  },
  {
   "cell_type": "code",
   "execution_count": null,
   "id": "a365cab3",
   "metadata": {
    "scrolled": true
   },
   "outputs": [],
   "source": [
    "continents['Africa']"
   ]
  },
  {
   "cell_type": "code",
   "execution_count": null,
   "id": "e653abfd",
   "metadata": {
    "scrolled": true
   },
   "outputs": [],
   "source": [
    "continents['N_America']"
   ]
  },
  {
   "cell_type": "code",
   "execution_count": null,
   "id": "dcda693a",
   "metadata": {
    "scrolled": true
   },
   "outputs": [],
   "source": [
    "continents['S_America']"
   ]
  },
  {
   "cell_type": "code",
   "execution_count": null,
   "id": "42c13398",
   "metadata": {},
   "outputs": [],
   "source": [
    "continents['Oceania']"
   ]
  },
  {
   "cell_type": "markdown",
   "id": "13d24c8b",
   "metadata": {},
   "source": [
    "### Plotting functions"
   ]
  },
  {
   "cell_type": "code",
   "execution_count": null,
   "id": "3f76866b",
   "metadata": {},
   "outputs": [],
   "source": [
    "fig, ax = plt.subplots(figsize=(20,8))\n",
    "ax.set_xlim(-180,180)\n",
    "ax.set_ylim(-85,85)\n",
    "europe_plot = df_europe_test.plot(column='av_cad_hours', ax=ax, legend=True)\n",
    "df1.plot(column='av_cad_hours', ax = ax)\n",
    "df2.plot(column='av_cad_hours', ax = ax)\n",
    "df3.plot(column='av_cad_hours', ax = ax)\n",
    "df4.plot(column='av_cad_hours', ax = ax)\n",
    "df5.plot(column='av_cad_hours', ax = ax)\n",
    "cx.add_basemap(ax=ax,crs='EPSG:4326',source=cx.providers.CartoDB.VoyagerNoLabels)\n",
    "plt.xlabel('Longitude')\n",
    "plt.ylabel('Latitude')\n",
    "plt.title('Global Coverage Cadence in Hours')"
   ]
  }
 ],
 "metadata": {
  "kernelspec": {
   "display_name": "opera_coverage",
   "language": "python",
   "name": "opera_coverage"
  },
  "language_info": {
   "codemirror_mode": {
    "name": "ipython",
    "version": 3
   },
   "file_extension": ".py",
   "mimetype": "text/x-python",
   "name": "python",
   "nbconvert_exporter": "python",
   "pygments_lexer": "ipython3",
   "version": "3.10.5"
  }
 },
 "nbformat": 4,
 "nbformat_minor": 5
}
