{
 "cells": [
  {
   "cell_type": "code",
   "execution_count": 1,
   "id": "4ade2193",
   "metadata": {},
   "outputs": [],
   "source": [
    "%load_ext autoreload\n",
    "%autoreload 2"
   ]
  },
  {
   "cell_type": "code",
   "execution_count": 2,
   "id": "c6c68072",
   "metadata": {},
   "outputs": [],
   "source": [
    "# GIS imports\n",
    "from shapely.geometry import Point\n",
    "from opera_coverage import get_coverage,shape2gdf\n",
    "import geopandas as gpd\n",
    "import pandas as pd\n",
    "\n",
    "# Misc imports\n",
    "from datetime import datetime\n",
    "import matplotlib.pyplot as plt"
   ]
  },
  {
   "cell_type": "markdown",
   "id": "f55dd1fc",
   "metadata": {},
   "source": [
    "Select a shapely geometry (Point with buffer or Polygon) and a daterange as a list of two datetime objects. From the sensor_list, choose any number of sensors from ['sentinel1','sentinel2','landsat8_9']. Then call the get_coverage function."
   ]
  },
  {
   "cell_type": "code",
   "execution_count": 4,
   "id": "cdcc4dd4",
   "metadata": {},
   "outputs": [],
   "source": [
    "la_point = Point(-118.15,34.00).buffer(0.1)\n",
    "daterange = [datetime(2022,1,1),datetime(2022,2,1)]\n",
    "sensor_list = ['sentinel1','sentinel2','landsat8_9']\n",
    "df = get_coverage(sensor_list,la_point,daterange)"
   ]
  },
  {
   "cell_type": "markdown",
   "id": "a6c8d8ef",
   "metadata": {},
   "source": [
    "The columns of the dataframe output from get_coverage are:\n",
    "- Start time of the acquisition (the earlier of two start times if two were taken in the same hour)\n",
    "- Polygon geometry with coordinates in EPSG 4326 (union of two Polygons if two were taken in the same hour)\n",
    "- Sensor name\n",
    "- File ID (comma-separated list if two were taken in the same hour)\n",
    "- Cadence as timedelta between itself and the previous acquisition"
   ]
  },
  {
   "cell_type": "code",
   "execution_count": 5,
   "id": "058d1cb0",
   "metadata": {
    "scrolled": true
   },
   "outputs": [
    {
     "data": {
      "text/html": [
       "<div>\n",
       "<style scoped>\n",
       "    .dataframe tbody tr th:only-of-type {\n",
       "        vertical-align: middle;\n",
       "    }\n",
       "\n",
       "    .dataframe tbody tr th {\n",
       "        vertical-align: top;\n",
       "    }\n",
       "\n",
       "    .dataframe thead th {\n",
       "        text-align: right;\n",
       "    }\n",
       "</style>\n",
       "<table border=\"1\" class=\"dataframe\">\n",
       "  <thead>\n",
       "    <tr style=\"text-align: right;\">\n",
       "      <th></th>\n",
       "      <th>startTime</th>\n",
       "      <th>geometry</th>\n",
       "      <th>sensor</th>\n",
       "      <th>fileID</th>\n",
       "      <th>cadence</th>\n",
       "    </tr>\n",
       "  </thead>\n",
       "  <tbody>\n",
       "    <tr>\n",
       "      <th>0</th>\n",
       "      <td>2022-01-01 01:50:07+00:00</td>\n",
       "      <td>POLYGON ((-115.74355 32.42165, -118.38525 32.0...</td>\n",
       "      <td>sentinel1</td>\n",
       "      <td>S1A_IW_SLC__1SDV_20220101T015007_20220101T0150...</td>\n",
       "      <td>NaT</td>\n",
       "    </tr>\n",
       "    <tr>\n",
       "      <th>1</th>\n",
       "      <td>2022-01-01 13:52:44+00:00</td>\n",
       "      <td>POLYGON ((-116.69179 32.58789, -116.31526 34.2...</td>\n",
       "      <td>sentinel1</td>\n",
       "      <td>S1A_IW_SLC__1SDV_20220101T135244_20220101T1353...</td>\n",
       "      <td>0 days 12:02:37</td>\n",
       "    </tr>\n",
       "    <tr>\n",
       "      <th>2</th>\n",
       "      <td>2022-01-03 18:44:55.505000+00:00</td>\n",
       "      <td>POLYGON ((-119.14887 33.33277, -119.17378 34.3...</td>\n",
       "      <td>sentinel2</td>\n",
       "      <td>HLS.S30.T11SMT.2022003T183749.v2.0,HLS.S30.T11...</td>\n",
       "      <td>2 days 04:52:11.505000</td>\n",
       "    </tr>\n",
       "    <tr>\n",
       "      <th>3</th>\n",
       "      <td>2022-01-06 01:58:16+00:00</td>\n",
       "      <td>POLYGON ((-117.75010 32.13325, -120.38680 31.7...</td>\n",
       "      <td>sentinel1</td>\n",
       "      <td>S1A_IW_SLC__1SDV_20220106T015816_20220106T0158...</td>\n",
       "      <td>2 days 07:13:20.495000</td>\n",
       "    </tr>\n",
       "    <tr>\n",
       "      <th>4</th>\n",
       "      <td>2022-01-06 18:28:36.005000+00:00</td>\n",
       "      <td>POLYGON ((-119.14887 33.33277, -119.17378 34.3...</td>\n",
       "      <td>landsat8_9</td>\n",
       "      <td>HLS.L30.T11SLT.2022006T182836.v2.0,HLS.L30.T11...</td>\n",
       "      <td>0 days 16:30:20.005000</td>\n",
       "    </tr>\n",
       "    <tr>\n",
       "      <th>5</th>\n",
       "      <td>2022-01-08 18:45:00.885000+00:00</td>\n",
       "      <td>POLYGON ((-119.14887 33.33277, -119.17378 34.3...</td>\n",
       "      <td>sentinel2</td>\n",
       "      <td>HLS.S30.T11SMT.2022008T183741.v2.0,HLS.S30.T11...</td>\n",
       "      <td>2 days 00:16:24.880000</td>\n",
       "    </tr>\n",
       "    <tr>\n",
       "      <th>6</th>\n",
       "      <td>2022-01-13 01:50:07+00:00</td>\n",
       "      <td>POLYGON ((-115.74491 32.42239, -118.38660 32.0...</td>\n",
       "      <td>sentinel1</td>\n",
       "      <td>S1A_IW_SLC__1SDV_20220113T015007_20220113T0150...</td>\n",
       "      <td>4 days 07:05:06.115000</td>\n",
       "    </tr>\n",
       "    <tr>\n",
       "      <th>7</th>\n",
       "      <td>2022-01-13 13:52:43+00:00</td>\n",
       "      <td>POLYGON ((-116.69151 32.58875, -116.31515 34.2...</td>\n",
       "      <td>sentinel1</td>\n",
       "      <td>S1A_IW_SLC__1SDV_20220113T135243_20220113T1353...</td>\n",
       "      <td>0 days 12:02:36</td>\n",
       "    </tr>\n",
       "    <tr>\n",
       "      <th>8</th>\n",
       "      <td>2022-01-13 18:44:55.305000+00:00</td>\n",
       "      <td>POLYGON ((-118.07511 33.34671, -116.89510 33.3...</td>\n",
       "      <td>sentinel2</td>\n",
       "      <td>HLS.S30.T11SMT.2022013T183719.v2.0</td>\n",
       "      <td>0 days 04:52:12.305000</td>\n",
       "    </tr>\n",
       "    <tr>\n",
       "      <th>9</th>\n",
       "      <td>2022-01-14 18:28:33.480000+00:00</td>\n",
       "      <td>POLYGON ((-119.14887 33.33277, -119.17378 34.3...</td>\n",
       "      <td>landsat8_9</td>\n",
       "      <td>HLS.L30.T11SMT.2022014T182833.v2.0,HLS.L30.T11...</td>\n",
       "      <td>0 days 23:43:38.175000</td>\n",
       "    </tr>\n",
       "    <tr>\n",
       "      <th>10</th>\n",
       "      <td>2022-01-18 01:58:15+00:00</td>\n",
       "      <td>POLYGON ((-117.74937 32.13350, -120.38607 31.7...</td>\n",
       "      <td>sentinel1</td>\n",
       "      <td>S1A_IW_SLC__1SDV_20220118T015815_20220118T0158...</td>\n",
       "      <td>3 days 07:29:41.520000</td>\n",
       "    </tr>\n",
       "    <tr>\n",
       "      <th>11</th>\n",
       "      <td>2022-01-18 18:44:59.723000+00:00</td>\n",
       "      <td>POLYGON ((-119.14887 33.33277, -119.17378 34.3...</td>\n",
       "      <td>sentinel2</td>\n",
       "      <td>HLS.S30.T11SMT.2022018T183711.v2.0,HLS.S30.T11...</td>\n",
       "      <td>0 days 16:46:44.723000</td>\n",
       "    </tr>\n",
       "    <tr>\n",
       "      <th>12</th>\n",
       "      <td>2022-01-22 18:28:36.093000+00:00</td>\n",
       "      <td>POLYGON ((-119.14887 33.33277, -119.17378 34.3...</td>\n",
       "      <td>landsat8_9</td>\n",
       "      <td>HLS.L30.T11SMT.2022022T182836.v2.0,HLS.L30.T11...</td>\n",
       "      <td>3 days 23:43:36.370000</td>\n",
       "    </tr>\n",
       "    <tr>\n",
       "      <th>13</th>\n",
       "      <td>2022-01-23 18:44:54.054000+00:00</td>\n",
       "      <td>POLYGON ((-119.14887 33.33277, -119.17378 34.3...</td>\n",
       "      <td>sentinel2</td>\n",
       "      <td>HLS.S30.T11SMT.2022023T183649.v2.0,HLS.S30.T11...</td>\n",
       "      <td>1 days 00:16:17.961000</td>\n",
       "    </tr>\n",
       "    <tr>\n",
       "      <th>14</th>\n",
       "      <td>2022-01-25 01:50:06+00:00</td>\n",
       "      <td>POLYGON ((-115.74479 32.42185, -118.38645 32.0...</td>\n",
       "      <td>sentinel1</td>\n",
       "      <td>S1A_IW_SLC__1SDV_20220125T015006_20220125T0150...</td>\n",
       "      <td>1 days 07:05:11.946000</td>\n",
       "    </tr>\n",
       "    <tr>\n",
       "      <th>15</th>\n",
       "      <td>2022-01-25 13:52:43+00:00</td>\n",
       "      <td>POLYGON ((-116.69087 32.58926, -116.31451 34.2...</td>\n",
       "      <td>sentinel1</td>\n",
       "      <td>S1A_IW_SLC__1SDV_20220125T135243_20220125T1353...</td>\n",
       "      <td>0 days 12:02:37</td>\n",
       "    </tr>\n",
       "    <tr>\n",
       "      <th>16</th>\n",
       "      <td>2022-01-28 18:44:59.604000+00:00</td>\n",
       "      <td>POLYGON ((-119.14887 33.33277, -119.17378 34.3...</td>\n",
       "      <td>sentinel2</td>\n",
       "      <td>HLS.S30.T11SMT.2022028T183631.v2.0,HLS.S30.T11...</td>\n",
       "      <td>3 days 04:52:16.604000</td>\n",
       "    </tr>\n",
       "    <tr>\n",
       "      <th>17</th>\n",
       "      <td>2022-01-30 01:58:15+00:00</td>\n",
       "      <td>POLYGON ((-117.74918 32.13319, -120.38583 31.7...</td>\n",
       "      <td>sentinel1</td>\n",
       "      <td>S1A_IW_SLC__1SDV_20220130T015815_20220130T0158...</td>\n",
       "      <td>1 days 07:13:15.396000</td>\n",
       "    </tr>\n",
       "    <tr>\n",
       "      <th>18</th>\n",
       "      <td>2022-01-30 18:28:28.405000+00:00</td>\n",
       "      <td>POLYGON ((-119.14887 33.33277, -119.17378 34.3...</td>\n",
       "      <td>landsat8_9</td>\n",
       "      <td>HLS.L30.T11SLT.2022030T182828.v2.0,HLS.L30.T11...</td>\n",
       "      <td>0 days 16:30:13.405000</td>\n",
       "    </tr>\n",
       "  </tbody>\n",
       "</table>\n",
       "</div>"
      ],
      "text/plain": [
       "                          startTime  \\\n",
       "0         2022-01-01 01:50:07+00:00   \n",
       "1         2022-01-01 13:52:44+00:00   \n",
       "2  2022-01-03 18:44:55.505000+00:00   \n",
       "3         2022-01-06 01:58:16+00:00   \n",
       "4  2022-01-06 18:28:36.005000+00:00   \n",
       "5  2022-01-08 18:45:00.885000+00:00   \n",
       "6         2022-01-13 01:50:07+00:00   \n",
       "7         2022-01-13 13:52:43+00:00   \n",
       "8  2022-01-13 18:44:55.305000+00:00   \n",
       "9  2022-01-14 18:28:33.480000+00:00   \n",
       "10        2022-01-18 01:58:15+00:00   \n",
       "11 2022-01-18 18:44:59.723000+00:00   \n",
       "12 2022-01-22 18:28:36.093000+00:00   \n",
       "13 2022-01-23 18:44:54.054000+00:00   \n",
       "14        2022-01-25 01:50:06+00:00   \n",
       "15        2022-01-25 13:52:43+00:00   \n",
       "16 2022-01-28 18:44:59.604000+00:00   \n",
       "17        2022-01-30 01:58:15+00:00   \n",
       "18 2022-01-30 18:28:28.405000+00:00   \n",
       "\n",
       "                                             geometry      sensor  \\\n",
       "0   POLYGON ((-115.74355 32.42165, -118.38525 32.0...   sentinel1   \n",
       "1   POLYGON ((-116.69179 32.58789, -116.31526 34.2...   sentinel1   \n",
       "2   POLYGON ((-119.14887 33.33277, -119.17378 34.3...   sentinel2   \n",
       "3   POLYGON ((-117.75010 32.13325, -120.38680 31.7...   sentinel1   \n",
       "4   POLYGON ((-119.14887 33.33277, -119.17378 34.3...  landsat8_9   \n",
       "5   POLYGON ((-119.14887 33.33277, -119.17378 34.3...   sentinel2   \n",
       "6   POLYGON ((-115.74491 32.42239, -118.38660 32.0...   sentinel1   \n",
       "7   POLYGON ((-116.69151 32.58875, -116.31515 34.2...   sentinel1   \n",
       "8   POLYGON ((-118.07511 33.34671, -116.89510 33.3...   sentinel2   \n",
       "9   POLYGON ((-119.14887 33.33277, -119.17378 34.3...  landsat8_9   \n",
       "10  POLYGON ((-117.74937 32.13350, -120.38607 31.7...   sentinel1   \n",
       "11  POLYGON ((-119.14887 33.33277, -119.17378 34.3...   sentinel2   \n",
       "12  POLYGON ((-119.14887 33.33277, -119.17378 34.3...  landsat8_9   \n",
       "13  POLYGON ((-119.14887 33.33277, -119.17378 34.3...   sentinel2   \n",
       "14  POLYGON ((-115.74479 32.42185, -118.38645 32.0...   sentinel1   \n",
       "15  POLYGON ((-116.69087 32.58926, -116.31451 34.2...   sentinel1   \n",
       "16  POLYGON ((-119.14887 33.33277, -119.17378 34.3...   sentinel2   \n",
       "17  POLYGON ((-117.74918 32.13319, -120.38583 31.7...   sentinel1   \n",
       "18  POLYGON ((-119.14887 33.33277, -119.17378 34.3...  landsat8_9   \n",
       "\n",
       "                                               fileID                cadence  \n",
       "0   S1A_IW_SLC__1SDV_20220101T015007_20220101T0150...                    NaT  \n",
       "1   S1A_IW_SLC__1SDV_20220101T135244_20220101T1353...        0 days 12:02:37  \n",
       "2   HLS.S30.T11SMT.2022003T183749.v2.0,HLS.S30.T11... 2 days 04:52:11.505000  \n",
       "3   S1A_IW_SLC__1SDV_20220106T015816_20220106T0158... 2 days 07:13:20.495000  \n",
       "4   HLS.L30.T11SLT.2022006T182836.v2.0,HLS.L30.T11... 0 days 16:30:20.005000  \n",
       "5   HLS.S30.T11SMT.2022008T183741.v2.0,HLS.S30.T11... 2 days 00:16:24.880000  \n",
       "6   S1A_IW_SLC__1SDV_20220113T015007_20220113T0150... 4 days 07:05:06.115000  \n",
       "7   S1A_IW_SLC__1SDV_20220113T135243_20220113T1353...        0 days 12:02:36  \n",
       "8                  HLS.S30.T11SMT.2022013T183719.v2.0 0 days 04:52:12.305000  \n",
       "9   HLS.L30.T11SMT.2022014T182833.v2.0,HLS.L30.T11... 0 days 23:43:38.175000  \n",
       "10  S1A_IW_SLC__1SDV_20220118T015815_20220118T0158... 3 days 07:29:41.520000  \n",
       "11  HLS.S30.T11SMT.2022018T183711.v2.0,HLS.S30.T11... 0 days 16:46:44.723000  \n",
       "12  HLS.L30.T11SMT.2022022T182836.v2.0,HLS.L30.T11... 3 days 23:43:36.370000  \n",
       "13  HLS.S30.T11SMT.2022023T183649.v2.0,HLS.S30.T11... 1 days 00:16:17.961000  \n",
       "14  S1A_IW_SLC__1SDV_20220125T015006_20220125T0150... 1 days 07:05:11.946000  \n",
       "15  S1A_IW_SLC__1SDV_20220125T135243_20220125T1353...        0 days 12:02:37  \n",
       "16  HLS.S30.T11SMT.2022028T183631.v2.0,HLS.S30.T11... 3 days 04:52:16.604000  \n",
       "17  S1A_IW_SLC__1SDV_20220130T015815_20220130T0158... 1 days 07:13:15.396000  \n",
       "18  HLS.L30.T11SLT.2022030T182828.v2.0,HLS.L30.T11... 0 days 16:30:13.405000  "
      ]
     },
     "execution_count": 5,
     "metadata": {},
     "output_type": "execute_result"
    }
   ],
   "source": [
    "df"
   ]
  },
  {
   "cell_type": "markdown",
   "id": "2006df78",
   "metadata": {},
   "source": [
    "Can call built-in DataFrame.mean() function to find mean cadence"
   ]
  },
  {
   "cell_type": "code",
   "execution_count": 6,
   "id": "271b2950",
   "metadata": {
    "scrolled": false
   },
   "outputs": [
    {
     "data": {
      "text/plain": [
       "Timedelta('1 days 15:35:27.855833333')"
      ]
     },
     "execution_count": 6,
     "metadata": {},
     "output_type": "execute_result"
    }
   ],
   "source": [
    "df['cadence'].mean()"
   ]
  },
  {
   "cell_type": "markdown",
   "id": "151872da",
   "metadata": {},
   "source": [
    "The shape2gdf function can convert any shapely geometry to a dataframe, making it easier to plot along with the acquisitions."
   ]
  },
  {
   "cell_type": "code",
   "execution_count": 11,
   "id": "2570ad90",
   "metadata": {},
   "outputs": [],
   "source": [
    "la_df = shape2gdf(la_point, 'la_point')"
   ]
  },
  {
   "cell_type": "markdown",
   "id": "45882c2a",
   "metadata": {},
   "source": [
    "Quick plotting routine"
   ]
  },
  {
   "cell_type": "code",
   "execution_count": 15,
   "id": "01f8a51c",
   "metadata": {},
   "outputs": [
    {
     "data": {
      "text/plain": [
       "Text(67.2314856341345, 0.5, 'Longitude')"
      ]
     },
     "execution_count": 15,
     "metadata": {},
     "output_type": "execute_result"
    },
    {
     "data": {
      "image/png": "[encoded data removed]",
      "text/plain": [
       "<Figure size 432x288 with 1 Axes>"
      ]
     },
     "metadata": {
      "needs_background": "light"
     },
     "output_type": "display_data"
    }
   ],
   "source": [
    "fig,ax = plt.subplots()\n",
    "df.plot(column='fileID',ax=ax,alpha = 0.25)\n",
    "la_df.plot(column='label',ax=ax, legend=True)\n",
    "plt.xlabel('Latitude')\n",
    "plt.ylabel('Longitude')"
   ]
  },
  {
   "cell_type": "code",
   "execution_count": null,
   "id": "693a6b0d",
   "metadata": {},
   "outputs": [],
   "source": []
  }
 ],
 "metadata": {
  "kernelspec": {
   "display_name": "opera_coverage",
   "language": "python",
   "name": "opera_coverage"
  },
  "language_info": {
   "codemirror_mode": {
    "name": "ipython",
    "version": 3
   },
   "file_extension": ".py",
   "mimetype": "text/x-python",
   "name": "python",
   "nbconvert_exporter": "python",
   "pygments_lexer": "ipython3",
   "version": "3.10.5"
  }
 },
 "nbformat": 4,
 "nbformat_minor": 5
}
