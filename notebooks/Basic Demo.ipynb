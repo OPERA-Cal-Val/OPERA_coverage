{
 "cells": [
  {
   "cell_type": "code",
   "execution_count": 1,
   "id": "af8109ac",
   "metadata": {},
   "outputs": [],
   "source": [
    "%load_ext autoreload\n",
    "%autoreload 2"
   ]
  },
  {
   "cell_type": "code",
   "execution_count": 12,
   "id": "25aec795",
   "metadata": {},
   "outputs": [],
   "source": [
    "# GIS imports\n",
    "from shapely.geometry import Polygon, shape, Point, box\n",
    "from opera_coverage import *\n",
    "import geopandas as gpd\n",
    "import pandas as pd\n",
    "from shapely.geometry import box, Point\n",
    "from rasterio.crs import CRS\n",
    "\n",
    "# Misc imports\n",
    "import numpy as np\n",
    "from itertools import product\n",
    "from pathlib import Path\n",
    "from datetime import datetime\n",
    "from tqdm import tqdm\n",
    "import concurrent.futures\n",
    "from typing import List\n",
    "import matplotlib.pyplot as plt\n",
    "import contextily as cx\n",
    "\n",
    "import pickle"
   ]
  },
  {
   "cell_type": "code",
   "execution_count": 3,
   "id": "6d7dbf63",
   "metadata": {},
   "outputs": [],
   "source": [
    "output_path = Path('../output_dfs')\n",
    "output_path.mkdir(exist_ok=True)"
   ]
  },
  {
   "cell_type": "code",
   "execution_count": 4,
   "id": "0fafa746",
   "metadata": {},
   "outputs": [],
   "source": [
    "# helper functions\n",
    "import sys\n",
    "import time\n",
    "\n",
    "# wrapper function for get_coverage, returns string if thread crashed while running\n",
    "def get_cadence_df(geo:Polygon, daterange:List[datetime]):\n",
    "    results = pd.DataFrame(columns=['center_x','center_y','startTime','geometry','sensor','fileID'])\n",
    "    for i in range(3):\n",
    "        try:\n",
    "            df = get_coverage(['sentinel1','sentinel2','landsat8'], geo, daterange)\n",
    "            df['center_x'] = geo.centroid.x\n",
    "            df['center_y'] = geo.centroid.y\n",
    "            return df\n",
    "        except:\n",
    "            print(\"Oops!\", str(sys.exc_info()[0]), \" occurred.\")\n",
    "            print(sys.exc_info()[1])\n",
    "            print(sys.exc_info()[2])\n",
    "            print(\"Attempt \" + str(i) + \" failed\")\n",
    "            time.sleep(2)\n",
    "    return 'Thread crashed'"
   ]
  },
  {
   "cell_type": "code",
   "execution_count": 5,
   "id": "b24798d4",
   "metadata": {},
   "outputs": [],
   "source": [
    "# main function, takes an area of interest as a polygon and a daterange as a list of two datetimes\n",
    "# grid resolution can be changed from default values\n",
    "def get_area_coverage(aoi: Polygon, date: List[datetime], x_res = 1, y_res = 0.25, radius = 0.1):\n",
    "\n",
    "    df_points = grid_intersect(aoi, x_res, y_res, radius)\n",
    "    results = lookup(df_points, date)\n",
    "    \n",
    "    return results"
   ]
  },
  {
   "cell_type": "code",
   "execution_count": 6,
   "id": "34670382",
   "metadata": {},
   "outputs": [],
   "source": [
    "# creates an array of polygon circles within the rectangular bounds of the aoi, then takes intersection with the aoi, returns dataframe\n",
    "def grid_intersect(aoi: Polygon, x_res, y_res, radius):\n",
    "    \n",
    "    x_start, y_start, x_end, y_end = aoi.bounds\n",
    "    df = make_grid(x_start, y_start, x_end, y_end, x_res, y_res, radius)\n",
    "    indices = df.geometry.intersects(aoi)\n",
    "    \n",
    "    return df[indices].reset_index(drop=True)"
   ]
  },
  {
   "cell_type": "code",
   "execution_count": 7,
   "id": "99d33677",
   "metadata": {},
   "outputs": [],
   "source": [
    "# for each geometry in dataframe, runs search through asf and hls search, reformats to dataframe\n",
    "def lookup(df_points: gpd.GeoDataFrame, daterange) -> gpd.GeoDataFrame:\n",
    "    results = []\n",
    "\n",
    "    for i in range(len(df_points) // 200 + 1):\n",
    "        with concurrent.futures.ThreadPoolExecutor(max_workers=5) as executor:\n",
    "            results += list(executor.map(get_cadence_df, tqdm(df_points.geometry[(i * 200):(i + 1) * 200]), [daterange] * 200))\n",
    "    \n",
    "    results = pd.concat([i for i in results if type(i) is not str])\n",
    "        \n",
    "    return results"
   ]
  },
  {
   "cell_type": "code",
   "execution_count": 8,
   "id": "3565cb8b",
   "metadata": {},
   "outputs": [],
   "source": [
    "# Make grid with specified x and y resolution, returns as geodataframe\n",
    "def make_grid(x_start, y_start, x_end, y_end, x_res = 1, y_res = 0.25, radius = 0.1):\n",
    "    lon_lat = list(product(\n",
    "                np.linspace(x_start + (x_res/2), x_end - (x_res/2), int((x_end - x_start) / x_res)), \n",
    "                np.linspace(y_start + (y_res/2), y_end - (y_res/2), int((y_end - y_start) / y_res))\n",
    "                ))\n",
    "\n",
    "    geometry = [Point(lon, lat).buffer(radius) for lon, lat in lon_lat]\n",
    "\n",
    "    center_x = [lon for lon, _ in lon_lat]\n",
    "    center_y = [lat for _, lat in lon_lat]\n",
    "\n",
    "    df = gpd.GeoDataFrame({'center_x':center_x, 'center_y':center_y}, geometry = geometry, crs=CRS.from_epsg(4326))\n",
    "    \n",
    "    return df"
   ]
  },
  {
   "cell_type": "code",
   "execution_count": 13,
   "id": "c2f4451f",
   "metadata": {},
   "outputs": [],
   "source": [
    "# helper functions\n",
    "\n",
    "# the below two functions help grid the data into 1 degree by 1 degree boxes\n",
    "def get_lat(geom):\n",
    "    return int(np.floor(geom.centroid.coords.xy[1][0]))\n",
    "def get_lon(geom):\n",
    "    return int(np.floor(geom.centroid.coords.xy[0][0]))\n",
    "\n",
    "# creates the 1 degree by 1 degree box\n",
    "def make_box(row):\n",
    "    return box(row['lon'], row['lat'], row['lon'] + 1, row['lat'] + 1)"
   ]
  },
  {
   "cell_type": "code",
   "execution_count": 14,
   "id": "4211139a",
   "metadata": {},
   "outputs": [],
   "source": [
    "def calculate_averages(results: gpd.GeoDataFrame) -> gpd.GeoDataFrame:\n",
    "    \n",
    "    results['lat_lon_str'] = results.apply(lambda row: str(row['center_x']) + '_' + str(row['center_y']), axis=1)\n",
    "    \n",
    "    df = pd.DataFrame(columns = ['av_cad_days','avail_sensors','n_avail_sensors'])\n",
    "    \n",
    "    df['av_cad_days'] = [results[results.lat_lon_str == i].cadence.mean().total_seconds()/(3600 * 24) for i in results.lat_lon_str.unique()]\n",
    "    df['avail_sensors'] = [results[results.lat_lon_str == i].sensor.unique() for i in results.lat_lon_str.unique()]\n",
    "    df['n_avail_sensors'] = [len(results[results.lat_lon_str == i].sensor.unique()) for i in results.lat_lon_str.unique()]\n",
    "    geometry = [Point(float(i.split('_')[0]), float(i.split('_')[1])) for i in results.lat_lon_str.unique()]\n",
    "    df = gpd.GeoDataFrame(df, geometry=geometry, crs=CRS.from_epsg(4326))\n",
    "    \n",
    "    return df"
   ]
  },
  {
   "cell_type": "code",
   "execution_count": 15,
   "id": "25b463b7",
   "metadata": {},
   "outputs": [],
   "source": [
    "# Re-grid results to 1x1 degree cells\n",
    "def regrid(df_temp: gpd.GeoDataFrame) -> gpd.GeoDataFrame:\n",
    "    \n",
    "    df_temp['lon'] = df_temp.geometry.map(get_lon)\n",
    "    df_temp['lat'] = df_temp.geometry.map(get_lat)\n",
    "    \n",
    "    return df_temp\n",
    "\n",
    "# Use geodataframe groupby function to aggregate rows to 1 by 1 degree box\n",
    "def aggregator(df_temp: gpd.GeoDataFrame) -> gpd.GeoDataFrame:\n",
    "    df_ag = df_temp.copy()\n",
    "    geom = df_ag.apply(make_box, axis=1)\n",
    "    df_ag = gpd.GeoDataFrame(df_ag,\n",
    "                             geometry=geom,\n",
    "                             crs = CRS.from_epsg(4326))\n",
    "    return df_ag"
   ]
  },
  {
   "cell_type": "code",
   "execution_count": 16,
   "id": "c4be9059",
   "metadata": {},
   "outputs": [],
   "source": [
    "# main function, transforms dataframe of search results to plot dataframe\n",
    "def get_boxes(results: gpd.GeoDataFrame) -> gpd.GeoDataFrame:\n",
    "    \n",
    "    df = calculate_averages(results)\n",
    "    df = regrid(df)\n",
    "    df_ag = aggregator(df)\n",
    "    \n",
    "    return df_ag"
   ]
  },
  {
   "cell_type": "code",
   "execution_count": 17,
   "id": "d81dee93",
   "metadata": {},
   "outputs": [],
   "source": [
    "# filters search results according to sensors\n",
    "def separate_sensors(results: gpd.GeoDataFrame, sensor: list) -> gpd.GeoDataFrame:\n",
    "    \n",
    "    df = results[results.sensor.isin(sensor)].reset_index(drop=True)\n",
    "    df['cadence'] = df.groupby(['center_x','center_y'])['startTime'].transform(lambda x: x.diff())\n",
    "    df.reset_index(drop=True,inplace=True)\n",
    "    \n",
    "    return df"
   ]
  },
  {
   "cell_type": "markdown",
   "id": "98a33c55",
   "metadata": {},
   "source": [
    "Specify area of interest as a shapely polygon and the daterange as a list of two datetimes."
   ]
  },
  {
   "cell_type": "code",
   "execution_count": 10,
   "id": "e9701859",
   "metadata": {},
   "outputs": [],
   "source": [
    "test_aoi = Polygon(([-119, 38],[-116,38],[-116, 40],[-119,40],[-119,38]))\n",
    "daterange = [datetime(2022,1,1),datetime(2022,2,1)]"
   ]
  },
  {
   "cell_type": "code",
   "execution_count": 11,
   "id": "f8998c7e",
   "metadata": {},
   "outputs": [
    {
     "name": "stderr",
     "output_type": "stream",
     "text": [
      "100%|█████████████████████████████████████████████████████████████████| 6/6 [00:00<00:00, 153.35it/s]\n"
     ]
    }
   ],
   "source": [
    "df = get_area_coverage(test_aoi, daterange, x_res = 1, y_res = 1, radius = 0.1)"
   ]
  },
  {
   "cell_type": "code",
   "execution_count": 18,
   "id": "c20d4a58",
   "metadata": {},
   "outputs": [],
   "source": [
    "df_box = get_boxes(df)"
   ]
  },
  {
   "cell_type": "code",
   "execution_count": 19,
   "id": "864d1e72",
   "metadata": {},
   "outputs": [
    {
     "data": {
      "text/plain": [
       "Text(380.7299999999986, 0.5, 'Latitude')"
      ]
     },
     "execution_count": 19,
     "metadata": {},
     "output_type": "execute_result"
    },
    {
     "data": {
      "image/png": "[encoded data removed]",
      "text/plain": [
       "<Figure size 1440x576 with 2 Axes>"
      ]
     },
     "metadata": {
      "needs_background": "light"
     },
     "output_type": "display_data"
    }
   ],
   "source": [
    "fig, ax = plt.subplots(figsize=(20,8))\n",
    "df_box.plot(column='av_cad_days', ax=ax, legend=True, legend_kwds={'label': \"Sensor cadence (# of days)\"})\n",
    "cx.add_basemap(ax=ax,crs='EPSG:4326',source=cx.providers.CartoDB.VoyagerNoLabels)\n",
    "plt.xlabel('Longitude')\n",
    "plt.ylabel('Latitude')\n",
    "# plt.title('')"
   ]
  },
  {
   "cell_type": "code",
   "execution_count": null,
   "id": "b2f54273",
   "metadata": {},
   "outputs": [],
   "source": []
  }
 ],
 "metadata": {
  "kernelspec": {
   "display_name": "opera_coverage",
   "language": "python",
   "name": "opera_coverage"
  },
  "language_info": {
   "codemirror_mode": {
    "name": "ipython",
    "version": 3
   },
   "file_extension": ".py",
   "mimetype": "text/x-python",
   "name": "python",
   "nbconvert_exporter": "python",
   "pygments_lexer": "ipython3",
   "version": "3.10.5"
  }
 },
 "nbformat": 4,
 "nbformat_minor": 5
}
