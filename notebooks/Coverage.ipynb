{
 "cells": [
  {
   "cell_type": "code",
   "execution_count": 1,
   "id": "3752d875",
   "metadata": {},
   "outputs": [
    {
     "data": {
      "text/html": [
       "<style>.container { width:98% !important; }</style>"
      ],
      "text/plain": [
       "<IPython.core.display.HTML object>"
      ]
     },
     "execution_count": 1,
     "metadata": {},
     "output_type": "execute_result"
    }
   ],
   "source": [
    "from IPython.core.display import HTML\n",
    "HTML(\"<style>.container { width:98% !important; }</style>\")"
   ]
  },
  {
   "cell_type": "code",
   "execution_count": 2,
   "id": "531c286d",
   "metadata": {},
   "outputs": [],
   "source": [
    "%load_ext autoreload\n",
    "%autoreload 2"
   ]
  },
  {
   "cell_type": "code",
   "execution_count": 68,
   "id": "a3bd74de",
   "metadata": {},
   "outputs": [],
   "source": [
    "import matplotlib.pyplot as plt\n",
    "# from shapely.geometry import Point, Polygon, shape\n",
    "import asf_search as asf\n",
    "# from datetime import datetime, date, timedelta, timezone\n",
    "# from typing import List\n",
    "from pystac_client import Client, ItemSearch\n",
    "# import geopandas as gpd\n",
    "# from rasterio.crs import CRS\n",
    "# import contextily as cx\n",
    "# import pandas as pd\n",
    "# from shapely.ops import unary_union\n",
    "# from itertools import combinations\n",
    "from opera_coverage import *\n",
    "from shapely.geometry import Polygon\n",
    "from datetime import datetime"
   ]
  },
  {
   "cell_type": "markdown",
   "id": "772684e9",
   "metadata": {},
   "source": [
    "### Polygons of areas of interest:\n",
    "\n",
    "Ridgecrest coordinates: Polygon([[-117.7167, 35.5909],[-117.6322, 35.5909],[-117.6322, 35.6452],[-117.7167, 35.6452],[-117.7167, 35.5909]])\n",
    "\n",
    "Wax lake delta: Polygon([[-91.4964, 29.4641],[-91.3849, 29.4641],[-91.3849, 29.5627],[-91.4964, 29.5627],[-91.4964, 29.4641]])\n",
    "\n",
    "Laurentides forest in Canada: Polygon([[-75.0327, 46.0832],[-74.8823, 46.0832],[-74.8823, 46.1914],[-75.0327, 46.1914],[-75.0327, 46.0832]])"
   ]
  },
  {
   "cell_type": "code",
   "execution_count": 6,
   "id": "046e051e",
   "metadata": {},
   "outputs": [],
   "source": [
    "# create shapely and geodataframe files of areas of interest\n",
    "ridgecrest = Polygon([[-117.7167, 35.5909],[-117.6322, 35.5909],[-117.6322, 35.6452],[-117.7167, 35.6452],[-117.7167, 35.5909]])\n",
    "waxlake = Polygon([[-91.4964, 29.4641],[-91.3849, 29.4641],[-91.3849, 29.5627],[-91.4964, 29.5627],[-91.4964, 29.4641]])\n",
    "laurentides = Polygon([[-75.0327, 46.0832],[-74.8823, 46.0832],[-74.8823, 46.1914],[-75.0327, 46.1914],[-75.0327, 46.0832]])\n",
    "ridgecrest_df = shape2gdf(ridgecrest, 'ridgecrest')\n",
    "waxlake_df = shape2gdf(waxlake, 'waxlake')\n",
    "laurentides_df = shape2gdf(laurentides, 'laurentides')"
   ]
  },
  {
   "cell_type": "code",
   "execution_count": 86,
   "id": "6e8f1038",
   "metadata": {},
   "outputs": [
    {
     "data": {
      "text/plain": [
       "'POLYGON ((-75.0327 46.0832, -74.8823 46.0832, -74.8823 46.1914, -75.0327 46.1914, -75.0327 46.0832))'"
      ]
     },
     "execution_count": 86,
     "metadata": {},
     "output_type": "execute_result"
    }
   ],
   "source": [
    "laurentides.wkt"
   ]
  },
  {
   "cell_type": "code",
   "execution_count": 10,
   "id": "a3810298",
   "metadata": {},
   "outputs": [
    {
     "name": "stdout",
     "output_type": "stream",
     "text": [
      "CPU times: user 180 ms, sys: 15.7 ms, total: 195 ms\n",
      "Wall time: 5.06 s\n"
     ]
    }
   ],
   "source": [
    "%%time\n",
    "freq1, next_acq1, area1 = get_coverage(['sentinel1','sentinel2','landsat8'],ridgecrest,[datetime(2022,1,1), datetime(2022,2,1)])\n"
   ]
  },
  {
   "cell_type": "code",
   "execution_count": 11,
   "id": "9c8a9815",
   "metadata": {},
   "outputs": [],
   "source": [
    "freq2, next_acq2, area2 = get_coverage(['sentinel1','sentinel2','landsat8'],waxlake,[datetime(2022,1,1), datetime(2022,2,1)])\n"
   ]
  },
  {
   "cell_type": "code",
   "execution_count": 30,
   "id": "1fbb5e17",
   "metadata": {
    "scrolled": true
   },
   "outputs": [
    {
     "name": "stdout",
     "output_type": "stream",
     "text": [
      "here\n",
      "here\n",
      "here\n"
     ]
    }
   ],
   "source": [
    "freq3, next_acq3, area3 = get_coverage(['sentinel1','sentinel2','landsat8'],laurentides,[datetime(2022,1,1), datetime(2022,2,1)])\n"
   ]
  },
  {
   "cell_type": "raw",
   "id": "92287acc",
   "metadata": {},
   "source": [
    "print(freq1['landsat8'])\n",
    "print(next_acq1['landsat8'])\n",
    "print(freq1['sentinel1'])\n",
    "print(next_acq1['sentinel1'])\n",
    "print(freq1['sentinel2'])\n",
    "print(next_acq1['sentinel2'])"
   ]
  },
  {
   "cell_type": "raw",
   "id": "9af965e6",
   "metadata": {},
   "source": [
    "print(freq2['landsat8'])\n",
    "print(next_acq2['landsat8'])\n",
    "print(freq2['sentinel1'])\n",
    "print(next_acq2['sentinel1'])\n",
    "print(freq2['sentinel2'])\n",
    "print(next_acq2['sentinel2'])"
   ]
  },
  {
   "cell_type": "code",
   "execution_count": 31,
   "id": "a59f61f9",
   "metadata": {
    "scrolled": false
   },
   "outputs": [
    {
     "name": "stdout",
     "output_type": "stream",
     "text": [
      "['7 days, 0:06:09.592000', '8 days, 23:53:45.752000', '7 days, 0:06:09.381000']\n",
      "Time of next acquisition after 2022-02-01 00:00:00 is 2022-02-09 15:44:10.497000+00:00\n",
      "['11 days, 23:59:59']\n",
      "Time of next acquisition after 2022-02-01 00:00:00 is 2022-02-03 22:52:35+00:00\n",
      "['4 days, 23:59:54.343000', '1 day, 23:50:08.985000', '3 days, 0:09:55.962000', '1 day, 23:49:58.458000', '3 days, 0:09:55.955000', '1 day, 23:50:08.248000', '3 days, 0:09:56.423000', '1 day, 23:49:57.882000', '3 days, 0:09:55.919000', '1 day, 23:50:09.988000']\n",
      "Time of next acquisition after 2022-02-01 00:00:00 is 2022-02-04 16:00:15.136000+00:00\n"
     ]
    }
   ],
   "source": [
    "print(freq3['landsat8'])\n",
    "print(next_acq3['landsat8'])\n",
    "print(freq3['sentinel1'])\n",
    "print(next_acq3['sentinel1'])\n",
    "print(freq3['sentinel2'])\n",
    "print(next_acq3['sentinel2'])"
   ]
  },
  {
   "cell_type": "code",
   "execution_count": 32,
   "id": "ff8b7b9d",
   "metadata": {},
   "outputs": [
    {
     "data": {
      "text/plain": [
       "['7 days, 0:06:09.592000', '8 days, 23:53:45.752000', '7 days, 0:06:09.381000']"
      ]
     },
     "execution_count": 32,
     "metadata": {},
     "output_type": "execute_result"
    }
   ],
   "source": [
    "freq3['landsat8']"
   ]
  },
  {
   "cell_type": "raw",
   "id": "7d445cb5",
   "metadata": {},
   "source": [
    "# print(area1['landsat8'])\n",
    "print(area1['sentinel1'])\n",
    "# print(area1['sentinel2'])"
   ]
  },
  {
   "cell_type": "markdown",
   "id": "6e19a66b",
   "metadata": {},
   "source": [
    "### Work in progress"
   ]
  },
  {
   "cell_type": "code",
   "execution_count": 36,
   "id": "56a4051a",
   "metadata": {
    "scrolled": true
   },
   "outputs": [
    {
     "name": "stderr",
     "output_type": "stream",
     "text": [
      "/var/folders/hs/wfv_gwl12y740vc3gk80q82h0000gq/T/ipykernel_13265/2537816390.py:1: FutureWarning: The frame.append method is deprecated and will be removed from pandas in a future version. Use pandas.concat instead.\n",
      "  a = land8_forest.append(sent2_forest)\n"
     ]
    },
    {
     "data": {
      "text/html": [
       "<div>\n",
       "<style scoped>\n",
       "    .dataframe tbody tr th:only-of-type {\n",
       "        vertical-align: middle;\n",
       "    }\n",
       "\n",
       "    .dataframe tbody tr th {\n",
       "        vertical-align: top;\n",
       "    }\n",
       "\n",
       "    .dataframe thead th {\n",
       "        text-align: right;\n",
       "    }\n",
       "</style>\n",
       "<table border=\"1\" class=\"dataframe\">\n",
       "  <thead>\n",
       "    <tr style=\"text-align: right;\">\n",
       "      <th></th>\n",
       "      <th>startTime</th>\n",
       "      <th>geometry</th>\n",
       "      <th>sensor</th>\n",
       "    </tr>\n",
       "  </thead>\n",
       "  <tbody>\n",
       "    <tr>\n",
       "      <th>0</th>\n",
       "      <td>2022-01-03 16:10:18.694000+00:00</td>\n",
       "      <td>POLYGON ((-76.28945 45.95828, -76.31456 46.946...</td>\n",
       "      <td>sentinel2</td>\n",
       "    </tr>\n",
       "    <tr>\n",
       "      <th>1</th>\n",
       "      <td>2022-01-08 15:44:18.159000+00:00</td>\n",
       "      <td>POLYGON ((-73.55749 46.94462, -73.58334 45.956...</td>\n",
       "      <td>landsat8</td>\n",
       "    </tr>\n",
       "    <tr>\n",
       "      <th>2</th>\n",
       "      <td>2022-01-08 16:10:13.037000+00:00</td>\n",
       "      <td>POLYGON ((-76.29100 45.95826, -76.31456 46.946...</td>\n",
       "      <td>sentinel2</td>\n",
       "    </tr>\n",
       "    <tr>\n",
       "      <th>3</th>\n",
       "      <td>2022-01-10 16:00:22.022000+00:00</td>\n",
       "      <td>POLYGON ((-73.55749 46.94462, -73.58334 45.956...</td>\n",
       "      <td>sentinel2</td>\n",
       "    </tr>\n",
       "    <tr>\n",
       "      <th>4</th>\n",
       "      <td>2022-01-13 16:10:17.984000+00:00</td>\n",
       "      <td>POLYGON ((-76.29100 45.95826, -76.31456 46.946...</td>\n",
       "      <td>sentinel2</td>\n",
       "    </tr>\n",
       "    <tr>\n",
       "      <th>5</th>\n",
       "      <td>2022-01-15 15:50:27.751000+00:00</td>\n",
       "      <td>POLYGON ((-74.87403 45.96548, -76.29100 45.958...</td>\n",
       "      <td>landsat8</td>\n",
       "    </tr>\n",
       "    <tr>\n",
       "      <th>6</th>\n",
       "      <td>2022-01-15 16:00:16.442000+00:00</td>\n",
       "      <td>POLYGON ((-73.55749 46.94462, -73.58334 45.956...</td>\n",
       "      <td>sentinel2</td>\n",
       "    </tr>\n",
       "    <tr>\n",
       "      <th>7</th>\n",
       "      <td>2022-01-18 16:10:12.397000+00:00</td>\n",
       "      <td>POLYGON ((-76.29100 45.95826, -76.31456 46.946...</td>\n",
       "      <td>sentinel2</td>\n",
       "    </tr>\n",
       "    <tr>\n",
       "      <th>8</th>\n",
       "      <td>2022-01-20 16:00:20.645000+00:00</td>\n",
       "      <td>POLYGON ((-73.55749 46.94462, -73.58334 45.956...</td>\n",
       "      <td>sentinel2</td>\n",
       "    </tr>\n",
       "    <tr>\n",
       "      <th>9</th>\n",
       "      <td>2022-01-23 16:10:17.068000+00:00</td>\n",
       "      <td>POLYGON ((-76.29100 45.95826, -76.31456 46.946...</td>\n",
       "      <td>sentinel2</td>\n",
       "    </tr>\n",
       "    <tr>\n",
       "      <th>10</th>\n",
       "      <td>2022-01-24 15:44:13.503000+00:00</td>\n",
       "      <td>POLYGON ((-73.55749 46.94462, -73.58334 45.956...</td>\n",
       "      <td>landsat8</td>\n",
       "    </tr>\n",
       "    <tr>\n",
       "      <th>11</th>\n",
       "      <td>2022-01-25 16:00:14.950000+00:00</td>\n",
       "      <td>POLYGON ((-73.55749 46.94462, -73.58334 45.956...</td>\n",
       "      <td>sentinel2</td>\n",
       "    </tr>\n",
       "    <tr>\n",
       "      <th>12</th>\n",
       "      <td>2022-01-28 16:10:10.869000+00:00</td>\n",
       "      <td>POLYGON ((-76.29100 45.95826, -76.31456 46.946...</td>\n",
       "      <td>sentinel2</td>\n",
       "    </tr>\n",
       "    <tr>\n",
       "      <th>13</th>\n",
       "      <td>2022-01-30 16:00:20.857000+00:00</td>\n",
       "      <td>POLYGON ((-73.55749 46.94462, -73.58334 45.956...</td>\n",
       "      <td>sentinel2</td>\n",
       "    </tr>\n",
       "    <tr>\n",
       "      <th>14</th>\n",
       "      <td>2022-01-31 15:50:22.884000+00:00</td>\n",
       "      <td>POLYGON ((-76.29100 45.95826, -76.31456 46.946...</td>\n",
       "      <td>landsat8</td>\n",
       "    </tr>\n",
       "  </tbody>\n",
       "</table>\n",
       "</div>"
      ],
      "text/plain": [
       "                          startTime  \\\n",
       "0  2022-01-03 16:10:18.694000+00:00   \n",
       "1  2022-01-08 15:44:18.159000+00:00   \n",
       "2  2022-01-08 16:10:13.037000+00:00   \n",
       "3  2022-01-10 16:00:22.022000+00:00   \n",
       "4  2022-01-13 16:10:17.984000+00:00   \n",
       "5  2022-01-15 15:50:27.751000+00:00   \n",
       "6  2022-01-15 16:00:16.442000+00:00   \n",
       "7  2022-01-18 16:10:12.397000+00:00   \n",
       "8  2022-01-20 16:00:20.645000+00:00   \n",
       "9  2022-01-23 16:10:17.068000+00:00   \n",
       "10 2022-01-24 15:44:13.503000+00:00   \n",
       "11 2022-01-25 16:00:14.950000+00:00   \n",
       "12 2022-01-28 16:10:10.869000+00:00   \n",
       "13 2022-01-30 16:00:20.857000+00:00   \n",
       "14 2022-01-31 15:50:22.884000+00:00   \n",
       "\n",
       "                                             geometry     sensor  \n",
       "0   POLYGON ((-76.28945 45.95828, -76.31456 46.946...  sentinel2  \n",
       "1   POLYGON ((-73.55749 46.94462, -73.58334 45.956...   landsat8  \n",
       "2   POLYGON ((-76.29100 45.95826, -76.31456 46.946...  sentinel2  \n",
       "3   POLYGON ((-73.55749 46.94462, -73.58334 45.956...  sentinel2  \n",
       "4   POLYGON ((-76.29100 45.95826, -76.31456 46.946...  sentinel2  \n",
       "5   POLYGON ((-74.87403 45.96548, -76.29100 45.958...   landsat8  \n",
       "6   POLYGON ((-73.55749 46.94462, -73.58334 45.956...  sentinel2  \n",
       "7   POLYGON ((-76.29100 45.95826, -76.31456 46.946...  sentinel2  \n",
       "8   POLYGON ((-73.55749 46.94462, -73.58334 45.956...  sentinel2  \n",
       "9   POLYGON ((-76.29100 45.95826, -76.31456 46.946...  sentinel2  \n",
       "10  POLYGON ((-73.55749 46.94462, -73.58334 45.956...   landsat8  \n",
       "11  POLYGON ((-73.55749 46.94462, -73.58334 45.956...  sentinel2  \n",
       "12  POLYGON ((-76.29100 45.95826, -76.31456 46.946...  sentinel2  \n",
       "13  POLYGON ((-73.55749 46.94462, -73.58334 45.956...  sentinel2  \n",
       "14  POLYGON ((-76.29100 45.95826, -76.31456 46.946...   landsat8  "
      ]
     },
     "execution_count": 36,
     "metadata": {},
     "output_type": "execute_result"
    }
   ],
   "source": [
    "a = land8_forest.append(sent2_forest)\n",
    "a.drop(['start_date'],axis=1,inplace=True)\n",
    "a.sort_values(by=['startTime']).reset_index(drop=True)"
   ]
  },
  {
   "cell_type": "code",
   "execution_count": 85,
   "id": "bf92746b",
   "metadata": {},
   "outputs": [
    {
     "data": {
      "text/plain": [
       "['S1A_IW_SLC__1SDV_20220110T225236_20220110T225303_041405_04EC56_1726-SLC',\n",
       " 'S1A_IW_SLC__1SDV_20220122T225235_20220122T225302_041580_04F215_5E73-SLC']"
      ]
     },
     "execution_count": 85,
     "metadata": {},
     "output_type": "execute_result"
    }
   ],
   "source": [
    "sent1_forest.fileID.tolist()"
   ]
  },
  {
   "cell_type": "code",
   "execution_count": 62,
   "id": "ebb27cf1",
   "metadata": {
    "scrolled": true
   },
   "outputs": [
    {
     "name": "stderr",
     "output_type": "stream",
     "text": [
      "/var/folders/hs/wfv_gwl12y740vc3gk80q82h0000gq/T/ipykernel_13265/3120420114.py:1: FutureWarning: The frame.append method is deprecated and will be removed from pandas in a future version. Use pandas.concat instead.\n",
      "  b = a.append(sent1_forest).reset_index(drop=True)\n"
     ]
    },
    {
     "data": {
      "text/html": [
       "<div>\n",
       "<style scoped>\n",
       "    .dataframe tbody tr th:only-of-type {\n",
       "        vertical-align: middle;\n",
       "    }\n",
       "\n",
       "    .dataframe tbody tr th {\n",
       "        vertical-align: top;\n",
       "    }\n",
       "\n",
       "    .dataframe thead th {\n",
       "        text-align: right;\n",
       "    }\n",
       "</style>\n",
       "<table border=\"1\" class=\"dataframe\">\n",
       "  <thead>\n",
       "    <tr style=\"text-align: right;\">\n",
       "      <th></th>\n",
       "      <th>startTime</th>\n",
       "      <th>geometry</th>\n",
       "      <th>sensor</th>\n",
       "    </tr>\n",
       "  </thead>\n",
       "  <tbody>\n",
       "    <tr>\n",
       "      <th>0</th>\n",
       "      <td>2022-01-03 16:10:18.694000+00:00</td>\n",
       "      <td>POLYGON ((-76.28945 45.95828, -76.31456 46.946...</td>\n",
       "      <td>sentinel2</td>\n",
       "    </tr>\n",
       "    <tr>\n",
       "      <th>1</th>\n",
       "      <td>2022-01-08 15:44:18.159000+00:00</td>\n",
       "      <td>POLYGON ((-73.55749 46.94462, -73.58334 45.956...</td>\n",
       "      <td>landsat8</td>\n",
       "    </tr>\n",
       "    <tr>\n",
       "      <th>2</th>\n",
       "      <td>2022-01-08 16:10:13.037000+00:00</td>\n",
       "      <td>POLYGON ((-76.29100 45.95826, -76.31456 46.946...</td>\n",
       "      <td>sentinel2</td>\n",
       "    </tr>\n",
       "    <tr>\n",
       "      <th>3</th>\n",
       "      <td>2022-01-10 16:00:22.022000+00:00</td>\n",
       "      <td>POLYGON ((-73.55749 46.94462, -73.58334 45.956...</td>\n",
       "      <td>sentinel2</td>\n",
       "    </tr>\n",
       "    <tr>\n",
       "      <th>4</th>\n",
       "      <td>2022-01-10 22:52:36+00:00</td>\n",
       "      <td>POLYGON ((-76.75502 46.30980, -76.29864 44.693...</td>\n",
       "      <td>sentinel1</td>\n",
       "    </tr>\n",
       "    <tr>\n",
       "      <th>5</th>\n",
       "      <td>2022-01-13 16:10:17.984000+00:00</td>\n",
       "      <td>POLYGON ((-76.29100 45.95826, -76.31456 46.946...</td>\n",
       "      <td>sentinel2</td>\n",
       "    </tr>\n",
       "    <tr>\n",
       "      <th>6</th>\n",
       "      <td>2022-01-15 15:50:27.751000+00:00</td>\n",
       "      <td>POLYGON ((-74.87403 45.96548, -76.29100 45.958...</td>\n",
       "      <td>landsat8</td>\n",
       "    </tr>\n",
       "    <tr>\n",
       "      <th>7</th>\n",
       "      <td>2022-01-15 16:00:16.442000+00:00</td>\n",
       "      <td>POLYGON ((-73.55749 46.94462, -73.58334 45.956...</td>\n",
       "      <td>sentinel2</td>\n",
       "    </tr>\n",
       "    <tr>\n",
       "      <th>8</th>\n",
       "      <td>2022-01-18 16:10:12.397000+00:00</td>\n",
       "      <td>POLYGON ((-76.29100 45.95826, -76.31456 46.946...</td>\n",
       "      <td>sentinel2</td>\n",
       "    </tr>\n",
       "    <tr>\n",
       "      <th>9</th>\n",
       "      <td>2022-01-20 16:00:20.645000+00:00</td>\n",
       "      <td>POLYGON ((-73.55749 46.94462, -73.58334 45.956...</td>\n",
       "      <td>sentinel2</td>\n",
       "    </tr>\n",
       "    <tr>\n",
       "      <th>10</th>\n",
       "      <td>2022-01-22 22:52:35+00:00</td>\n",
       "      <td>POLYGON ((-76.75378 46.30882, -76.29739 44.692...</td>\n",
       "      <td>sentinel1</td>\n",
       "    </tr>\n",
       "    <tr>\n",
       "      <th>11</th>\n",
       "      <td>2022-01-23 16:10:17.068000+00:00</td>\n",
       "      <td>POLYGON ((-76.29100 45.95826, -76.31456 46.946...</td>\n",
       "      <td>sentinel2</td>\n",
       "    </tr>\n",
       "    <tr>\n",
       "      <th>12</th>\n",
       "      <td>2022-01-24 15:44:13.503000+00:00</td>\n",
       "      <td>POLYGON ((-73.55749 46.94462, -73.58334 45.956...</td>\n",
       "      <td>landsat8</td>\n",
       "    </tr>\n",
       "    <tr>\n",
       "      <th>13</th>\n",
       "      <td>2022-01-25 16:00:14.950000+00:00</td>\n",
       "      <td>POLYGON ((-73.55749 46.94462, -73.58334 45.956...</td>\n",
       "      <td>sentinel2</td>\n",
       "    </tr>\n",
       "    <tr>\n",
       "      <th>14</th>\n",
       "      <td>2022-01-28 16:10:10.869000+00:00</td>\n",
       "      <td>POLYGON ((-76.29100 45.95826, -76.31456 46.946...</td>\n",
       "      <td>sentinel2</td>\n",
       "    </tr>\n",
       "    <tr>\n",
       "      <th>15</th>\n",
       "      <td>2022-01-30 16:00:20.857000+00:00</td>\n",
       "      <td>POLYGON ((-73.55749 46.94462, -73.58334 45.956...</td>\n",
       "      <td>sentinel2</td>\n",
       "    </tr>\n",
       "    <tr>\n",
       "      <th>16</th>\n",
       "      <td>2022-01-31 15:50:22.884000+00:00</td>\n",
       "      <td>POLYGON ((-76.29100 45.95826, -76.31456 46.946...</td>\n",
       "      <td>landsat8</td>\n",
       "    </tr>\n",
       "  </tbody>\n",
       "</table>\n",
       "</div>"
      ],
      "text/plain": [
       "                          startTime  \\\n",
       "0  2022-01-03 16:10:18.694000+00:00   \n",
       "1  2022-01-08 15:44:18.159000+00:00   \n",
       "2  2022-01-08 16:10:13.037000+00:00   \n",
       "3  2022-01-10 16:00:22.022000+00:00   \n",
       "4         2022-01-10 22:52:36+00:00   \n",
       "5  2022-01-13 16:10:17.984000+00:00   \n",
       "6  2022-01-15 15:50:27.751000+00:00   \n",
       "7  2022-01-15 16:00:16.442000+00:00   \n",
       "8  2022-01-18 16:10:12.397000+00:00   \n",
       "9  2022-01-20 16:00:20.645000+00:00   \n",
       "10        2022-01-22 22:52:35+00:00   \n",
       "11 2022-01-23 16:10:17.068000+00:00   \n",
       "12 2022-01-24 15:44:13.503000+00:00   \n",
       "13 2022-01-25 16:00:14.950000+00:00   \n",
       "14 2022-01-28 16:10:10.869000+00:00   \n",
       "15 2022-01-30 16:00:20.857000+00:00   \n",
       "16 2022-01-31 15:50:22.884000+00:00   \n",
       "\n",
       "                                             geometry     sensor  \n",
       "0   POLYGON ((-76.28945 45.95828, -76.31456 46.946...  sentinel2  \n",
       "1   POLYGON ((-73.55749 46.94462, -73.58334 45.956...   landsat8  \n",
       "2   POLYGON ((-76.29100 45.95826, -76.31456 46.946...  sentinel2  \n",
       "3   POLYGON ((-73.55749 46.94462, -73.58334 45.956...  sentinel2  \n",
       "4   POLYGON ((-76.75502 46.30980, -76.29864 44.693...  sentinel1  \n",
       "5   POLYGON ((-76.29100 45.95826, -76.31456 46.946...  sentinel2  \n",
       "6   POLYGON ((-74.87403 45.96548, -76.29100 45.958...   landsat8  \n",
       "7   POLYGON ((-73.55749 46.94462, -73.58334 45.956...  sentinel2  \n",
       "8   POLYGON ((-76.29100 45.95826, -76.31456 46.946...  sentinel2  \n",
       "9   POLYGON ((-73.55749 46.94462, -73.58334 45.956...  sentinel2  \n",
       "10  POLYGON ((-76.75378 46.30882, -76.29739 44.692...  sentinel1  \n",
       "11  POLYGON ((-76.29100 45.95826, -76.31456 46.946...  sentinel2  \n",
       "12  POLYGON ((-73.55749 46.94462, -73.58334 45.956...   landsat8  \n",
       "13  POLYGON ((-73.55749 46.94462, -73.58334 45.956...  sentinel2  \n",
       "14  POLYGON ((-76.29100 45.95826, -76.31456 46.946...  sentinel2  \n",
       "15  POLYGON ((-73.55749 46.94462, -73.58334 45.956...  sentinel2  \n",
       "16  POLYGON ((-76.29100 45.95826, -76.31456 46.946...   landsat8  "
      ]
     },
     "execution_count": 62,
     "metadata": {},
     "output_type": "execute_result"
    }
   ],
   "source": [
    "b = a.append(sent1_forest).reset_index(drop=True)\n",
    "b.sort_values(by=['startTime'],inplace=True)\n",
    "b.reset_index(drop=True)"
   ]
  },
  {
   "cell_type": "code",
   "execution_count": 61,
   "id": "f6e8257b",
   "metadata": {
    "scrolled": false
   },
   "outputs": [
    {
     "data": {
      "text/plain": [
       "['sentinel2',\n",
       " 'landsat8',\n",
       " 'sentinel2',\n",
       " 'sentinel2',\n",
       " 'sentinel1',\n",
       " 'sentinel2',\n",
       " 'landsat8',\n",
       " 'sentinel2',\n",
       " 'sentinel2',\n",
       " 'sentinel2',\n",
       " 'sentinel1',\n",
       " 'sentinel2',\n",
       " 'landsat8',\n",
       " 'sentinel2',\n",
       " 'sentinel2',\n",
       " 'sentinel2',\n",
       " 'landsat8']"
      ]
     },
     "execution_count": 61,
     "metadata": {},
     "output_type": "execute_result"
    }
   ],
   "source": [
    "b.sensor.tolist()"
   ]
  },
  {
   "cell_type": "code",
   "execution_count": 74,
   "id": "2448a0bd",
   "metadata": {
    "scrolled": true
   },
   "outputs": [
    {
     "data": {
      "text/plain": [
       "(16,)"
      ]
     },
     "execution_count": 74,
     "metadata": {},
     "output_type": "execute_result"
    }
   ],
   "source": [
    "np.diff(b.startTime).shape"
   ]
  },
  {
   "cell_type": "code",
   "execution_count": 75,
   "id": "13f28c8e",
   "metadata": {},
   "outputs": [
    {
     "data": {
      "text/plain": [
       "(17,)"
      ]
     },
     "execution_count": 75,
     "metadata": {},
     "output_type": "execute_result"
    }
   ],
   "source": [
    "b.startTime.shape"
   ]
  },
  {
   "cell_type": "code",
   "execution_count": 78,
   "id": "0a413ad1",
   "metadata": {
    "scrolled": true
   },
   "outputs": [],
   "source": [
    "b['cadence'] = b.startTime.diff()\n",
    "# b.loc[1:, 'cadence'] = b.startTime.diff()\n"
   ]
  },
  {
   "cell_type": "code",
   "execution_count": 79,
   "id": "2b19a646",
   "metadata": {
    "scrolled": true
   },
   "outputs": [
    {
     "data": {
      "text/html": [
       "<div>\n",
       "<style scoped>\n",
       "    .dataframe tbody tr th:only-of-type {\n",
       "        vertical-align: middle;\n",
       "    }\n",
       "\n",
       "    .dataframe tbody tr th {\n",
       "        vertical-align: top;\n",
       "    }\n",
       "\n",
       "    .dataframe thead th {\n",
       "        text-align: right;\n",
       "    }\n",
       "</style>\n",
       "<table border=\"1\" class=\"dataframe\">\n",
       "  <thead>\n",
       "    <tr style=\"text-align: right;\">\n",
       "      <th></th>\n",
       "      <th>startTime</th>\n",
       "      <th>geometry</th>\n",
       "      <th>sensor</th>\n",
       "      <th>cadence</th>\n",
       "    </tr>\n",
       "  </thead>\n",
       "  <tbody>\n",
       "    <tr>\n",
       "      <th>4</th>\n",
       "      <td>2022-01-03 16:10:18.694000+00:00</td>\n",
       "      <td>POLYGON ((-76.28945 45.95828, -76.31456 46.946...</td>\n",
       "      <td>sentinel2</td>\n",
       "      <td>NaT</td>\n",
       "    </tr>\n",
       "    <tr>\n",
       "      <th>0</th>\n",
       "      <td>2022-01-08 15:44:18.159000+00:00</td>\n",
       "      <td>POLYGON ((-73.55749 46.94462, -73.58334 45.956...</td>\n",
       "      <td>landsat8</td>\n",
       "      <td>4 days 23:33:59.465000</td>\n",
       "    </tr>\n",
       "    <tr>\n",
       "      <th>5</th>\n",
       "      <td>2022-01-08 16:10:13.037000+00:00</td>\n",
       "      <td>POLYGON ((-76.29100 45.95826, -76.31456 46.946...</td>\n",
       "      <td>sentinel2</td>\n",
       "      <td>0 days 00:25:54.878000</td>\n",
       "    </tr>\n",
       "    <tr>\n",
       "      <th>6</th>\n",
       "      <td>2022-01-10 16:00:22.022000+00:00</td>\n",
       "      <td>POLYGON ((-73.55749 46.94462, -73.58334 45.956...</td>\n",
       "      <td>sentinel2</td>\n",
       "      <td>1 days 23:50:08.985000</td>\n",
       "    </tr>\n",
       "    <tr>\n",
       "      <th>15</th>\n",
       "      <td>2022-01-10 22:52:36+00:00</td>\n",
       "      <td>POLYGON ((-76.75502 46.30980, -76.29864 44.693...</td>\n",
       "      <td>sentinel1</td>\n",
       "      <td>0 days 06:52:13.978000</td>\n",
       "    </tr>\n",
       "    <tr>\n",
       "      <th>7</th>\n",
       "      <td>2022-01-13 16:10:17.984000+00:00</td>\n",
       "      <td>POLYGON ((-76.29100 45.95826, -76.31456 46.946...</td>\n",
       "      <td>sentinel2</td>\n",
       "      <td>2 days 17:17:41.984000</td>\n",
       "    </tr>\n",
       "    <tr>\n",
       "      <th>1</th>\n",
       "      <td>2022-01-15 15:50:27.751000+00:00</td>\n",
       "      <td>POLYGON ((-74.87403 45.96548, -76.29100 45.958...</td>\n",
       "      <td>landsat8</td>\n",
       "      <td>1 days 23:40:09.767000</td>\n",
       "    </tr>\n",
       "    <tr>\n",
       "      <th>8</th>\n",
       "      <td>2022-01-15 16:00:16.442000+00:00</td>\n",
       "      <td>POLYGON ((-73.55749 46.94462, -73.58334 45.956...</td>\n",
       "      <td>sentinel2</td>\n",
       "      <td>0 days 00:09:48.691000</td>\n",
       "    </tr>\n",
       "    <tr>\n",
       "      <th>9</th>\n",
       "      <td>2022-01-18 16:10:12.397000+00:00</td>\n",
       "      <td>POLYGON ((-76.29100 45.95826, -76.31456 46.946...</td>\n",
       "      <td>sentinel2</td>\n",
       "      <td>3 days 00:09:55.955000</td>\n",
       "    </tr>\n",
       "    <tr>\n",
       "      <th>10</th>\n",
       "      <td>2022-01-20 16:00:20.645000+00:00</td>\n",
       "      <td>POLYGON ((-73.55749 46.94462, -73.58334 45.956...</td>\n",
       "      <td>sentinel2</td>\n",
       "      <td>1 days 23:50:08.248000</td>\n",
       "    </tr>\n",
       "    <tr>\n",
       "      <th>16</th>\n",
       "      <td>2022-01-22 22:52:35+00:00</td>\n",
       "      <td>POLYGON ((-76.75378 46.30882, -76.29739 44.692...</td>\n",
       "      <td>sentinel1</td>\n",
       "      <td>2 days 06:52:14.355000</td>\n",
       "    </tr>\n",
       "    <tr>\n",
       "      <th>11</th>\n",
       "      <td>2022-01-23 16:10:17.068000+00:00</td>\n",
       "      <td>POLYGON ((-76.29100 45.95826, -76.31456 46.946...</td>\n",
       "      <td>sentinel2</td>\n",
       "      <td>0 days 17:17:42.068000</td>\n",
       "    </tr>\n",
       "    <tr>\n",
       "      <th>2</th>\n",
       "      <td>2022-01-24 15:44:13.503000+00:00</td>\n",
       "      <td>POLYGON ((-73.55749 46.94462, -73.58334 45.956...</td>\n",
       "      <td>landsat8</td>\n",
       "      <td>0 days 23:33:56.435000</td>\n",
       "    </tr>\n",
       "    <tr>\n",
       "      <th>12</th>\n",
       "      <td>2022-01-25 16:00:14.950000+00:00</td>\n",
       "      <td>POLYGON ((-73.55749 46.94462, -73.58334 45.956...</td>\n",
       "      <td>sentinel2</td>\n",
       "      <td>1 days 00:16:01.447000</td>\n",
       "    </tr>\n",
       "    <tr>\n",
       "      <th>13</th>\n",
       "      <td>2022-01-28 16:10:10.869000+00:00</td>\n",
       "      <td>POLYGON ((-76.29100 45.95826, -76.31456 46.946...</td>\n",
       "      <td>sentinel2</td>\n",
       "      <td>3 days 00:09:55.919000</td>\n",
       "    </tr>\n",
       "    <tr>\n",
       "      <th>14</th>\n",
       "      <td>2022-01-30 16:00:20.857000+00:00</td>\n",
       "      <td>POLYGON ((-73.55749 46.94462, -73.58334 45.956...</td>\n",
       "      <td>sentinel2</td>\n",
       "      <td>1 days 23:50:09.988000</td>\n",
       "    </tr>\n",
       "    <tr>\n",
       "      <th>3</th>\n",
       "      <td>2022-01-31 15:50:22.884000+00:00</td>\n",
       "      <td>POLYGON ((-76.29100 45.95826, -76.31456 46.946...</td>\n",
       "      <td>landsat8</td>\n",
       "      <td>0 days 23:50:02.027000</td>\n",
       "    </tr>\n",
       "  </tbody>\n",
       "</table>\n",
       "</div>"
      ],
      "text/plain": [
       "                          startTime  \\\n",
       "4  2022-01-03 16:10:18.694000+00:00   \n",
       "0  2022-01-08 15:44:18.159000+00:00   \n",
       "5  2022-01-08 16:10:13.037000+00:00   \n",
       "6  2022-01-10 16:00:22.022000+00:00   \n",
       "15        2022-01-10 22:52:36+00:00   \n",
       "7  2022-01-13 16:10:17.984000+00:00   \n",
       "1  2022-01-15 15:50:27.751000+00:00   \n",
       "8  2022-01-15 16:00:16.442000+00:00   \n",
       "9  2022-01-18 16:10:12.397000+00:00   \n",
       "10 2022-01-20 16:00:20.645000+00:00   \n",
       "16        2022-01-22 22:52:35+00:00   \n",
       "11 2022-01-23 16:10:17.068000+00:00   \n",
       "2  2022-01-24 15:44:13.503000+00:00   \n",
       "12 2022-01-25 16:00:14.950000+00:00   \n",
       "13 2022-01-28 16:10:10.869000+00:00   \n",
       "14 2022-01-30 16:00:20.857000+00:00   \n",
       "3  2022-01-31 15:50:22.884000+00:00   \n",
       "\n",
       "                                             geometry     sensor  \\\n",
       "4   POLYGON ((-76.28945 45.95828, -76.31456 46.946...  sentinel2   \n",
       "0   POLYGON ((-73.55749 46.94462, -73.58334 45.956...   landsat8   \n",
       "5   POLYGON ((-76.29100 45.95826, -76.31456 46.946...  sentinel2   \n",
       "6   POLYGON ((-73.55749 46.94462, -73.58334 45.956...  sentinel2   \n",
       "15  POLYGON ((-76.75502 46.30980, -76.29864 44.693...  sentinel1   \n",
       "7   POLYGON ((-76.29100 45.95826, -76.31456 46.946...  sentinel2   \n",
       "1   POLYGON ((-74.87403 45.96548, -76.29100 45.958...   landsat8   \n",
       "8   POLYGON ((-73.55749 46.94462, -73.58334 45.956...  sentinel2   \n",
       "9   POLYGON ((-76.29100 45.95826, -76.31456 46.946...  sentinel2   \n",
       "10  POLYGON ((-73.55749 46.94462, -73.58334 45.956...  sentinel2   \n",
       "16  POLYGON ((-76.75378 46.30882, -76.29739 44.692...  sentinel1   \n",
       "11  POLYGON ((-76.29100 45.95826, -76.31456 46.946...  sentinel2   \n",
       "2   POLYGON ((-73.55749 46.94462, -73.58334 45.956...   landsat8   \n",
       "12  POLYGON ((-73.55749 46.94462, -73.58334 45.956...  sentinel2   \n",
       "13  POLYGON ((-76.29100 45.95826, -76.31456 46.946...  sentinel2   \n",
       "14  POLYGON ((-73.55749 46.94462, -73.58334 45.956...  sentinel2   \n",
       "3   POLYGON ((-76.29100 45.95826, -76.31456 46.946...   landsat8   \n",
       "\n",
       "                  cadence  \n",
       "4                     NaT  \n",
       "0  4 days 23:33:59.465000  \n",
       "5  0 days 00:25:54.878000  \n",
       "6  1 days 23:50:08.985000  \n",
       "15 0 days 06:52:13.978000  \n",
       "7  2 days 17:17:41.984000  \n",
       "1  1 days 23:40:09.767000  \n",
       "8  0 days 00:09:48.691000  \n",
       "9  3 days 00:09:55.955000  \n",
       "10 1 days 23:50:08.248000  \n",
       "16 2 days 06:52:14.355000  \n",
       "11 0 days 17:17:42.068000  \n",
       "2  0 days 23:33:56.435000  \n",
       "12 1 days 00:16:01.447000  \n",
       "13 3 days 00:09:55.919000  \n",
       "14 1 days 23:50:09.988000  \n",
       "3  0 days 23:50:02.027000  "
      ]
     },
     "execution_count": 79,
     "metadata": {},
     "output_type": "execute_result"
    }
   ],
   "source": [
    "b"
   ]
  },
  {
   "cell_type": "code",
   "execution_count": 80,
   "id": "35cbeaec",
   "metadata": {},
   "outputs": [
    {
     "data": {
      "text/plain": [
       "Timedelta('1 days 17:58:45.261875')"
      ]
     },
     "execution_count": 80,
     "metadata": {},
     "output_type": "execute_result"
    }
   ],
   "source": [
    "b.cadence.mean()"
   ]
  },
  {
   "cell_type": "code",
   "execution_count": 81,
   "id": "18eb39bd",
   "metadata": {},
   "outputs": [
    {
     "data": {
      "text/plain": [
       "<AxesSubplot:>"
      ]
     },
     "execution_count": 81,
     "metadata": {},
     "output_type": "execute_result"
    },
    {
     "data": {
      "image/png": "[encoded data removed]",
      "text/plain": [
       "<Figure size 720x720 with 1 Axes>"
      ]
     },
     "metadata": {
      "needs_background": "light"
     },
     "output_type": "display_data"
    }
   ],
   "source": [
    "fig, ax = plt.subplots(figsize=(10, 10))\n",
    "b.plot(column='sensor',alpha=0.25, legend=True, ax=ax)\n",
    "laurentides_df.plot(ax=ax)"
   ]
  },
  {
   "cell_type": "code",
   "execution_count": 72,
   "id": "cd8040bc",
   "metadata": {},
   "outputs": [
    {
     "data": {
      "text/plain": [
       "array([Timedelta('4 days 23:33:59.465000'),\n",
       "       Timedelta('0 days 00:25:54.878000'),\n",
       "       Timedelta('1 days 23:50:08.985000'),\n",
       "       Timedelta('0 days 06:52:13.978000'),\n",
       "       Timedelta('2 days 17:17:41.984000'),\n",
       "       Timedelta('1 days 23:40:09.767000'),\n",
       "       Timedelta('0 days 00:09:48.691000'),\n",
       "       Timedelta('3 days 00:09:55.955000'),\n",
       "       Timedelta('1 days 23:50:08.248000'),\n",
       "       Timedelta('2 days 06:52:14.355000'),\n",
       "       Timedelta('0 days 17:17:42.068000'),\n",
       "       Timedelta('0 days 23:33:56.435000'),\n",
       "       Timedelta('1 days 00:16:01.447000'),\n",
       "       Timedelta('3 days 00:09:55.919000'),\n",
       "       Timedelta('1 days 23:50:09.988000'),\n",
       "       Timedelta('0 days 23:50:02.027000')], dtype=object)"
      ]
     },
     "execution_count": 72,
     "metadata": {},
     "output_type": "execute_result"
    }
   ],
   "source": [
    "import numpy as np\n",
    "np.diff(b.startTime)"
   ]
  },
  {
   "cell_type": "code",
   "execution_count": null,
   "id": "82b21d2c",
   "metadata": {},
   "outputs": [],
   "source": [
    "world = gpd.read_file(geopandas.datasets.get_path('naturalearth_lowres'))\n",
    "world.plot(figsize=(10,10))"
   ]
  },
  {
   "cell_type": "markdown",
   "id": "f23d7ea0",
   "metadata": {},
   "source": [
    "### The below cells are just for reminding what format the output results have"
   ]
  },
  {
   "cell_type": "code",
   "execution_count": 20,
   "id": "87fbfbc4",
   "metadata": {
    "scrolled": true
   },
   "outputs": [
    {
     "name": "stdout",
     "output_type": "stream",
     "text": [
      "2\n"
     ]
    }
   ],
   "source": [
    "wkt = laurentides.wkt\n",
    "opts = {\n",
    "    'platform': asf.PLATFORM.SENTINEL1,\n",
    "    'processingLevel': [asf.PRODUCT_TYPE.SLC],\n",
    "    'beamMode': [asf.BEAMMODE.IW],\n",
    "    'start': '2022-01-01T00:00:00Z',\n",
    "    'end': '2022-02-01T23:59:59Z'\n",
    "}\n",
    "results = asf.search(intersectsWith=wkt,**opts)\n",
    "print(len(results))"
   ]
  },
  {
   "cell_type": "code",
   "execution_count": 82,
   "id": "82ad4b0e",
   "metadata": {
    "scrolled": true
   },
   "outputs": [],
   "source": [
    "sent1_forest = format_results_for_sent1(results)"
   ]
  },
  {
   "cell_type": "code",
   "execution_count": 22,
   "id": "abdd7b5c",
   "metadata": {
    "scrolled": true
   },
   "outputs": [],
   "source": [
    "STAC_URL = 'https://cmr.earthdata.nasa.gov/stac'\n",
    "api = Client.open(f'{STAC_URL}/LPCLOUD/')\n",
    "hls_collections = ['HLSS30.v2.0']\n",
    "search_params = {\"collections\": hls_collections,\n",
    "                 \"bbox\": [-75.0327, 46.0832, -74.8823, 46.1914], # list of xmin, ymin, xmax, ymax\n",
    "                 \"datetime\": [datetime(2022,1,1), datetime(2022,2,1)],\n",
    "                 }\n",
    "search_hls = api.search(**search_params)\n",
    "hls_collection = search_hls.get_all_items()\n",
    "g = list(hls_collection)\n",
    "# d[0].properties"
   ]
  },
  {
   "cell_type": "code",
   "execution_count": 90,
   "id": "1a689d06",
   "metadata": {},
   "outputs": [
    {
     "data": {
      "text/plain": [
       "'HLS.L30.T18TVS.2022008T154418.v2.0'"
      ]
     },
     "execution_count": 90,
     "metadata": {},
     "output_type": "execute_result"
    }
   ],
   "source": [
    "d[0].id"
   ]
  },
  {
   "cell_type": "code",
   "execution_count": 91,
   "id": "4a4a4196",
   "metadata": {
    "scrolled": true
   },
   "outputs": [
    {
     "data": {
      "text/plain": [
       "['STAC_OBJECT_TYPE',\n",
       " '__abstractmethods__',\n",
       " '__annotations__',\n",
       " '__class__',\n",
       " '__delattr__',\n",
       " '__dict__',\n",
       " '__dir__',\n",
       " '__doc__',\n",
       " '__eq__',\n",
       " '__format__',\n",
       " '__ge__',\n",
       " '__getattribute__',\n",
       " '__gt__',\n",
       " '__hash__',\n",
       " '__init__',\n",
       " '__init_subclass__',\n",
       " '__le__',\n",
       " '__lt__',\n",
       " '__module__',\n",
       " '__ne__',\n",
       " '__new__',\n",
       " '__reduce__',\n",
       " '__reduce_ex__',\n",
       " '__repr__',\n",
       " '__setattr__',\n",
       " '__sizeof__',\n",
       " '__slots__',\n",
       " '__str__',\n",
       " '__subclasshook__',\n",
       " '__weakref__',\n",
       " '_abc_impl',\n",
       " '_object_links',\n",
       " '_repr_html_',\n",
       " 'add_asset',\n",
       " 'add_link',\n",
       " 'add_links',\n",
       " 'assets',\n",
       " 'bbox',\n",
       " 'clear_links',\n",
       " 'clone',\n",
       " 'collection_id',\n",
       " 'common_metadata',\n",
       " 'datetime',\n",
       " 'extra_fields',\n",
       " 'from_dict',\n",
       " 'from_file',\n",
       " 'full_copy',\n",
       " 'geometry',\n",
       " 'get_assets',\n",
       " 'get_collection',\n",
       " 'get_datetime',\n",
       " 'get_links',\n",
       " 'get_parent',\n",
       " 'get_root',\n",
       " 'get_root_link',\n",
       " 'get_self_href',\n",
       " 'get_single_link',\n",
       " 'get_stac_objects',\n",
       " 'id',\n",
       " 'links',\n",
       " 'make_asset_hrefs_absolute',\n",
       " 'make_asset_hrefs_relative',\n",
       " 'matches_object_type',\n",
       " 'properties',\n",
       " 'remove_links',\n",
       " 'resolve_links',\n",
       " 'save_object',\n",
       " 'self_href',\n",
       " 'set_collection',\n",
       " 'set_datetime',\n",
       " 'set_parent',\n",
       " 'set_root',\n",
       " 'set_self_href',\n",
       " 'stac_extensions',\n",
       " 'to_dict',\n",
       " 'validate']"
      ]
     },
     "execution_count": 91,
     "metadata": {},
     "output_type": "execute_result"
    }
   ],
   "source": [
    "dir(d[0])"
   ]
  },
  {
   "cell_type": "code",
   "execution_count": 92,
   "id": "c6dbec2f",
   "metadata": {},
   "outputs": [
    {
     "data": {
      "text/plain": [
       "{'type': 'Feature',\n",
       " 'stac_version': '1.0.0',\n",
       " 'id': 'HLS.L30.T18TVS.2022008T154418.v2.0',\n",
       " 'properties': {'datetime': '2022-01-08T15:44:18.159000Z',\n",
       "  'start_datetime': '2022-01-08T15:44:18.159Z',\n",
       "  'end_datetime': '2022-01-08T15:44:42.038Z'},\n",
       " 'geometry': {'type': 'Polygon',\n",
       "  'coordinates': [[[-75.7401564, 45.9631543],\n",
       "    [-74.8740327, 45.9654817],\n",
       "    [-74.871733, 46.9536373],\n",
       "    [-75.3921562, 46.9530376],\n",
       "    [-75.7401564, 45.9631543]]]},\n",
       " 'links': [{'rel': 'self',\n",
       "   'href': 'https://cmr.earthdata.nasa.gov/stac/LPCLOUD/collections/HLSL30.v2.0/items/HLS.L30.T18TVS.2022008T154418.v2.0'},\n",
       "  {'rel': 'parent',\n",
       "   'href': 'https://cmr.earthdata.nasa.gov/stac/LPCLOUD/collections/HLSL30.v2.0'},\n",
       "  {'rel': 'collection',\n",
       "   'href': 'https://cmr.earthdata.nasa.gov/stac/LPCLOUD/collections/HLSL30.v2.0'},\n",
       "  {'rel': <RelType.ROOT: 'root'>,\n",
       "   'href': 'https://cmr.earthdata.nasa.gov/stac/LPCLOUD/',\n",
       "   'type': <MediaType.JSON: 'application/json'>,\n",
       "   'title': 'LPCLOUD'},\n",
       "  {'rel': 'provider', 'href': 'https://cmr.earthdata.nasa.gov/stac/LPCLOUD'},\n",
       "  {'rel': 'via',\n",
       "   'href': 'https://cmr.earthdata.nasa.gov/search/concepts/G2197821767-LPCLOUD.json'},\n",
       "  {'rel': 'via',\n",
       "   'href': 'https://cmr.earthdata.nasa.gov/search/concepts/G2197821767-LPCLOUD.umm_json'}],\n",
       " 'assets': {'B07': {'href': 'https://data.lpdaac.earthdatacloud.nasa.gov/lp-prod-protected/HLSL30.020/HLS.L30.T18TVS.2022008T154418.v2.0/HLS.L30.T18TVS.2022008T154418.v2.0.B07.tif',\n",
       "   'title': 'Download HLS.L30.T18TVS.2022008T154418.v2.0.B07.tif'},\n",
       "  'B04': {'href': 'https://data.lpdaac.earthdatacloud.nasa.gov/lp-prod-protected/HLSL30.020/HLS.L30.T18TVS.2022008T154418.v2.0/HLS.L30.T18TVS.2022008T154418.v2.0.B04.tif',\n",
       "   'title': 'Download HLS.L30.T18TVS.2022008T154418.v2.0.B04.tif'},\n",
       "  'B03': {'href': 'https://data.lpdaac.earthdatacloud.nasa.gov/lp-prod-protected/HLSL30.020/HLS.L30.T18TVS.2022008T154418.v2.0/HLS.L30.T18TVS.2022008T154418.v2.0.B03.tif',\n",
       "   'title': 'Download HLS.L30.T18TVS.2022008T154418.v2.0.B03.tif'},\n",
       "  'B11': {'href': 'https://data.lpdaac.earthdatacloud.nasa.gov/lp-prod-protected/HLSL30.020/HLS.L30.T18TVS.2022008T154418.v2.0/HLS.L30.T18TVS.2022008T154418.v2.0.B11.tif',\n",
       "   'title': 'Download HLS.L30.T18TVS.2022008T154418.v2.0.B11.tif'},\n",
       "  'Fmask': {'href': 'https://data.lpdaac.earthdatacloud.nasa.gov/lp-prod-protected/HLSL30.020/HLS.L30.T18TVS.2022008T154418.v2.0/HLS.L30.T18TVS.2022008T154418.v2.0.Fmask.tif',\n",
       "   'title': 'Download HLS.L30.T18TVS.2022008T154418.v2.0.Fmask.tif'},\n",
       "  'VAA': {'href': 'https://data.lpdaac.earthdatacloud.nasa.gov/lp-prod-protected/HLSL30.020/HLS.L30.T18TVS.2022008T154418.v2.0/HLS.L30.T18TVS.2022008T154418.v2.0.VAA.tif',\n",
       "   'title': 'Download HLS.L30.T18TVS.2022008T154418.v2.0.VAA.tif'},\n",
       "  'B01': {'href': 'https://data.lpdaac.earthdatacloud.nasa.gov/lp-prod-protected/HLSL30.020/HLS.L30.T18TVS.2022008T154418.v2.0/HLS.L30.T18TVS.2022008T154418.v2.0.B01.tif',\n",
       "   'title': 'Download HLS.L30.T18TVS.2022008T154418.v2.0.B01.tif'},\n",
       "  'B09': {'href': 'https://data.lpdaac.earthdatacloud.nasa.gov/lp-prod-protected/HLSL30.020/HLS.L30.T18TVS.2022008T154418.v2.0/HLS.L30.T18TVS.2022008T154418.v2.0.B09.tif',\n",
       "   'title': 'Download HLS.L30.T18TVS.2022008T154418.v2.0.B09.tif'},\n",
       "  'B06': {'href': 'https://data.lpdaac.earthdatacloud.nasa.gov/lp-prod-protected/HLSL30.020/HLS.L30.T18TVS.2022008T154418.v2.0/HLS.L30.T18TVS.2022008T154418.v2.0.B06.tif',\n",
       "   'title': 'Download HLS.L30.T18TVS.2022008T154418.v2.0.B06.tif'},\n",
       "  'SZA': {'href': 'https://data.lpdaac.earthdatacloud.nasa.gov/lp-prod-protected/HLSL30.020/HLS.L30.T18TVS.2022008T154418.v2.0/HLS.L30.T18TVS.2022008T154418.v2.0.SZA.tif',\n",
       "   'title': 'Download HLS.L30.T18TVS.2022008T154418.v2.0.SZA.tif'},\n",
       "  'B05': {'href': 'https://data.lpdaac.earthdatacloud.nasa.gov/lp-prod-protected/HLSL30.020/HLS.L30.T18TVS.2022008T154418.v2.0/HLS.L30.T18TVS.2022008T154418.v2.0.B05.tif',\n",
       "   'title': 'Download HLS.L30.T18TVS.2022008T154418.v2.0.B05.tif'},\n",
       "  'B10': {'href': 'https://data.lpdaac.earthdatacloud.nasa.gov/lp-prod-protected/HLSL30.020/HLS.L30.T18TVS.2022008T154418.v2.0/HLS.L30.T18TVS.2022008T154418.v2.0.B10.tif',\n",
       "   'title': 'Download HLS.L30.T18TVS.2022008T154418.v2.0.B10.tif'},\n",
       "  'SAA': {'href': 'https://data.lpdaac.earthdatacloud.nasa.gov/lp-prod-protected/HLSL30.020/HLS.L30.T18TVS.2022008T154418.v2.0/HLS.L30.T18TVS.2022008T154418.v2.0.SAA.tif',\n",
       "   'title': 'Download HLS.L30.T18TVS.2022008T154418.v2.0.SAA.tif'},\n",
       "  'VZA': {'href': 'https://data.lpdaac.earthdatacloud.nasa.gov/lp-prod-protected/HLSL30.020/HLS.L30.T18TVS.2022008T154418.v2.0/HLS.L30.T18TVS.2022008T154418.v2.0.VZA.tif',\n",
       "   'title': 'Download HLS.L30.T18TVS.2022008T154418.v2.0.VZA.tif'},\n",
       "  'B02': {'href': 'https://data.lpdaac.earthdatacloud.nasa.gov/lp-prod-protected/HLSL30.020/HLS.L30.T18TVS.2022008T154418.v2.0/HLS.L30.T18TVS.2022008T154418.v2.0.B02.tif',\n",
       "   'title': 'Download HLS.L30.T18TVS.2022008T154418.v2.0.B02.tif'},\n",
       "  'browse': {'href': 'https://data.lpdaac.earthdatacloud.nasa.gov/lp-prod-public/HLSL30.020/HLS.L30.T18TVS.2022008T154418.v2.0/HLS.L30.T18TVS.2022008T154418.v2.0.jpg',\n",
       "   'type': 'image/jpeg',\n",
       "   'title': 'Download HLS.L30.T18TVS.2022008T154418.v2.0.jpg'},\n",
       "  'metadata': {'href': 'https://cmr.earthdata.nasa.gov/search/concepts/G2197821767-LPCLOUD.xml',\n",
       "   'type': 'application/xml'}},\n",
       " 'bbox': [-75.740156, 45.963154, -74.871733, 46.953708],\n",
       " 'stac_extensions': [],\n",
       " 'collection': 'HLSL30.v2.0'}"
      ]
     },
     "execution_count": 92,
     "metadata": {},
     "output_type": "execute_result"
    }
   ],
   "source": [
    "d[0].to_dict()"
   ]
  },
  {
   "cell_type": "code",
   "execution_count": 35,
   "id": "ce8076af",
   "metadata": {},
   "outputs": [],
   "source": [
    "sent2_forest = format_results_for_hls(g,'sentinel2')\n",
    "sent2_forest = sent2_forest.dissolve(by='start_date').reset_index()\n",
    "sent2_forest.drop(['start_date'], axis=1, inplace=True)"
   ]
  },
  {
   "cell_type": "code",
   "execution_count": 24,
   "id": "21f1a2b4",
   "metadata": {},
   "outputs": [],
   "source": [
    "STAC_URL = 'https://cmr.earthdata.nasa.gov/stac'\n",
    "api = Client.open(f'{STAC_URL}/LPCLOUD/')\n",
    "hls_collections = ['HLSL30.v2.0']\n",
    "search_params = {\"collections\": hls_collections,\n",
    "                 \"bbox\": [-75.0327, 46.0832, -74.8823, 46.1914], # list of xmin, ymin, xmax, ymax\n",
    "                 \"datetime\": [datetime(2022,1,1), datetime(2022,2,1)],\n",
    "                 }\n",
    "search_hls = api.search(**search_params)\n",
    "hls_collection = search_hls.get_all_items()\n",
    "d = list(hls_collection)"
   ]
  },
  {
   "cell_type": "code",
   "execution_count": 25,
   "id": "d0641e1f",
   "metadata": {},
   "outputs": [],
   "source": [
    "land8_forest = format_results_for_hls(d,'landsat8')"
   ]
  },
  {
   "cell_type": "code",
   "execution_count": 26,
   "id": "425b278e",
   "metadata": {
    "scrolled": true
   },
   "outputs": [],
   "source": [
    "land8_forest = land8_forest.dissolve(by='startTime').reset_index()"
   ]
  },
  {
   "cell_type": "code",
   "execution_count": null,
   "id": "d87b5a36",
   "metadata": {},
   "outputs": [],
   "source": [
    "sent2_forest = sent2_forest.dissolve('start_date').reset_index()"
   ]
  },
  {
   "cell_type": "raw",
   "id": "33e606d2",
   "metadata": {},
   "source": [
    "dir(d[0])"
   ]
  },
  {
   "cell_type": "code",
   "execution_count": null,
   "id": "986063da",
   "metadata": {
    "scrolled": true
   },
   "outputs": [],
   "source": [
    "d[1].to_dict()"
   ]
  },
  {
   "cell_type": "raw",
   "id": "dc4535c9",
   "metadata": {},
   "source": [
    "df.iloc[:2].to_file('test2.geojson',driver='GeoJSON')"
   ]
  },
  {
   "cell_type": "code",
   "execution_count": null,
   "id": "f9796374",
   "metadata": {},
   "outputs": [],
   "source": [
    "shape(area1['sentinel1'])"
   ]
  },
  {
   "cell_type": "markdown",
   "id": "0e70c955",
   "metadata": {},
   "source": [
    "# Visualization"
   ]
  },
  {
   "cell_type": "code",
   "execution_count": null,
   "id": "ea6206de",
   "metadata": {
    "scrolled": false
   },
   "outputs": [],
   "source": [
    "visual(df_dis.geometry)"
   ]
  },
  {
   "cell_type": "code",
   "execution_count": null,
   "id": "b15b3237",
   "metadata": {},
   "outputs": [],
   "source": [
    "find_overlap(df_dis.geometry)"
   ]
  },
  {
   "cell_type": "code",
   "execution_count": null,
   "id": "1ba30952",
   "metadata": {},
   "outputs": [],
   "source": [
    "visual(area1['sentinel1'],outline=True)"
   ]
  },
  {
   "cell_type": "code",
   "execution_count": null,
   "id": "a616698e",
   "metadata": {},
   "outputs": [],
   "source": [
    "visual(area1['sentinel1'])"
   ]
  },
  {
   "cell_type": "code",
   "execution_count": null,
   "id": "5bbe41ef",
   "metadata": {},
   "outputs": [],
   "source": [
    "visual(area1)"
   ]
  },
  {
   "cell_type": "code",
   "execution_count": null,
   "id": "c91cf66b",
   "metadata": {
    "scrolled": false
   },
   "outputs": [],
   "source": [
    "visual(area2)"
   ]
  },
  {
   "cell_type": "code",
   "execution_count": null,
   "id": "43820c9d",
   "metadata": {
    "scrolled": false
   },
   "outputs": [],
   "source": [
    "visual(area3)"
   ]
  },
  {
   "cell_type": "markdown",
   "id": "5d93bd22",
   "metadata": {},
   "source": [
    "### Deprecated"
   ]
  },
  {
   "cell_type": "raw",
   "id": "ee6db9da",
   "metadata": {},
   "source": [
    "Point(-121.5, 34.95)\n",
    "STAC_URL = 'https://earth-search.aws.element84.com/v0'\n",
    "api = Client.open(STAC_URL)\n",
    "url_collections = ['sentinel-s2-l2a-cogs']\n",
    "search_params = {\"collections\": url_collections,\n",
    "#                  \"bbox\": [-121.5, 34.95, -120.2, 36.25], # list of xmin, ymin, xmax, ymax\n",
    "                 \"datetime\": [datetime(2016,1,1), datetime(2016,2,1)],\n",
    "                 \"max_items\": 500}\n",
    "search_hls = api.search(**search_params)\n",
    "hls_collection = search_hls.get_all_items()\n",
    "d = list(hls_collection)"
   ]
  }
 ],
 "metadata": {
  "kernelspec": {
   "display_name": "Python 3 (ipykernel)",
   "language": "python",
   "name": "python3"
  },
  "language_info": {
   "codemirror_mode": {
    "name": "ipython",
    "version": 3
   },
   "file_extension": ".py",
   "mimetype": "text/x-python",
   "name": "python",
   "nbconvert_exporter": "python",
   "pygments_lexer": "ipython3",
   "version": "3.10.5"
  }
 },
 "nbformat": 4,
 "nbformat_minor": 5
}
