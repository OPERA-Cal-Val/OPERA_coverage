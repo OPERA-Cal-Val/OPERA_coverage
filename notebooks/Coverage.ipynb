{
 "cells": [
  {
   "cell_type": "code",
   "execution_count": 1,
   "id": "3752d875",
   "metadata": {},
   "outputs": [
    {
     "data": {
      "text/html": [
       "<style>.container { width:98% !important; }</style>"
      ],
      "text/plain": [
       "<IPython.core.display.HTML object>"
      ]
     },
     "execution_count": 1,
     "metadata": {},
     "output_type": "execute_result"
    }
   ],
   "source": [
    "from IPython.core.display import HTML\n",
    "HTML(\"<style>.container { width:98% !important; }</style>\")"
   ]
  },
  {
   "cell_type": "code",
   "execution_count": 2,
   "id": "531c286d",
   "metadata": {},
   "outputs": [],
   "source": [
    "%load_ext autoreload\n",
    "%autoreload 2"
   ]
  },
  {
   "cell_type": "code",
   "execution_count": 3,
   "id": "a3bd74de",
   "metadata": {},
   "outputs": [],
   "source": [
    "import matplotlib.pyplot as plt\n",
    "# from shapely.geometry import Polygon, shape\n",
    "import asf_search as asf\n",
    "# from datetime import datetime, timedelta\n",
    "# from typing import List\n",
    "from pystac_client import Client, ItemSearch\n",
    "# import geopandas as gpd\n",
    "# import pandas as pd\n",
    "from opera_coverage import *\n",
    "from shapely.geometry import Polygon\n",
    "from datetime import datetime"
   ]
  },
  {
   "cell_type": "markdown",
   "id": "772684e9",
   "metadata": {},
   "source": [
    "### Polygons of areas of interest:\n",
    "\n",
    "Ridgecrest coordinates: Polygon([[-117.7167, 35.5909],[-117.6322, 35.5909],[-117.6322, 35.6452],[-117.7167, 35.6452],[-117.7167, 35.5909]])\n",
    "\n",
    "Wax lake delta: Polygon([[-91.4964, 29.4641],[-91.3849, 29.4641],[-91.3849, 29.5627],[-91.4964, 29.5627],[-91.4964, 29.4641]])\n",
    "\n",
    "Laurentides forest in Canada: Polygon([[-75.0327, 46.0832],[-74.8823, 46.0832],[-74.8823, 46.1914],[-75.0327, 46.1914],[-75.0327, 46.0832]])"
   ]
  },
  {
   "cell_type": "code",
   "execution_count": 4,
   "id": "046e051e",
   "metadata": {},
   "outputs": [],
   "source": [
    "# create shapely and geodataframe files of areas of interest\n",
    "ridgecrest = Polygon([[-117.7167, 35.5909],[-117.6322, 35.5909],[-117.6322, 35.6452],[-117.7167, 35.6452],[-117.7167, 35.5909]])\n",
    "waxlake = Polygon([[-91.4964, 29.4641],[-91.3849, 29.4641],[-91.3849, 29.5627],[-91.4964, 29.5627],[-91.4964, 29.4641]])\n",
    "laurentides = Polygon([[-75.0327, 46.0832],[-74.8823, 46.0832],[-74.8823, 46.1914],[-75.0327, 46.1914],[-75.0327, 46.0832]])\n",
    "ridgecrest_df = shape2gdf(ridgecrest, 'ridgecrest')\n",
    "waxlake_df = shape2gdf(waxlake, 'waxlake')\n",
    "laurentides_df = shape2gdf(laurentides, 'laurentides')"
   ]
  },
  {
   "cell_type": "code",
   "execution_count": 86,
   "id": "a3810298",
   "metadata": {
    "scrolled": true
   },
   "outputs": [
    {
     "name": "stdout",
     "output_type": "stream",
     "text": [
      "CPU times: user 461 ms, sys: 29.4 ms, total: 490 ms\n",
      "Wall time: 11.4 s\n"
     ]
    },
    {
     "name": "stderr",
     "output_type": "stream",
     "text": [
      "/Users/angelac/opera_coverage/opera_coverage/search.py:114: FutureWarning: The frame.append method is deprecated and will be removed from pandas in a future version. Use pandas.concat instead.\n",
      "  return cadence\n",
      "/Users/angelac/opera_coverage/opera_coverage/search.py:117: FutureWarning: The frame.append method is deprecated and will be removed from pandas in a future version. Use pandas.concat instead.\n",
      "  master = dfs[0].append(dfs[1])\n"
     ]
    }
   ],
   "source": [
    "%%time\n",
    "freq1, next_acq1, area1, master1 = get_coverage(['sentinel1','sentinel2','landsat8'],ridgecrest,[datetime(2022,1,1), datetime(2022,2,1)])\n"
   ]
  },
  {
   "cell_type": "code",
   "execution_count": 87,
   "id": "551ba3e9",
   "metadata": {
    "scrolled": true
   },
   "outputs": [
    {
     "data": {
      "text/html": [
       "<div>\n",
       "<style scoped>\n",
       "    .dataframe tbody tr th:only-of-type {\n",
       "        vertical-align: middle;\n",
       "    }\n",
       "\n",
       "    .dataframe tbody tr th {\n",
       "        vertical-align: top;\n",
       "    }\n",
       "\n",
       "    .dataframe thead th {\n",
       "        text-align: right;\n",
       "    }\n",
       "</style>\n",
       "<table border=\"1\" class=\"dataframe\">\n",
       "  <thead>\n",
       "    <tr style=\"text-align: right;\">\n",
       "      <th></th>\n",
       "      <th>startTime</th>\n",
       "      <th>geometry</th>\n",
       "      <th>sensor</th>\n",
       "      <th>fileID</th>\n",
       "      <th>cadence</th>\n",
       "    </tr>\n",
       "  </thead>\n",
       "  <tbody>\n",
       "    <tr>\n",
       "      <th>0</th>\n",
       "      <td>2022-01-01 01:51:00+00:00</td>\n",
       "      <td>POLYGON ((-119.51417 36.85466, -119.12637 35.2...</td>\n",
       "      <td>sentinel1</td>\n",
       "      <td>S1A_IW_SLC__1SDV_20220101T015100_20220101T0151...</td>\n",
       "      <td>NaT</td>\n",
       "    </tr>\n",
       "    <tr>\n",
       "      <th>1</th>\n",
       "      <td>2022-01-01 13:52:18+00:00</td>\n",
       "      <td>POLYGON ((-116.35956 34.08510, -115.96290 35.7...</td>\n",
       "      <td>sentinel1</td>\n",
       "      <td>S1A_IW_SLC__1SDV_20220101T135218_20220101T1352...</td>\n",
       "      <td>0 days 12:01:18</td>\n",
       "    </tr>\n",
       "    <tr>\n",
       "      <th>2</th>\n",
       "      <td>2022-01-03 18:44:26.649000+00:00</td>\n",
       "      <td>POLYGON ((-118.09829 35.14991, -116.89284 35.1...</td>\n",
       "      <td>sentinel2</td>\n",
       "      <td>HLS.S30.T11SMV.2022003T183749.v2.0</td>\n",
       "      <td>2 days 04:52:08.649000</td>\n",
       "    </tr>\n",
       "    <tr>\n",
       "      <th>3</th>\n",
       "      <td>2022-01-08 18:44:32.032000+00:00</td>\n",
       "      <td>POLYGON ((-118.09829 35.14991, -116.89284 35.1...</td>\n",
       "      <td>sentinel2</td>\n",
       "      <td>HLS.S30.T11SMV.2022008T183741.v2.0</td>\n",
       "      <td>5 days 00:00:05.383000</td>\n",
       "    </tr>\n",
       "    <tr>\n",
       "      <th>4</th>\n",
       "      <td>2022-01-13 01:51:00+00:00</td>\n",
       "      <td>POLYGON ((-119.51548 36.85461, -119.12757 35.2...</td>\n",
       "      <td>sentinel1</td>\n",
       "      <td>S1A_IW_SLC__1SDV_20220113T015100_20220113T0151...</td>\n",
       "      <td>4 days 07:06:27.968000</td>\n",
       "    </tr>\n",
       "    <tr>\n",
       "      <th>5</th>\n",
       "      <td>2022-01-13 13:52:18+00:00</td>\n",
       "      <td>POLYGON ((-116.35944 34.08509, -115.96275 35.7...</td>\n",
       "      <td>sentinel1</td>\n",
       "      <td>S1A_IW_SLC__1SDV_20220113T135218_20220113T1352...</td>\n",
       "      <td>0 days 12:01:18</td>\n",
       "    </tr>\n",
       "    <tr>\n",
       "      <th>6</th>\n",
       "      <td>2022-01-14 18:28:09.597000+00:00</td>\n",
       "      <td>POLYGON ((-118.09829 35.14991, -117.10661 35.1...</td>\n",
       "      <td>landsat8</td>\n",
       "      <td>HLS.L30.T11SMV.2022014T182809.v2.0</td>\n",
       "      <td>1 days 04:35:51.597000</td>\n",
       "    </tr>\n",
       "    <tr>\n",
       "      <th>7</th>\n",
       "      <td>2022-01-18 18:44:30.867000+00:00</td>\n",
       "      <td>POLYGON ((-118.09829 35.14991, -116.89284 35.1...</td>\n",
       "      <td>sentinel2</td>\n",
       "      <td>HLS.S30.T11SMV.2022018T183711.v2.0</td>\n",
       "      <td>4 days 00:16:21.270000</td>\n",
       "    </tr>\n",
       "    <tr>\n",
       "      <th>8</th>\n",
       "      <td>2022-01-23 18:44:25.195000+00:00</td>\n",
       "      <td>POLYGON ((-118.09829 35.14991, -116.89284 35.1...</td>\n",
       "      <td>sentinel2</td>\n",
       "      <td>HLS.S30.T11SMV.2022023T183649.v2.0</td>\n",
       "      <td>4 days 23:59:54.328000</td>\n",
       "    </tr>\n",
       "    <tr>\n",
       "      <th>9</th>\n",
       "      <td>2022-01-25 01:50:59+00:00</td>\n",
       "      <td>POLYGON ((-119.51542 36.85430, -119.12750 35.2...</td>\n",
       "      <td>sentinel1</td>\n",
       "      <td>S1A_IW_SLC__1SDV_20220125T015059_20220125T0151...</td>\n",
       "      <td>1 days 07:06:33.805000</td>\n",
       "    </tr>\n",
       "    <tr>\n",
       "      <th>10</th>\n",
       "      <td>2022-01-25 13:52:17+00:00</td>\n",
       "      <td>POLYGON ((-116.35883 34.08535, -115.96218 35.7...</td>\n",
       "      <td>sentinel1</td>\n",
       "      <td>S1A_IW_SLC__1SDV_20220125T135217_20220125T1352...</td>\n",
       "      <td>0 days 12:01:18</td>\n",
       "    </tr>\n",
       "    <tr>\n",
       "      <th>11</th>\n",
       "      <td>2022-01-28 18:44:30.749000+00:00</td>\n",
       "      <td>POLYGON ((-118.09829 35.14991, -116.89284 35.1...</td>\n",
       "      <td>sentinel2</td>\n",
       "      <td>HLS.S30.T11SMV.2022028T183631.v2.0</td>\n",
       "      <td>3 days 04:52:13.749000</td>\n",
       "    </tr>\n",
       "    <tr>\n",
       "      <th>12</th>\n",
       "      <td>2022-01-30 18:28:04.518000+00:00</td>\n",
       "      <td>POLYGON ((-118.09829 35.14991, -117.10398 35.1...</td>\n",
       "      <td>landsat8</td>\n",
       "      <td>HLS.L30.T11SMV.2022030T182804.v2.0</td>\n",
       "      <td>1 days 23:43:33.769000</td>\n",
       "    </tr>\n",
       "  </tbody>\n",
       "</table>\n",
       "</div>"
      ],
      "text/plain": [
       "                          startTime  \\\n",
       "0         2022-01-01 01:51:00+00:00   \n",
       "1         2022-01-01 13:52:18+00:00   \n",
       "2  2022-01-03 18:44:26.649000+00:00   \n",
       "3  2022-01-08 18:44:32.032000+00:00   \n",
       "4         2022-01-13 01:51:00+00:00   \n",
       "5         2022-01-13 13:52:18+00:00   \n",
       "6  2022-01-14 18:28:09.597000+00:00   \n",
       "7  2022-01-18 18:44:30.867000+00:00   \n",
       "8  2022-01-23 18:44:25.195000+00:00   \n",
       "9         2022-01-25 01:50:59+00:00   \n",
       "10        2022-01-25 13:52:17+00:00   \n",
       "11 2022-01-28 18:44:30.749000+00:00   \n",
       "12 2022-01-30 18:28:04.518000+00:00   \n",
       "\n",
       "                                             geometry     sensor  \\\n",
       "0   POLYGON ((-119.51417 36.85466, -119.12637 35.2...  sentinel1   \n",
       "1   POLYGON ((-116.35956 34.08510, -115.96290 35.7...  sentinel1   \n",
       "2   POLYGON ((-118.09829 35.14991, -116.89284 35.1...  sentinel2   \n",
       "3   POLYGON ((-118.09829 35.14991, -116.89284 35.1...  sentinel2   \n",
       "4   POLYGON ((-119.51548 36.85461, -119.12757 35.2...  sentinel1   \n",
       "5   POLYGON ((-116.35944 34.08509, -115.96275 35.7...  sentinel1   \n",
       "6   POLYGON ((-118.09829 35.14991, -117.10661 35.1...   landsat8   \n",
       "7   POLYGON ((-118.09829 35.14991, -116.89284 35.1...  sentinel2   \n",
       "8   POLYGON ((-118.09829 35.14991, -116.89284 35.1...  sentinel2   \n",
       "9   POLYGON ((-119.51542 36.85430, -119.12750 35.2...  sentinel1   \n",
       "10  POLYGON ((-116.35883 34.08535, -115.96218 35.7...  sentinel1   \n",
       "11  POLYGON ((-118.09829 35.14991, -116.89284 35.1...  sentinel2   \n",
       "12  POLYGON ((-118.09829 35.14991, -117.10398 35.1...   landsat8   \n",
       "\n",
       "                                               fileID                cadence  \n",
       "0   S1A_IW_SLC__1SDV_20220101T015100_20220101T0151...                    NaT  \n",
       "1   S1A_IW_SLC__1SDV_20220101T135218_20220101T1352...        0 days 12:01:18  \n",
       "2                  HLS.S30.T11SMV.2022003T183749.v2.0 2 days 04:52:08.649000  \n",
       "3                  HLS.S30.T11SMV.2022008T183741.v2.0 5 days 00:00:05.383000  \n",
       "4   S1A_IW_SLC__1SDV_20220113T015100_20220113T0151... 4 days 07:06:27.968000  \n",
       "5   S1A_IW_SLC__1SDV_20220113T135218_20220113T1352...        0 days 12:01:18  \n",
       "6                  HLS.L30.T11SMV.2022014T182809.v2.0 1 days 04:35:51.597000  \n",
       "7                  HLS.S30.T11SMV.2022018T183711.v2.0 4 days 00:16:21.270000  \n",
       "8                  HLS.S30.T11SMV.2022023T183649.v2.0 4 days 23:59:54.328000  \n",
       "9   S1A_IW_SLC__1SDV_20220125T015059_20220125T0151... 1 days 07:06:33.805000  \n",
       "10  S1A_IW_SLC__1SDV_20220125T135217_20220125T1352...        0 days 12:01:18  \n",
       "11                 HLS.S30.T11SMV.2022028T183631.v2.0 3 days 04:52:13.749000  \n",
       "12                 HLS.L30.T11SMV.2022030T182804.v2.0 1 days 23:43:33.769000  "
      ]
     },
     "execution_count": 87,
     "metadata": {},
     "output_type": "execute_result"
    }
   ],
   "source": [
    "master1"
   ]
  },
  {
   "cell_type": "code",
   "execution_count": 88,
   "id": "938b64db",
   "metadata": {},
   "outputs": [
    {
     "data": {
      "text/plain": [
       "Timedelta('2 days 11:23:05.376500')"
      ]
     },
     "execution_count": 88,
     "metadata": {},
     "output_type": "execute_result"
    }
   ],
   "source": [
    "master1.cadence.mean()"
   ]
  },
  {
   "cell_type": "code",
   "execution_count": 42,
   "id": "9c8a9815",
   "metadata": {
    "scrolled": true
   },
   "outputs": [
    {
     "name": "stderr",
     "output_type": "stream",
     "text": [
      "/Users/angelac/opera_coverage/opera_coverage/search.py:114: FutureWarning: The frame.append method is deprecated and will be removed from pandas in a future version. Use pandas.concat instead.\n",
      "  return cadence\n",
      "/Users/angelac/opera_coverage/opera_coverage/search.py:117: FutureWarning: The frame.append method is deprecated and will be removed from pandas in a future version. Use pandas.concat instead.\n",
      "  master = dfs[0].append(dfs[1])\n"
     ]
    }
   ],
   "source": [
    "freq2, next_acq2, area2, master2 = get_coverage(['sentinel1','sentinel2','landsat8'],waxlake,[datetime(2022,1,1), datetime(2022,2,1)])\n"
   ]
  },
  {
   "cell_type": "code",
   "execution_count": 43,
   "id": "20db5140",
   "metadata": {
    "scrolled": true
   },
   "outputs": [
    {
     "data": {
      "text/html": [
       "<div>\n",
       "<style scoped>\n",
       "    .dataframe tbody tr th:only-of-type {\n",
       "        vertical-align: middle;\n",
       "    }\n",
       "\n",
       "    .dataframe tbody tr th {\n",
       "        vertical-align: top;\n",
       "    }\n",
       "\n",
       "    .dataframe thead th {\n",
       "        text-align: right;\n",
       "    }\n",
       "</style>\n",
       "<table border=\"1\" class=\"dataframe\">\n",
       "  <thead>\n",
       "    <tr style=\"text-align: right;\">\n",
       "      <th></th>\n",
       "      <th>startTime</th>\n",
       "      <th>geometry</th>\n",
       "      <th>sensor</th>\n",
       "      <th>fileID</th>\n",
       "      <th>cadence</th>\n",
       "    </tr>\n",
       "  </thead>\n",
       "  <tbody>\n",
       "    <tr>\n",
       "      <th>0</th>\n",
       "      <td>2022-01-01 00:10:27+00:00</td>\n",
       "      <td>POLYGON ((-93.34817 30.30906, -92.98476 28.677...</td>\n",
       "      <td>sentinel1</td>\n",
       "      <td>S1A_IW_SLC__1SDV_20220101T001027_20220101T0010...</td>\n",
       "      <td>NaT</td>\n",
       "    </tr>\n",
       "    <tr>\n",
       "      <th>1</th>\n",
       "      <td>2022-01-05 16:55:32.822000+00:00</td>\n",
       "      <td>POLYGON ((-90.84993 28.82233, -90.82906 29.812...</td>\n",
       "      <td>sentinel2</td>\n",
       "      <td>HLS.S30.T15RXN.2022005T164701.v2.0</td>\n",
       "      <td>4 days 16:45:05.822000</td>\n",
       "    </tr>\n",
       "    <tr>\n",
       "      <th>2</th>\n",
       "      <td>2022-01-10 16:55:27.196000+00:00</td>\n",
       "      <td>POLYGON ((-90.84993 28.82233, -90.82906 29.812...</td>\n",
       "      <td>sentinel2</td>\n",
       "      <td>HLS.S30.T15RXN.2022010T164649.v2.0</td>\n",
       "      <td>4 days 23:59:54.374000</td>\n",
       "    </tr>\n",
       "    <tr>\n",
       "      <th>3</th>\n",
       "      <td>2022-01-13 00:10:27+00:00</td>\n",
       "      <td>POLYGON ((-93.34926 30.30864, -92.98592 28.677...</td>\n",
       "      <td>sentinel1</td>\n",
       "      <td>S1A_IW_SLC__1SDV_20220113T001027_20220113T0010...</td>\n",
       "      <td>2 days 07:14:59.804000</td>\n",
       "    </tr>\n",
       "    <tr>\n",
       "      <th>4</th>\n",
       "      <td>2022-01-15 16:55:31.947000+00:00</td>\n",
       "      <td>POLYGON ((-90.84993 28.82233, -90.82906 29.812...</td>\n",
       "      <td>sentinel2</td>\n",
       "      <td>HLS.S30.T15RXN.2022015T164641.v2.0</td>\n",
       "      <td>2 days 16:45:04.947000</td>\n",
       "    </tr>\n",
       "    <tr>\n",
       "      <th>5</th>\n",
       "      <td>2022-01-16 16:38:29.896000+00:00</td>\n",
       "      <td>POLYGON ((-91.07672 28.82576, -90.83072 29.735...</td>\n",
       "      <td>landsat8</td>\n",
       "      <td>HLS.L30.T15RXN.2022016T163829.v2.0</td>\n",
       "      <td>0 days 23:42:57.949000</td>\n",
       "    </tr>\n",
       "    <tr>\n",
       "      <th>6</th>\n",
       "      <td>2022-01-25 00:10:26+00:00</td>\n",
       "      <td>POLYGON ((-93.34921 30.30866, -92.98589 28.677...</td>\n",
       "      <td>sentinel1</td>\n",
       "      <td>S1A_IW_SLC__1SDV_20220125T001026_20220125T0010...</td>\n",
       "      <td>8 days 07:31:56.104000</td>\n",
       "    </tr>\n",
       "    <tr>\n",
       "      <th>7</th>\n",
       "      <td>2022-01-30 16:55:25.306000+00:00</td>\n",
       "      <td>POLYGON ((-90.84993 28.82233, -90.82906 29.812...</td>\n",
       "      <td>sentinel2</td>\n",
       "      <td>HLS.S30.T15RXN.2022030T164529.v2.0</td>\n",
       "      <td>5 days 16:44:59.306000</td>\n",
       "    </tr>\n",
       "  </tbody>\n",
       "</table>\n",
       "</div>"
      ],
      "text/plain": [
       "                         startTime  \\\n",
       "0        2022-01-01 00:10:27+00:00   \n",
       "1 2022-01-05 16:55:32.822000+00:00   \n",
       "2 2022-01-10 16:55:27.196000+00:00   \n",
       "3        2022-01-13 00:10:27+00:00   \n",
       "4 2022-01-15 16:55:31.947000+00:00   \n",
       "5 2022-01-16 16:38:29.896000+00:00   \n",
       "6        2022-01-25 00:10:26+00:00   \n",
       "7 2022-01-30 16:55:25.306000+00:00   \n",
       "\n",
       "                                            geometry     sensor  \\\n",
       "0  POLYGON ((-93.34817 30.30906, -92.98476 28.677...  sentinel1   \n",
       "1  POLYGON ((-90.84993 28.82233, -90.82906 29.812...  sentinel2   \n",
       "2  POLYGON ((-90.84993 28.82233, -90.82906 29.812...  sentinel2   \n",
       "3  POLYGON ((-93.34926 30.30864, -92.98592 28.677...  sentinel1   \n",
       "4  POLYGON ((-90.84993 28.82233, -90.82906 29.812...  sentinel2   \n",
       "5  POLYGON ((-91.07672 28.82576, -90.83072 29.735...   landsat8   \n",
       "6  POLYGON ((-93.34921 30.30866, -92.98589 28.677...  sentinel1   \n",
       "7  POLYGON ((-90.84993 28.82233, -90.82906 29.812...  sentinel2   \n",
       "\n",
       "                                              fileID                cadence  \n",
       "0  S1A_IW_SLC__1SDV_20220101T001027_20220101T0010...                    NaT  \n",
       "1                 HLS.S30.T15RXN.2022005T164701.v2.0 4 days 16:45:05.822000  \n",
       "2                 HLS.S30.T15RXN.2022010T164649.v2.0 4 days 23:59:54.374000  \n",
       "3  S1A_IW_SLC__1SDV_20220113T001027_20220113T0010... 2 days 07:14:59.804000  \n",
       "4                 HLS.S30.T15RXN.2022015T164641.v2.0 2 days 16:45:04.947000  \n",
       "5                 HLS.L30.T15RXN.2022016T163829.v2.0 0 days 23:42:57.949000  \n",
       "6  S1A_IW_SLC__1SDV_20220125T001026_20220125T0010... 8 days 07:31:56.104000  \n",
       "7                 HLS.S30.T15RXN.2022030T164529.v2.0 5 days 16:44:59.306000  "
      ]
     },
     "execution_count": 43,
     "metadata": {},
     "output_type": "execute_result"
    }
   ],
   "source": [
    "master2"
   ]
  },
  {
   "cell_type": "code",
   "execution_count": 52,
   "id": "a3fc14d4",
   "metadata": {},
   "outputs": [
    {
     "data": {
      "text/plain": [
       "Timedelta('4 days 05:49:16.900857142')"
      ]
     },
     "execution_count": 52,
     "metadata": {},
     "output_type": "execute_result"
    }
   ],
   "source": [
    "master2.cadence.mean()"
   ]
  },
  {
   "cell_type": "code",
   "execution_count": 83,
   "id": "1fbb5e17",
   "metadata": {
    "scrolled": true
   },
   "outputs": [
    {
     "name": "stderr",
     "output_type": "stream",
     "text": [
      "/Users/angelac/opera_coverage/opera_coverage/search.py:114: FutureWarning: The frame.append method is deprecated and will be removed from pandas in a future version. Use pandas.concat instead.\n",
      "  return cadence\n",
      "/Users/angelac/opera_coverage/opera_coverage/search.py:117: FutureWarning: The frame.append method is deprecated and will be removed from pandas in a future version. Use pandas.concat instead.\n",
      "  master = dfs[0].append(dfs[1])\n"
     ]
    }
   ],
   "source": [
    "freq3, next_acq3, area3, master3 = get_coverage(['sentinel1','sentinel2','landsat8'],laurentides,[datetime(2022,1,1), datetime(2022,2,1)])\n"
   ]
  },
  {
   "cell_type": "code",
   "execution_count": 84,
   "id": "712df652",
   "metadata": {
    "scrolled": true
   },
   "outputs": [
    {
     "data": {
      "text/html": [
       "<div>\n",
       "<style scoped>\n",
       "    .dataframe tbody tr th:only-of-type {\n",
       "        vertical-align: middle;\n",
       "    }\n",
       "\n",
       "    .dataframe tbody tr th {\n",
       "        vertical-align: top;\n",
       "    }\n",
       "\n",
       "    .dataframe thead th {\n",
       "        text-align: right;\n",
       "    }\n",
       "</style>\n",
       "<table border=\"1\" class=\"dataframe\">\n",
       "  <thead>\n",
       "    <tr style=\"text-align: right;\">\n",
       "      <th></th>\n",
       "      <th>startTime</th>\n",
       "      <th>geometry</th>\n",
       "      <th>sensor</th>\n",
       "      <th>fileID</th>\n",
       "      <th>cadence</th>\n",
       "    </tr>\n",
       "  </thead>\n",
       "  <tbody>\n",
       "    <tr>\n",
       "      <th>0</th>\n",
       "      <td>2022-01-03 16:10:18.694000+00:00</td>\n",
       "      <td>POLYGON ((-76.28945 45.95828, -76.31456 46.946...</td>\n",
       "      <td>sentinel2</td>\n",
       "      <td>HLS.S30.T18TWS.2022003T160651.v2.0</td>\n",
       "      <td>NaT</td>\n",
       "    </tr>\n",
       "    <tr>\n",
       "      <th>1</th>\n",
       "      <td>2022-01-08 15:44:18.159000+00:00</td>\n",
       "      <td>POLYGON ((-73.55749 46.94462, -73.58334 45.956...</td>\n",
       "      <td>landsat8</td>\n",
       "      <td>HLS.L30.T18TVS.2022008T154418.v2.0</td>\n",
       "      <td>4 days 23:33:59.465000</td>\n",
       "    </tr>\n",
       "    <tr>\n",
       "      <th>2</th>\n",
       "      <td>2022-01-08 16:10:13.037000+00:00</td>\n",
       "      <td>POLYGON ((-76.29100 45.95826, -76.31456 46.946...</td>\n",
       "      <td>sentinel2</td>\n",
       "      <td>HLS.S30.T18TWS.2022008T160639.v2.0</td>\n",
       "      <td>0 days 00:25:54.878000</td>\n",
       "    </tr>\n",
       "    <tr>\n",
       "      <th>3</th>\n",
       "      <td>2022-01-10 16:00:22.022000+00:00</td>\n",
       "      <td>POLYGON ((-73.55749 46.94462, -73.58334 45.956...</td>\n",
       "      <td>sentinel2</td>\n",
       "      <td>HLS.S30.T18TWS.2022010T155631.v2.0</td>\n",
       "      <td>1 days 23:50:08.985000</td>\n",
       "    </tr>\n",
       "    <tr>\n",
       "      <th>4</th>\n",
       "      <td>2022-01-10 22:52:36+00:00</td>\n",
       "      <td>POLYGON ((-76.75502 46.30980, -76.29864 44.693...</td>\n",
       "      <td>sentinel1</td>\n",
       "      <td>S1A_IW_SLC__1SDV_20220110T225236_20220110T2253...</td>\n",
       "      <td>0 days 06:52:13.978000</td>\n",
       "    </tr>\n",
       "    <tr>\n",
       "      <th>5</th>\n",
       "      <td>2022-01-13 16:10:17.984000+00:00</td>\n",
       "      <td>POLYGON ((-76.29100 45.95826, -76.31456 46.946...</td>\n",
       "      <td>sentinel2</td>\n",
       "      <td>HLS.S30.T18TWS.2022013T160631.v2.0</td>\n",
       "      <td>2 days 17:17:41.984000</td>\n",
       "    </tr>\n",
       "    <tr>\n",
       "      <th>6</th>\n",
       "      <td>2022-01-15 15:50:27.751000+00:00</td>\n",
       "      <td>POLYGON ((-74.87403 45.96548, -76.29100 45.958...</td>\n",
       "      <td>landsat8</td>\n",
       "      <td>HLS.L30.T18TVS.2022015T155027.v2.0</td>\n",
       "      <td>1 days 23:40:09.767000</td>\n",
       "    </tr>\n",
       "    <tr>\n",
       "      <th>7</th>\n",
       "      <td>2022-01-15 16:00:16.442000+00:00</td>\n",
       "      <td>POLYGON ((-73.55749 46.94462, -73.58334 45.956...</td>\n",
       "      <td>sentinel2</td>\n",
       "      <td>HLS.S30.T18TWS.2022015T155609.v2.0</td>\n",
       "      <td>0 days 00:09:48.691000</td>\n",
       "    </tr>\n",
       "    <tr>\n",
       "      <th>8</th>\n",
       "      <td>2022-01-18 16:10:12.397000+00:00</td>\n",
       "      <td>POLYGON ((-76.29100 45.95826, -76.31456 46.946...</td>\n",
       "      <td>sentinel2</td>\n",
       "      <td>HLS.S30.T18TWS.2022018T160559.v2.0</td>\n",
       "      <td>3 days 00:09:55.955000</td>\n",
       "    </tr>\n",
       "    <tr>\n",
       "      <th>9</th>\n",
       "      <td>2022-01-20 16:00:20.645000+00:00</td>\n",
       "      <td>POLYGON ((-73.55749 46.94462, -73.58334 45.956...</td>\n",
       "      <td>sentinel2</td>\n",
       "      <td>HLS.S30.T18TWS.2022020T155551.v2.0</td>\n",
       "      <td>1 days 23:50:08.248000</td>\n",
       "    </tr>\n",
       "    <tr>\n",
       "      <th>10</th>\n",
       "      <td>2022-01-22 22:52:35+00:00</td>\n",
       "      <td>POLYGON ((-76.75378 46.30882, -76.29739 44.692...</td>\n",
       "      <td>sentinel1</td>\n",
       "      <td>S1A_IW_SLC__1SDV_20220122T225235_20220122T2253...</td>\n",
       "      <td>2 days 06:52:14.355000</td>\n",
       "    </tr>\n",
       "    <tr>\n",
       "      <th>11</th>\n",
       "      <td>2022-01-23 16:10:17.068000+00:00</td>\n",
       "      <td>POLYGON ((-76.29100 45.95826, -76.31456 46.946...</td>\n",
       "      <td>sentinel2</td>\n",
       "      <td>HLS.S30.T18TWS.2022023T160551.v2.0</td>\n",
       "      <td>0 days 17:17:42.068000</td>\n",
       "    </tr>\n",
       "    <tr>\n",
       "      <th>12</th>\n",
       "      <td>2022-01-24 15:44:13.503000+00:00</td>\n",
       "      <td>POLYGON ((-73.55749 46.94462, -73.58334 45.956...</td>\n",
       "      <td>landsat8</td>\n",
       "      <td>HLS.L30.T18TVS.2022024T154413.v2.0</td>\n",
       "      <td>0 days 23:33:56.435000</td>\n",
       "    </tr>\n",
       "    <tr>\n",
       "      <th>13</th>\n",
       "      <td>2022-01-25 16:00:14.950000+00:00</td>\n",
       "      <td>POLYGON ((-73.55749 46.94462, -73.58334 45.956...</td>\n",
       "      <td>sentinel2</td>\n",
       "      <td>HLS.S30.T18TWS.2022025T155529.v2.0</td>\n",
       "      <td>1 days 00:16:01.447000</td>\n",
       "    </tr>\n",
       "    <tr>\n",
       "      <th>14</th>\n",
       "      <td>2022-01-28 16:10:10.869000+00:00</td>\n",
       "      <td>POLYGON ((-76.29100 45.95826, -76.31456 46.946...</td>\n",
       "      <td>sentinel2</td>\n",
       "      <td>HLS.S30.T18TWS.2022028T160519.v2.0</td>\n",
       "      <td>3 days 00:09:55.919000</td>\n",
       "    </tr>\n",
       "    <tr>\n",
       "      <th>15</th>\n",
       "      <td>2022-01-30 16:00:20.857000+00:00</td>\n",
       "      <td>POLYGON ((-73.55749 46.94462, -73.58334 45.956...</td>\n",
       "      <td>sentinel2</td>\n",
       "      <td>HLS.S30.T18TWS.2022030T155511.v2.0</td>\n",
       "      <td>1 days 23:50:09.988000</td>\n",
       "    </tr>\n",
       "    <tr>\n",
       "      <th>16</th>\n",
       "      <td>2022-01-31 15:50:22.884000+00:00</td>\n",
       "      <td>POLYGON ((-76.29100 45.95826, -76.31456 46.946...</td>\n",
       "      <td>landsat8</td>\n",
       "      <td>HLS.L30.T18TVS.2022031T155022.v2.0</td>\n",
       "      <td>0 days 23:50:02.027000</td>\n",
       "    </tr>\n",
       "  </tbody>\n",
       "</table>\n",
       "</div>"
      ],
      "text/plain": [
       "                          startTime  \\\n",
       "0  2022-01-03 16:10:18.694000+00:00   \n",
       "1  2022-01-08 15:44:18.159000+00:00   \n",
       "2  2022-01-08 16:10:13.037000+00:00   \n",
       "3  2022-01-10 16:00:22.022000+00:00   \n",
       "4         2022-01-10 22:52:36+00:00   \n",
       "5  2022-01-13 16:10:17.984000+00:00   \n",
       "6  2022-01-15 15:50:27.751000+00:00   \n",
       "7  2022-01-15 16:00:16.442000+00:00   \n",
       "8  2022-01-18 16:10:12.397000+00:00   \n",
       "9  2022-01-20 16:00:20.645000+00:00   \n",
       "10        2022-01-22 22:52:35+00:00   \n",
       "11 2022-01-23 16:10:17.068000+00:00   \n",
       "12 2022-01-24 15:44:13.503000+00:00   \n",
       "13 2022-01-25 16:00:14.950000+00:00   \n",
       "14 2022-01-28 16:10:10.869000+00:00   \n",
       "15 2022-01-30 16:00:20.857000+00:00   \n",
       "16 2022-01-31 15:50:22.884000+00:00   \n",
       "\n",
       "                                             geometry     sensor  \\\n",
       "0   POLYGON ((-76.28945 45.95828, -76.31456 46.946...  sentinel2   \n",
       "1   POLYGON ((-73.55749 46.94462, -73.58334 45.956...   landsat8   \n",
       "2   POLYGON ((-76.29100 45.95826, -76.31456 46.946...  sentinel2   \n",
       "3   POLYGON ((-73.55749 46.94462, -73.58334 45.956...  sentinel2   \n",
       "4   POLYGON ((-76.75502 46.30980, -76.29864 44.693...  sentinel1   \n",
       "5   POLYGON ((-76.29100 45.95826, -76.31456 46.946...  sentinel2   \n",
       "6   POLYGON ((-74.87403 45.96548, -76.29100 45.958...   landsat8   \n",
       "7   POLYGON ((-73.55749 46.94462, -73.58334 45.956...  sentinel2   \n",
       "8   POLYGON ((-76.29100 45.95826, -76.31456 46.946...  sentinel2   \n",
       "9   POLYGON ((-73.55749 46.94462, -73.58334 45.956...  sentinel2   \n",
       "10  POLYGON ((-76.75378 46.30882, -76.29739 44.692...  sentinel1   \n",
       "11  POLYGON ((-76.29100 45.95826, -76.31456 46.946...  sentinel2   \n",
       "12  POLYGON ((-73.55749 46.94462, -73.58334 45.956...   landsat8   \n",
       "13  POLYGON ((-73.55749 46.94462, -73.58334 45.956...  sentinel2   \n",
       "14  POLYGON ((-76.29100 45.95826, -76.31456 46.946...  sentinel2   \n",
       "15  POLYGON ((-73.55749 46.94462, -73.58334 45.956...  sentinel2   \n",
       "16  POLYGON ((-76.29100 45.95826, -76.31456 46.946...   landsat8   \n",
       "\n",
       "                                               fileID                cadence  \n",
       "0                  HLS.S30.T18TWS.2022003T160651.v2.0                    NaT  \n",
       "1                  HLS.L30.T18TVS.2022008T154418.v2.0 4 days 23:33:59.465000  \n",
       "2                  HLS.S30.T18TWS.2022008T160639.v2.0 0 days 00:25:54.878000  \n",
       "3                  HLS.S30.T18TWS.2022010T155631.v2.0 1 days 23:50:08.985000  \n",
       "4   S1A_IW_SLC__1SDV_20220110T225236_20220110T2253... 0 days 06:52:13.978000  \n",
       "5                  HLS.S30.T18TWS.2022013T160631.v2.0 2 days 17:17:41.984000  \n",
       "6                  HLS.L30.T18TVS.2022015T155027.v2.0 1 days 23:40:09.767000  \n",
       "7                  HLS.S30.T18TWS.2022015T155609.v2.0 0 days 00:09:48.691000  \n",
       "8                  HLS.S30.T18TWS.2022018T160559.v2.0 3 days 00:09:55.955000  \n",
       "9                  HLS.S30.T18TWS.2022020T155551.v2.0 1 days 23:50:08.248000  \n",
       "10  S1A_IW_SLC__1SDV_20220122T225235_20220122T2253... 2 days 06:52:14.355000  \n",
       "11                 HLS.S30.T18TWS.2022023T160551.v2.0 0 days 17:17:42.068000  \n",
       "12                 HLS.L30.T18TVS.2022024T154413.v2.0 0 days 23:33:56.435000  \n",
       "13                 HLS.S30.T18TWS.2022025T155529.v2.0 1 days 00:16:01.447000  \n",
       "14                 HLS.S30.T18TWS.2022028T160519.v2.0 3 days 00:09:55.919000  \n",
       "15                 HLS.S30.T18TWS.2022030T155511.v2.0 1 days 23:50:09.988000  \n",
       "16                 HLS.L30.T18TVS.2022031T155022.v2.0 0 days 23:50:02.027000  "
      ]
     },
     "execution_count": 84,
     "metadata": {},
     "output_type": "execute_result"
    }
   ],
   "source": [
    "master3"
   ]
  },
  {
   "cell_type": "code",
   "execution_count": 85,
   "id": "ec13d76b",
   "metadata": {},
   "outputs": [
    {
     "data": {
      "text/plain": [
       "Timedelta('1 days 17:58:45.261875')"
      ]
     },
     "execution_count": 85,
     "metadata": {},
     "output_type": "execute_result"
    }
   ],
   "source": [
    "master3.cadence.mean()"
   ]
  },
  {
   "cell_type": "raw",
   "id": "92287acc",
   "metadata": {},
   "source": [
    "print(freq1['landsat8'])\n",
    "print(next_acq1['landsat8'])\n",
    "print(freq1['sentinel1'])\n",
    "print(next_acq1['sentinel1'])\n",
    "print(freq1['sentinel2'])\n",
    "print(next_acq1['sentinel2'])"
   ]
  },
  {
   "cell_type": "raw",
   "id": "9af965e6",
   "metadata": {},
   "source": [
    "print(freq2['landsat8'])\n",
    "print(next_acq2['landsat8'])\n",
    "print(freq2['sentinel1'])\n",
    "print(next_acq2['sentinel1'])\n",
    "print(freq2['sentinel2'])\n",
    "print(next_acq2['sentinel2'])"
   ]
  },
  {
   "cell_type": "code",
   "execution_count": 19,
   "id": "a59f61f9",
   "metadata": {
    "scrolled": false
   },
   "outputs": [
    {
     "name": "stdout",
     "output_type": "stream",
     "text": [
      "['0:00:00', '7 days, 0:06:09.592000', '0:00:00', '8 days, 23:53:45.752000', '0:00:00', '7 days, 0:06:09.381000', '0:00:00']\n",
      "Time of next acquisition after 2022-02-01 00:00:00 is 2022-02-09 15:44:10.497000+00:00\n",
      "['11 days, 23:59:59']\n",
      "Time of next acquisition after 2022-02-01 00:00:00 is 2022-02-03 22:52:35+00:00\n",
      "['0:00:04.401000', '4 days, 23:59:49.942000', '0:00:04.398000', '1 day, 23:50:04.587000', '0:00:03.261000', '3 days, 0:09:52.701000', '0:00:04.405000', '1 day, 23:49:54.053000', '0:00:03.264000', '3 days, 0:09:52.691000', '0:00:04.402000', '1 day, 23:50:03.846000', '0:00:03.266000', '3 days, 0:09:53.157000', '0:00:04.402000', '1 day, 23:49:53.480000', '0:00:03.269000', '3 days, 0:09:52.650000', '0:00:04.407000', '1 day, 23:50:05.581000', '0:00:03.264000']\n",
      "Time of next acquisition after 2022-02-01 00:00:00 is 2022-02-04 16:00:15.136000+00:00\n"
     ]
    }
   ],
   "source": [
    "print(freq3['landsat8'])\n",
    "print(next_acq3['landsat8'])\n",
    "print(freq3['sentinel1'])\n",
    "print(next_acq3['sentinel1'])\n",
    "print(freq3['sentinel2'])\n",
    "print(next_acq3['sentinel2'])"
   ]
  },
  {
   "cell_type": "raw",
   "id": "7d445cb5",
   "metadata": {},
   "source": [
    "# print(area1['landsat8'])\n",
    "print(area1['sentinel1'])\n",
    "# print(area1['sentinel2'])"
   ]
  },
  {
   "cell_type": "markdown",
   "id": "6e19a66b",
   "metadata": {},
   "source": [
    "### Work in progress"
   ]
  },
  {
   "cell_type": "code",
   "execution_count": 91,
   "id": "4315340a",
   "metadata": {},
   "outputs": [
    {
     "data": {
      "text/plain": [
       "<AxesSubplot:>"
      ]
     },
     "execution_count": 91,
     "metadata": {},
     "output_type": "execute_result"
    },
    {
     "data": {
      "image/png": "[encoded data removed]",
      "text/plain": [
       "<Figure size 720x720 with 1 Axes>"
      ]
     },
     "metadata": {
      "needs_background": "light"
     },
     "output_type": "display_data"
    }
   ],
   "source": [
    "fig, ax = plt.subplots(figsize=(10, 10))\n",
    "master1.plot(column='sensor',alpha=0.25, legend=True, ax=ax)\n",
    "ridgecrest_df.plot(ax=ax)"
   ]
  },
  {
   "cell_type": "code",
   "execution_count": 90,
   "id": "865de1f4",
   "metadata": {},
   "outputs": [
    {
     "data": {
      "text/plain": [
       "<AxesSubplot:>"
      ]
     },
     "execution_count": 90,
     "metadata": {},
     "output_type": "execute_result"
    },
    {
     "data": {
      "image/png": "[encoded data removed]",
      "text/plain": [
       "<Figure size 720x720 with 1 Axes>"
      ]
     },
     "metadata": {
      "needs_background": "light"
     },
     "output_type": "display_data"
    }
   ],
   "source": [
    "fig, ax = plt.subplots(figsize=(10, 10))\n",
    "master2.plot(column='sensor',alpha=0.25, legend=True, ax=ax)\n",
    "waxlake_df.plot(ax=ax)"
   ]
  },
  {
   "cell_type": "code",
   "execution_count": 89,
   "id": "18eb39bd",
   "metadata": {},
   "outputs": [
    {
     "data": {
      "text/plain": [
       "<AxesSubplot:>"
      ]
     },
     "execution_count": 89,
     "metadata": {},
     "output_type": "execute_result"
    },
    {
     "data": {
      "image/png": "[encoded data removed]",
      "text/plain": [
       "<Figure size 720x720 with 1 Axes>"
      ]
     },
     "metadata": {
      "needs_background": "light"
     },
     "output_type": "display_data"
    }
   ],
   "source": [
    "fig, ax = plt.subplots(figsize=(10, 10))\n",
    "master3.plot(column='sensor',alpha=0.25, legend=True, ax=ax)\n",
    "laurentides_df.plot(ax=ax)"
   ]
  },
  {
   "cell_type": "code",
   "execution_count": 93,
   "id": "1fcfa038",
   "metadata": {},
   "outputs": [
    {
     "data": {
      "text/plain": [
       "geopandas.geodataframe.GeoDataFrame"
      ]
     },
     "execution_count": 93,
     "metadata": {},
     "output_type": "execute_result"
    }
   ],
   "source": [
    "type(master3)"
   ]
  },
  {
   "cell_type": "markdown",
   "id": "f23d7ea0",
   "metadata": {},
   "source": [
    "### The below cells are just for reminding what format the output results have"
   ]
  },
  {
   "cell_type": "code",
   "execution_count": null,
   "id": "87fbfbc4",
   "metadata": {
    "scrolled": true
   },
   "outputs": [],
   "source": [
    "wkt = laurentides.wkt\n",
    "opts = {\n",
    "    'platform': asf.PLATFORM.SENTINEL1,\n",
    "    'processingLevel': [asf.PRODUCT_TYPE.SLC],\n",
    "    'beamMode': [asf.BEAMMODE.IW],\n",
    "    'start': '2022-01-01T00:00:00Z',\n",
    "    'end': '2022-02-01T23:59:59Z'\n",
    "}\n",
    "results = asf.search(intersectsWith=wkt,**opts)\n",
    "print(len(results))"
   ]
  },
  {
   "cell_type": "code",
   "execution_count": null,
   "id": "82ad4b0e",
   "metadata": {
    "scrolled": true
   },
   "outputs": [],
   "source": [
    "sent1_forest = format_results_for_sent1(results)"
   ]
  },
  {
   "cell_type": "code",
   "execution_count": 56,
   "id": "abdd7b5c",
   "metadata": {
    "scrolled": true
   },
   "outputs": [],
   "source": [
    "STAC_URL = 'https://cmr.earthdata.nasa.gov/stac'\n",
    "api = Client.open(f'{STAC_URL}/LPCLOUD/')\n",
    "hls_collections = ['HLSS30.v2.0']\n",
    "search_params = {\"collections\": hls_collections,\n",
    "                 \"bbox\": [-75.0327, 46.0832, -74.8823, 46.1914], # list of xmin, ymin, xmax, ymax\n",
    "                 \"datetime\": [datetime(2022,1,1), datetime(2022,2,1)],\n",
    "                 }\n",
    "search_hls = api.search(**search_params)\n",
    "hls_collection = search_hls.get_all_items()\n",
    "g = list(hls_collection)\n",
    "# d[0].properties"
   ]
  },
  {
   "cell_type": "code",
   "execution_count": 74,
   "id": "ce8076af",
   "metadata": {},
   "outputs": [],
   "source": [
    "sent2_forest = format_results_for_hls(g,'sentinel2')"
   ]
  },
  {
   "cell_type": "code",
   "execution_count": null,
   "id": "21f1a2b4",
   "metadata": {},
   "outputs": [],
   "source": [
    "STAC_URL = 'https://cmr.earthdata.nasa.gov/stac'\n",
    "api = Client.open(f'{STAC_URL}/LPCLOUD/')\n",
    "hls_collections = ['HLSL30.v2.0']\n",
    "search_params = {\"collections\": hls_collections,\n",
    "                 \"bbox\": [-75.0327, 46.0832, -74.8823, 46.1914], # list of xmin, ymin, xmax, ymax\n",
    "                 \"datetime\": [datetime(2022,1,1), datetime(2022,2,1)],\n",
    "                 }\n",
    "search_hls = api.search(**search_params)\n",
    "hls_collection = search_hls.get_all_items()\n",
    "d = list(hls_collection)"
   ]
  },
  {
   "cell_type": "code",
   "execution_count": null,
   "id": "d0641e1f",
   "metadata": {},
   "outputs": [],
   "source": [
    "land8_forest = format_results_for_hls(d,'landsat8')"
   ]
  },
  {
   "cell_type": "raw",
   "id": "33e606d2",
   "metadata": {},
   "source": [
    "dir(d[0])"
   ]
  },
  {
   "cell_type": "code",
   "execution_count": null,
   "id": "986063da",
   "metadata": {
    "scrolled": true
   },
   "outputs": [],
   "source": [
    "d[1].to_dict()"
   ]
  },
  {
   "cell_type": "raw",
   "id": "dc4535c9",
   "metadata": {},
   "source": [
    "df.iloc[:2].to_file('test2.geojson',driver='GeoJSON')"
   ]
  },
  {
   "cell_type": "code",
   "execution_count": null,
   "id": "f9796374",
   "metadata": {},
   "outputs": [],
   "source": [
    "shape(area1['sentinel1'])"
   ]
  },
  {
   "cell_type": "markdown",
   "id": "0e70c955",
   "metadata": {},
   "source": [
    "# Visualization"
   ]
  },
  {
   "cell_type": "code",
   "execution_count": null,
   "id": "ea6206de",
   "metadata": {
    "scrolled": false
   },
   "outputs": [],
   "source": [
    "visual(df_dis.geometry)"
   ]
  },
  {
   "cell_type": "code",
   "execution_count": null,
   "id": "b15b3237",
   "metadata": {},
   "outputs": [],
   "source": [
    "find_overlap(df_dis.geometry)"
   ]
  },
  {
   "cell_type": "code",
   "execution_count": null,
   "id": "1ba30952",
   "metadata": {},
   "outputs": [],
   "source": [
    "visual(area1['sentinel1'],outline=True)"
   ]
  },
  {
   "cell_type": "code",
   "execution_count": null,
   "id": "a616698e",
   "metadata": {},
   "outputs": [],
   "source": [
    "visual(area1['sentinel1'])"
   ]
  },
  {
   "cell_type": "code",
   "execution_count": null,
   "id": "5bbe41ef",
   "metadata": {},
   "outputs": [],
   "source": [
    "visual(area1)"
   ]
  },
  {
   "cell_type": "code",
   "execution_count": null,
   "id": "c91cf66b",
   "metadata": {
    "scrolled": false
   },
   "outputs": [],
   "source": [
    "visual(area2)"
   ]
  },
  {
   "cell_type": "code",
   "execution_count": null,
   "id": "43820c9d",
   "metadata": {
    "scrolled": false
   },
   "outputs": [],
   "source": [
    "visual(area3)"
   ]
  },
  {
   "cell_type": "markdown",
   "id": "5d93bd22",
   "metadata": {},
   "source": [
    "### Deprecated"
   ]
  },
  {
   "cell_type": "raw",
   "id": "ee6db9da",
   "metadata": {},
   "source": [
    "Point(-121.5, 34.95)\n",
    "STAC_URL = 'https://earth-search.aws.element84.com/v0'\n",
    "api = Client.open(STAC_URL)\n",
    "url_collections = ['sentinel-s2-l2a-cogs']\n",
    "search_params = {\"collections\": url_collections,\n",
    "#                  \"bbox\": [-121.5, 34.95, -120.2, 36.25], # list of xmin, ymin, xmax, ymax\n",
    "                 \"datetime\": [datetime(2016,1,1), datetime(2016,2,1)],\n",
    "                 \"max_items\": 500}\n",
    "search_hls = api.search(**search_params)\n",
    "hls_collection = search_hls.get_all_items()\n",
    "d = list(hls_collection)"
   ]
  }
 ],
 "metadata": {
  "kernelspec": {
   "display_name": "Python 3 (ipykernel)",
   "language": "python",
   "name": "python3"
  },
  "language_info": {
   "codemirror_mode": {
    "name": "ipython",
    "version": 3
   },
   "file_extension": ".py",
   "mimetype": "text/x-python",
   "name": "python",
   "nbconvert_exporter": "python",
   "pygments_lexer": "ipython3",
   "version": "3.10.5"
  }
 },
 "nbformat": 4,
 "nbformat_minor": 5
}
