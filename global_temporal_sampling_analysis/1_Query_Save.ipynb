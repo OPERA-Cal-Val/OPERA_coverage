{
 "cells": [
  {
   "cell_type": "markdown",
   "id": "1c86a64a",
   "metadata": {},
   "source": [
    "## This notebook queries various DAACs for sensor cadences of [Sentinel-1, Sentinel-2, and Landsat8] and saves them to a file\n",
    "Inputs are area of interest (Polygon), date range (list of datetimes), and sampling resolution. Default sampling resolution is 1 degree longitude, 0.25 degree latitude."
   ]
  },
  {
   "cell_type": "code",
   "execution_count": 1,
   "id": "3752d875",
   "metadata": {},
   "outputs": [
    {
     "data": {
      "text/html": [
       "<style>.container { width:98% !important; }</style>"
      ],
      "text/plain": [
       "<IPython.core.display.HTML object>"
      ]
     },
     "execution_count": 1,
     "metadata": {},
     "output_type": "execute_result"
    }
   ],
   "source": [
    "from IPython.core.display import HTML\n",
    "HTML(\"<style>.container { width:98% !important; }</style>\")"
   ]
  },
  {
   "cell_type": "code",
   "execution_count": 2,
   "id": "531c286d",
   "metadata": {},
   "outputs": [],
   "source": [
    "%load_ext autoreload\n",
    "%autoreload 2"
   ]
  },
  {
   "cell_type": "code",
   "execution_count": 3,
   "id": "a3bd74de",
   "metadata": {},
   "outputs": [],
   "source": [
    "# GIS imports\n",
    "from shapely.geometry import Polygon, shape, Point\n",
    "from opera_coverage import *\n",
    "import geopandas as gpd\n",
    "import pandas as pd\n",
    "from shapely.geometry import box, Point\n",
    "from rasterio.crs import CRS\n",
    "\n",
    "# Misc imports\n",
    "import numpy as np\n",
    "from itertools import product\n",
    "from pathlib import Path\n",
    "from datetime import datetime\n",
    "from tqdm import tqdm\n",
    "import concurrent.futures\n",
    "from typing import List"
   ]
  },
  {
   "cell_type": "code",
   "execution_count": 4,
   "id": "664609d0",
   "metadata": {},
   "outputs": [],
   "source": [
    "output_path = Path('../output_dfs')\n",
    "output_path.mkdir(exist_ok=True)"
   ]
  },
  {
   "cell_type": "code",
   "execution_count": 5,
   "id": "4d9faa12",
   "metadata": {},
   "outputs": [],
   "source": [
    "# helper functions\n",
    "import sys\n",
    "import time\n",
    "\n",
    "# wrapper function for get_coverage, returns string if thread crashed while running\n",
    "def get_cadence_df(geo:Polygon, daterange:List[datetime]):\n",
    "#     results = pd.DataFrame(columns=['center_x','center_y','startTime','geometry','sensor','fileID'])\n",
    "    for i in range(3):\n",
    "        try:\n",
    "            df = get_coverage(['sentinel1','sentinel2','landsat8'], geo, daterange)\n",
    "            df['center_x'] = geo.centroid.x\n",
    "            df['center_y'] = geo.centroid.y\n",
    "            return df\n",
    "        except:\n",
    "            print(\"Oops!\", str(sys.exc_info()[0]), \" occurred.\")\n",
    "            print(sys.exc_info()[1])\n",
    "            print(sys.exc_info()[2])\n",
    "            print(\"Attempt \" + str(i) + \" failed\")\n",
    "            time.sleep(2)\n",
    "    return 'Thread crashed'"
   ]
  },
  {
   "cell_type": "markdown",
   "id": "1f82d462",
   "metadata": {},
   "source": [
    "For continent geometries use Natural Earth Lowres from Geopandas"
   ]
  },
  {
   "cell_type": "code",
   "execution_count": 6,
   "id": "0c5c4ec6",
   "metadata": {},
   "outputs": [
    {
     "data": {
      "text/html": [
       "<div>\n",
       "<style scoped>\n",
       "    .dataframe tbody tr th:only-of-type {\n",
       "        vertical-align: middle;\n",
       "    }\n",
       "\n",
       "    .dataframe tbody tr th {\n",
       "        vertical-align: top;\n",
       "    }\n",
       "\n",
       "    .dataframe thead th {\n",
       "        text-align: right;\n",
       "    }\n",
       "</style>\n",
       "<table border=\"1\" class=\"dataframe\">\n",
       "  <thead>\n",
       "    <tr style=\"text-align: right;\">\n",
       "      <th></th>\n",
       "      <th>pop_est</th>\n",
       "      <th>continent</th>\n",
       "      <th>name</th>\n",
       "      <th>iso_a3</th>\n",
       "      <th>gdp_md_est</th>\n",
       "      <th>geometry</th>\n",
       "    </tr>\n",
       "  </thead>\n",
       "  <tbody>\n",
       "    <tr>\n",
       "      <th>0</th>\n",
       "      <td>889953.0</td>\n",
       "      <td>Oceania</td>\n",
       "      <td>Fiji</td>\n",
       "      <td>FJI</td>\n",
       "      <td>5496</td>\n",
       "      <td>MULTIPOLYGON (((180.00000 -16.06713, 180.00000...</td>\n",
       "    </tr>\n",
       "    <tr>\n",
       "      <th>1</th>\n",
       "      <td>58005463.0</td>\n",
       "      <td>Africa</td>\n",
       "      <td>Tanzania</td>\n",
       "      <td>TZA</td>\n",
       "      <td>63177</td>\n",
       "      <td>POLYGON ((33.90371 -0.95000, 34.07262 -1.05982...</td>\n",
       "    </tr>\n",
       "    <tr>\n",
       "      <th>2</th>\n",
       "      <td>603253.0</td>\n",
       "      <td>Africa</td>\n",
       "      <td>W. Sahara</td>\n",
       "      <td>ESH</td>\n",
       "      <td>907</td>\n",
       "      <td>POLYGON ((-8.66559 27.65643, -8.66512 27.58948...</td>\n",
       "    </tr>\n",
       "    <tr>\n",
       "      <th>3</th>\n",
       "      <td>37589262.0</td>\n",
       "      <td>North America</td>\n",
       "      <td>Canada</td>\n",
       "      <td>CAN</td>\n",
       "      <td>1736425</td>\n",
       "      <td>MULTIPOLYGON (((-122.84000 49.00000, -122.9742...</td>\n",
       "    </tr>\n",
       "    <tr>\n",
       "      <th>4</th>\n",
       "      <td>328239523.0</td>\n",
       "      <td>North America</td>\n",
       "      <td>United States of America</td>\n",
       "      <td>USA</td>\n",
       "      <td>21433226</td>\n",
       "      <td>MULTIPOLYGON (((-122.84000 49.00000, -120.0000...</td>\n",
       "    </tr>\n",
       "  </tbody>\n",
       "</table>\n",
       "</div>"
      ],
      "text/plain": [
       "       pop_est      continent                      name iso_a3  gdp_md_est  \\\n",
       "0     889953.0        Oceania                      Fiji    FJI        5496   \n",
       "1   58005463.0         Africa                  Tanzania    TZA       63177   \n",
       "2     603253.0         Africa                 W. Sahara    ESH         907   \n",
       "3   37589262.0  North America                    Canada    CAN     1736425   \n",
       "4  328239523.0  North America  United States of America    USA    21433226   \n",
       "\n",
       "                                            geometry  \n",
       "0  MULTIPOLYGON (((180.00000 -16.06713, 180.00000...  \n",
       "1  POLYGON ((33.90371 -0.95000, 34.07262 -1.05982...  \n",
       "2  POLYGON ((-8.66559 27.65643, -8.66512 27.58948...  \n",
       "3  MULTIPOLYGON (((-122.84000 49.00000, -122.9742...  \n",
       "4  MULTIPOLYGON (((-122.84000 49.00000, -120.0000...  "
      ]
     },
     "execution_count": 6,
     "metadata": {},
     "output_type": "execute_result"
    }
   ],
   "source": [
    "world = gpd.read_file(gpd.datasets.get_path('naturalearth_lowres'))\n",
    "world.head()"
   ]
  },
  {
   "cell_type": "code",
   "execution_count": 7,
   "id": "5b3c6847",
   "metadata": {},
   "outputs": [],
   "source": [
    "# creates Polygon or Multipolygon of each continent\n",
    "def create_polygon(continent):\n",
    "    df = world[world.continent == continent]\n",
    "    return df.geometry.unary_union"
   ]
  },
  {
   "cell_type": "code",
   "execution_count": 8,
   "id": "fc957bcb",
   "metadata": {},
   "outputs": [],
   "source": [
    "polygon_dict = {key:value for key,value in zip(sorted(world.continent.unique()), list(map(create_polygon, sorted(world.continent.unique()))))}\n",
    "del polygon_dict['Antarctica'],polygon_dict['Seven seas (open ocean)']"
   ]
  },
  {
   "cell_type": "code",
   "execution_count": 9,
   "id": "9c9d9c98",
   "metadata": {},
   "outputs": [],
   "source": [
    "# main function, takes an area of interest as a polygon and a daterange as a list of two datetimes\n",
    "# grid resolution can be changed from default values\n",
    "def get_area_coverage(aoi: Polygon, date: List[datetime], x_res = 1, y_res = 0.25, radius = 0.1):\n",
    "\n",
    "    df_points = grid_intersect(aoi, x_res, y_res, radius)\n",
    "    results = lookup(df_points, date)\n",
    "    \n",
    "    return results"
   ]
  },
  {
   "cell_type": "code",
   "execution_count": 10,
   "id": "30368074",
   "metadata": {},
   "outputs": [],
   "source": [
    "# creates an array of polygon circles within the rectangular bounds of the aoi, then takes intersection with the aoi, returns dataframe\n",
    "def grid_intersect(aoi: Polygon, x_res, y_res, radius):\n",
    "    \n",
    "    x_start, y_start, x_end, y_end = aoi.bounds\n",
    "    df = make_grid(x_start, y_start, x_end, y_end, x_res, y_res, radius)\n",
    "    indices = df.geometry.intersects(aoi)\n",
    "    \n",
    "    return df[indices].reset_index(drop=True)"
   ]
  },
  {
   "cell_type": "code",
   "execution_count": 11,
   "id": "d8cb90d7",
   "metadata": {},
   "outputs": [],
   "source": [
    "# for each geometry in dataframe, runs search through asf and hls search, reformats to dataframe\n",
    "def lookup(df_points: gpd.GeoDataFrame, daterange) -> gpd.GeoDataFrame:\n",
    "    results = []\n",
    "\n",
    "    for i in range(len(df_points) // 200 + 1):\n",
    "        with concurrent.futures.ThreadPoolExecutor(max_workers=5) as executor:\n",
    "            results += list(executor.map(get_cadence_df, tqdm(df_points.geometry[(i * 200):(i + 1) * 200]), [daterange] * 200))\n",
    "    \n",
    "    fail_geometries = [df_points.geometry[j] for j,data in enumerate(results) if type(data) is str]\n",
    "    print(len(fail_geometries))\n",
    "    \n",
    "    for i in range(len(fail_geometries) // 200 + 1):\n",
    "            with concurrent.futures.ThreadPoolExecutor(max_workers=5) as executor:\n",
    "                results += list(executor.map(get_cadence_df, tqdm(fail_geometries[(i * 200):(i + 1) * 200]), [daterange] * 200))\n",
    "    \n",
    "    results = pd.concat([i for i in results if type(i) is not str])\n",
    "        \n",
    "    return results"
   ]
  },
  {
   "cell_type": "code",
   "execution_count": 12,
   "id": "082f0907",
   "metadata": {},
   "outputs": [],
   "source": [
    "# Make grid with specified x and y resolution, returns as geodataframe\n",
    "def make_grid(x_start, y_start, x_end, y_end, x_res = 1, y_res = 0.25, radius = 0.1):\n",
    "    lon_lat = list(product(\n",
    "                np.linspace(x_start + (x_res/2), x_end - (x_res/2), int((x_end - x_start) / x_res)), \n",
    "                np.linspace(y_start + (y_res/2), y_end - (y_res/2), int((y_end - y_start) / y_res))\n",
    "                ))\n",
    "\n",
    "    geometry = [Point(lon, lat).buffer(radius) for lon, lat in lon_lat]\n",
    "\n",
    "    center_x = [lon for lon, _ in lon_lat]\n",
    "    center_y = [lat for _, lat in lon_lat]\n",
    "\n",
    "    df = gpd.GeoDataFrame({'center_x':center_x, 'center_y':center_y}, geometry = geometry, crs=CRS.from_epsg(4326))\n",
    "    \n",
    "    return df"
   ]
  },
  {
   "cell_type": "code",
   "execution_count": null,
   "id": "55e4075b",
   "metadata": {},
   "outputs": [
    {
     "name": "stderr",
     "output_type": "stream",
     "text": [
      "100%|████████████████████████████████████████████████████████████| 200/200 [00:00<00:00, 8668.87it/s]\n"
     ]
    }
   ],
   "source": [
    "for key,value in polygon_dict.items():\n",
    "    df = get_area_coverage(value, [datetime(2021,1,1),datetime(2021,2,1)], x_res = 1, y_res = 1, radius = 0.1)\n",
    "    df.to_pickle(output_path/f\"{key}2021_1_results.pkl\")"
   ]
  },
  {
   "cell_type": "raw",
   "id": "d9a5027d",
   "metadata": {
    "scrolled": true
   },
   "source": [
    "df = get_area_coverage(polygon_dict['Africa'], [datetime(2022,1,1),datetime(2022,2,1)], x_res = 1.0, y_res = 1.0, radius = 0.1)\n",
    "df.to_pickle(output_path/\"Africa_condense11_results.pkl\")"
   ]
  },
  {
   "cell_type": "code",
   "execution_count": null,
   "id": "10486ec4",
   "metadata": {},
   "outputs": [],
   "source": []
  }
 ],
 "metadata": {
  "kernelspec": {
   "display_name": "opera_coverage",
   "language": "python",
   "name": "opera_coverage"
  },
  "language_info": {
   "codemirror_mode": {
    "name": "ipython",
    "version": 3
   },
   "file_extension": ".py",
   "mimetype": "text/x-python",
   "name": "python",
   "nbconvert_exporter": "python",
   "pygments_lexer": "ipython3",
   "version": "3.10.5"
  },
  "vscode": {
   "interpreter": {
    "hash": "4e909d445d723bb2dba5131425356ffa010b09313feae9881b38428b96d8b80b"
   }
  }
 },
 "nbformat": 4,
 "nbformat_minor": 5
}
